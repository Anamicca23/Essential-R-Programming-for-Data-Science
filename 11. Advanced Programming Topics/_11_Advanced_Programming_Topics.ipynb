{
  "nbformat": 4,
  "nbformat_minor": 0,
  "metadata": {
    "colab": {
      "provenance": [],
      "toc_visible": true
    },
    "kernelspec": {
      "name": "ir",
      "display_name": "R"
    },
    "language_info": {
      "name": "R"
    }
  },
  "cells": [
    {
      "cell_type": "markdown",
      "source": [
        "#  ***11. Advanced Programming Topics**"
      ],
      "metadata": {
        "id": "RDXgxKUdG485"
      }
    },
    {
      "cell_type": "markdown",
      "source": [
        "## **11.1. Methods**\n",
        "\n",
        "In R, objects are organized using object-oriented programming principles where each object can belong to a specific \"class\". The class of an object determines how functions like `print()`, `summary()`, and others behave when applied to that object.\n",
        "\n",
        "For instance, when you use `print(x)` in R, the software first checks the class attribute of `x`. If `x` has a class attribute, such as \"factor\", R will use a specialized printing function like `print.factor()` to display `x`. If `x` does not have a class attribute assigned, R defaults to using `print.default()`.\n",
        "\n",
        "Classes in R can also have hierarchical relationships. An object's class attribute can be a vector of strings where the first element specifies its immediate class. If the object belongs to a subclass like an ordered factor, which inherits properties from the \"factor\" class, its class vector would look like \"ordered\" followed by \"factor\". This inheritance allows functions to apply specialized behaviors while still leveraging common functionalities defined for ancestor classes.\n",
        "\n",
        "Understanding the class structure of objects in R helps you predict and control how different functions interpret and interact with your data, ensuring appropriate handling and interpretation based on its type and attributes."
      ],
      "metadata": {
        "id": "j8_-hMGMG8hN"
      }
    },
    {
      "cell_type": "code",
      "source": [
        " fac<-ordered(1:3)\n",
        " class(fac)"
      ],
      "metadata": {
        "colab": {
          "base_uri": "https://localhost:8080/",
          "height": 34
        },
        "id": "xIRpqmECI2du",
        "outputId": "6ad11516-d5f6-4bf1-b495-635d082aee92"
      },
      "execution_count": 1,
      "outputs": [
        {
          "output_type": "display_data",
          "data": {
            "text/html": [
              "<style>\n",
              ".list-inline {list-style: none; margin:0; padding: 0}\n",
              ".list-inline>li {display: inline-block}\n",
              ".list-inline>li:not(:last-child)::after {content: \"\\00b7\"; padding: 0 .5ex}\n",
              "</style>\n",
              "<ol class=list-inline><li>'ordered'</li><li>'factor'</li></ol>\n"
            ],
            "text/markdown": "1. 'ordered'\n2. 'factor'\n\n\n",
            "text/latex": "\\begin{enumerate*}\n\\item 'ordered'\n\\item 'factor'\n\\end{enumerate*}\n",
            "text/plain": [
              "[1] \"ordered\" \"factor\" "
            ]
          },
          "metadata": {}
        }
      ]
    },
    {
      "cell_type": "markdown",
      "source": [
        "Here fac has the class “ordered”, which inherits from the parent class “factor”.\n",
        "The function print.ordered(), which is the function that is called when you invoke print() with an\n",
        "ordered factor, could be rewritten to use the fact that “ordered” inherits from “factor”, thus:"
      ],
      "metadata": {
        "id": "0DyzOgu9I9CO"
      }
    },
    {
      "cell_type": "code",
      "source": [
        "print.ordered <- function(x, quote = FALSE) {\n",
        "  if (length(x) <= 0) {\n",
        "    cat(\"ordered(0)\\n\")\n",
        "  } else {\n",
        "    NextMethod(\"print\")\n",
        "    cat(\"Levels: \", paste(levels(x), collapse = \" < \"), \"\\n\")\n",
        "  }\n",
        "  invisible(x)\n",
        "}\n",
        "\n",
        "print.ordered"
      ],
      "metadata": {
        "colab": {
          "base_uri": "https://localhost:8080/",
          "height": 208
        },
        "id": "r1aO7RdxI-5B",
        "outputId": "fddde55f-39a7-4e1d-b6b6-2daef8de37b6"
      },
      "execution_count": 8,
      "outputs": [
        {
          "output_type": "display_data",
          "data": {
            "text/html": [
              "<pre class=language-r><code>function (x, quote = FALSE) \n",
              "{\n",
              "<span style=white-space:pre-wrap>    if (length(x) &lt;= 0) {</span>\n",
              "<span style=white-space:pre-wrap>        cat(\"ordered(0)\\n\")</span>\n",
              "<span style=white-space:pre-wrap>    }</span>\n",
              "<span style=white-space:pre-wrap>    else {</span>\n",
              "<span style=white-space:pre-wrap>        NextMethod(\"print\")</span>\n",
              "<span style=white-space:pre-wrap>        cat(\"Levels: \", paste(levels(x), collapse = \" &lt; \"), \"\\n\")</span>\n",
              "<span style=white-space:pre-wrap>    }</span>\n",
              "<span style=white-space:pre-wrap>    invisible(x)</span>\n",
              "}</code></pre>"
            ],
            "text/markdown": "```r\nfunction (x, quote = FALSE) \n{\n    if (length(x) <= 0) {\n        cat(\"ordered(0)\\n\")\n    }\n    else {\n        NextMethod(\"print\")\n        cat(\"Levels: \", paste(levels(x), collapse = \" < \"), \"\\n\")\n    }\n    invisible(x)\n}\n```",
            "text/latex": "\\begin{minted}{r}\nfunction (x, quote = FALSE) \n\\{\n    if (length(x) <= 0) \\{\n        cat(\"ordered(0)\\textbackslash{}n\")\n    \\}\n    else \\{\n        NextMethod(\"print\")\n        cat(\"Levels: \", paste(levels(x), collapse = \" < \"), \"\\textbackslash{}n\")\n    \\}\n    invisible(x)\n\\}\n\\end{minted}",
            "text/plain": [
              "function(x, quote = FALSE) {\n",
              "  if (length(x) <= 0) {\n",
              "    cat(\"ordered(0)\\n\")\n",
              "  } else {\n",
              "    NextMethod(\"print\")\n",
              "    cat(\"Levels: \", paste(levels(x), collapse = \" < \"), \"\\n\")\n",
              "  }\n",
              "  invisible(x)\n",
              "}"
            ]
          },
          "metadata": {}
        }
      ]
    },
    {
      "cell_type": "markdown",
      "source": [
        "The system version of print.ordered() does not use print.factor(). The function print.glm() does\n",
        "not call print.lm(), even though glm objects inherit from lm objects. The mechanism is avaialble for use if\n",
        "required."
      ],
      "metadata": {
        "id": "lWDaC_2AJAsm"
      }
    },
    {
      "cell_type": "markdown",
      "source": [
        "## **11.2 Extracting Arguments to Functions**\n",
        "\n",
        "How, inside a function, can one extract the value assigned to a parameter when the function was called? Below\n",
        "there is a function extract.arg(). When it is called as extract.arg(a=xx), we want it to return “xx”.\n",
        "When it is called as extract.arg(a=xy), we want it to return “xy”. Here is how it is done.\n",
        "\n"
      ],
      "metadata": {
        "id": "tAPR08TTKE9H"
      }
    },
    {
      "cell_type": "code",
      "source": [
        "extract.arg <-function (a)\n",
        "{\n",
        "s <- substitute(a)\n",
        "as.character(s)\n",
        "}\n",
        "extract.arg(a=xy)"
      ],
      "metadata": {
        "colab": {
          "base_uri": "https://localhost:8080/",
          "height": 34
        },
        "id": "N2YH9xl-KK83",
        "outputId": "0ef0972a-05da-4b28-c915-df2f723109fb"
      },
      "execution_count": 9,
      "outputs": [
        {
          "output_type": "display_data",
          "data": {
            "text/html": [
              "'xy'"
            ],
            "text/markdown": "'xy'",
            "text/latex": "'xy'",
            "text/plain": [
              "[1] \"xy\""
            ]
          },
          "metadata": {}
        }
      ]
    },
    {
      "cell_type": "code",
      "source": [
        "# If the argument is a function, we may want to get at the arguments to the function. Here is how one can do it\n",
        "\n",
        "deparse.args <-function (a){\n",
        "s <- substitute (a)\n",
        "if(mode(s) == \"call\"){\n",
        "# the first element of a 'call' is the function called\n",
        "# so we don't deparse that, just the arguments.\n",
        " print(paste(\"The function is: \", s[1],\"()\", collapse=\"\"))\n",
        "lapply (s[-1], function (x)\n",
        "paste (deparse(x), collapse = \"\\n\"))\n",
        " }\n",
        "else stop (\"argument is not a function call\")\n",
        "}\n",
        "\n",
        "deparse.args(list(x+y,foo(bar)))"
      ],
      "metadata": {
        "colab": {
          "base_uri": "https://localhost:8080/",
          "height": 97
        },
        "id": "579VpCcoKTIn",
        "outputId": "075c29ac-292f-4fa2-e842-c59087e34d54"
      },
      "execution_count": 11,
      "outputs": [
        {
          "output_type": "stream",
          "name": "stdout",
          "text": [
            "[1] \"The function is:  list ()\"\n"
          ]
        },
        {
          "output_type": "display_data",
          "data": {
            "text/html": [
              "<ol>\n",
              "\t<li>'x + y'</li>\n",
              "\t<li>'foo(bar)'</li>\n",
              "</ol>\n"
            ],
            "text/markdown": "1. 'x + y'\n2. 'foo(bar)'\n\n\n",
            "text/latex": "\\begin{enumerate}\n\\item 'x + y'\n\\item 'foo(bar)'\n\\end{enumerate}\n",
            "text/plain": [
              "[[1]]\n",
              "[1] \"x + y\"\n",
              "\n",
              "[[2]]\n",
              "[1] \"foo(bar)\"\n"
            ]
          },
          "metadata": {}
        }
      ]
    },
    {
      "cell_type": "markdown",
      "source": [
        "## **11.3 Parsing and Evaluation of Expressions**\n",
        "\n",
        "\n",
        "When R encounters an expression such as mean(x+y) or cbind(x,y), there are two steps:\n",
        "The text string is parsed and turned into an expression, i.e. the syntax is checked and it is turned into code that\n",
        "the R computing engine can more immediately evaluate.\n",
        "The expression is evaluated.\n",
        "Upon typing in\n",
        "\n",
        "expression(mean(x+y))\n",
        "\n",
        "the output is the unevaluated expression expression(mean(x+y)). Setting\n"
      ],
      "metadata": {
        "id": "lXVAHXD5Kvas"
      }
    },
    {
      "cell_type": "code",
      "source": [
        "my.exp <- expression(mean(x+y))"
      ],
      "metadata": {
        "id": "wuMopWGWK0uT"
      },
      "execution_count": 12,
      "outputs": []
    },
    {
      "cell_type": "markdown",
      "source": [
        "stores this unevaluated expression in my.exp . The actual contents of my.exp are a little different from what is\n",
        "printed out. R gives you as much information as it thinks helpful.\n",
        "Note that expression(mean(x+y)) is different from expression(“mean(x+y)”), as is obvious when the\n",
        "expression is evaluated. A text string is a text string is a text string, unless one explicitly changes it into an\n",
        "expression or part of an expression.\n",
        "Let’s see how this works in practice"
      ],
      "metadata": {
        "id": "NGvbV-KLK-4a"
      }
    },
    {
      "cell_type": "code",
      "source": [
        "x <- 101:110\n",
        "y <- 21:30\n",
        "my.exp <- expression(mean(x+y))\n",
        "my.txt <- expression(\"mean(x+y)\")\n",
        "eval(my.exp)\n",
        "eval(my.txt)\n"
      ],
      "metadata": {
        "colab": {
          "base_uri": "https://localhost:8080/",
          "height": 52
        },
        "id": "l7Tb_nUELGnT",
        "outputId": "e848e810-b326-4b9f-9af9-100e3fd39a82"
      },
      "execution_count": 13,
      "outputs": [
        {
          "output_type": "display_data",
          "data": {
            "text/html": [
              "131"
            ],
            "text/markdown": "131",
            "text/latex": "131",
            "text/plain": [
              "[1] 131"
            ]
          },
          "metadata": {}
        },
        {
          "output_type": "display_data",
          "data": {
            "text/html": [
              "'mean(x+y)'"
            ],
            "text/markdown": "'mean(x+y)'",
            "text/latex": "'mean(x+y)'",
            "text/plain": [
              "[1] \"mean(x+y)\""
            ]
          },
          "metadata": {}
        }
      ]
    },
    {
      "cell_type": "markdown",
      "source": [
        "What if we already have “mean(x+y)” stored in a text string, and want to turn it into an expression? The\n",
        "answer is to use the function parse(), but indicate that the parameter is text rather than a file name. Thus"
      ],
      "metadata": {
        "id": "K8PC_7c-LJoz"
      }
    },
    {
      "cell_type": "code",
      "source": [
        " parse(text=\"mean(x+y)\")\n",
        "expression(mean(x + y))"
      ],
      "metadata": {
        "colab": {
          "base_uri": "https://localhost:8080/",
          "height": 52
        },
        "id": "5HVg6nQcLMSD",
        "outputId": "acd51fbc-552d-4009-b220-c4c99174c96d"
      },
      "execution_count": 14,
      "outputs": [
        {
          "output_type": "display_data",
          "data": {
            "text/plain": [
              "expression(mean(x + y))"
            ]
          },
          "metadata": {}
        },
        {
          "output_type": "display_data",
          "data": {
            "text/plain": [
              "expression(mean(x + y))"
            ]
          },
          "metadata": {}
        }
      ]
    },
    {
      "cell_type": "code",
      "source": [
        "# We store the expression in my.exp2, and then evaluate it\n",
        " my.exp2 <- parse(text=\"mean(x+y)\")\n",
        " eval(my.exp2)"
      ],
      "metadata": {
        "colab": {
          "base_uri": "https://localhost:8080/",
          "height": 34
        },
        "id": "CcONXrOqLP0j",
        "outputId": "f87782f3-5399-4dd5-9e81-b14f77911cb5"
      },
      "execution_count": 15,
      "outputs": [
        {
          "output_type": "display_data",
          "data": {
            "text/html": [
              "131"
            ],
            "text/markdown": "131",
            "text/latex": "131",
            "text/plain": [
              "[1] 131"
            ]
          },
          "metadata": {}
        }
      ]
    },
    {
      "cell_type": "markdown",
      "source": [
        "Here is a function that creates a new data frame from an arbitrary set of columns of an existing data frame.\n",
        "Once in the function, we attach the data frame so that we can leave off the name of the data frame, and use only\n",
        "the column names"
      ],
      "metadata": {
        "id": "fy19pmXcLVcE"
      }
    },
    {
      "cell_type": "code",
      "source": [
        "austpop<- read.csv(\"/content/austpop.csv\")\n",
        "make.new.df <- function(old.df = austpop, colnames = c(\"NSW\", \"ACT\")) {\n",
        "  attach(old.df)\n",
        "  on.exit(detach(old.df))\n",
        "  argtxt <- paste(colnames, collapse = \", \")\n",
        "  exprtxt <- paste(\"data.frame(\", argtxt, \")\", sep = \"\")\n",
        "  expr <- parse(text = exprtxt)\n",
        "  df <- eval(expr, envir = parent.frame())  # Specify evaluation environment\n",
        "  names(df) <- colnames\n",
        "  df\n",
        "}\n",
        "\n",
        "# Assuming austpop is your data frame, and you want columns \"NSW\" and \"ACT\"\n",
        "make.new.df()\n"
      ],
      "metadata": {
        "colab": {
          "base_uri": "https://localhost:8080/",
          "height": 398
        },
        "id": "sHFLXVXRLbIE",
        "outputId": "6657caf0-2b97-4274-e78f-dec83d2a38ee"
      },
      "execution_count": 18,
      "outputs": [
        {
          "output_type": "display_data",
          "data": {
            "text/html": [
              "<table class=\"dataframe\">\n",
              "<caption>A data.frame: 9 × 2</caption>\n",
              "<thead>\n",
              "\t<tr><th scope=col>NSW</th><th scope=col>ACT</th></tr>\n",
              "\t<tr><th scope=col>&lt;int&gt;</th><th scope=col>&lt;int&gt;</th></tr>\n",
              "</thead>\n",
              "<tbody>\n",
              "\t<tr><td>1904</td><td>  3</td></tr>\n",
              "\t<tr><td>2402</td><td>  8</td></tr>\n",
              "\t<tr><td>2693</td><td> 11</td></tr>\n",
              "\t<tr><td>2985</td><td> 17</td></tr>\n",
              "\t<tr><td>3625</td><td> 38</td></tr>\n",
              "\t<tr><td>4295</td><td>103</td></tr>\n",
              "\t<tr><td>5002</td><td>214</td></tr>\n",
              "\t<tr><td>5617</td><td>265</td></tr>\n",
              "\t<tr><td>6274</td><td>310</td></tr>\n",
              "</tbody>\n",
              "</table>\n"
            ],
            "text/markdown": "\nA data.frame: 9 × 2\n\n| NSW &lt;int&gt; | ACT &lt;int&gt; |\n|---|---|\n| 1904 |   3 |\n| 2402 |   8 |\n| 2693 |  11 |\n| 2985 |  17 |\n| 3625 |  38 |\n| 4295 | 103 |\n| 5002 | 214 |\n| 5617 | 265 |\n| 6274 | 310 |\n\n",
            "text/latex": "A data.frame: 9 × 2\n\\begin{tabular}{ll}\n NSW & ACT\\\\\n <int> & <int>\\\\\n\\hline\n\t 1904 &   3\\\\\n\t 2402 &   8\\\\\n\t 2693 &  11\\\\\n\t 2985 &  17\\\\\n\t 3625 &  38\\\\\n\t 4295 & 103\\\\\n\t 5002 & 214\\\\\n\t 5617 & 265\\\\\n\t 6274 & 310\\\\\n\\end{tabular}\n",
            "text/plain": [
              "  NSW  ACT\n",
              "1 1904   3\n",
              "2 2402   8\n",
              "3 2693  11\n",
              "4 2985  17\n",
              "5 3625  38\n",
              "6 4295 103\n",
              "7 5002 214\n",
              "8 5617 265\n",
              "9 6274 310"
            ]
          },
          "metadata": {}
        }
      ]
    },
    {
      "cell_type": "markdown",
      "source": [
        "The function do.call() makes it possible to supply the function name and the argument list in separate text\n",
        "strings. When do.call is used it is only necessary to use parse() in generating the argument list.\n",
        "For example"
      ],
      "metadata": {
        "id": "7ADIZN8nMNz4"
      }
    },
    {
      "cell_type": "code",
      "source": [
        "make.new.df <- function(old.df = austpop, colnames = c(\"NSW\", \"ACT\")) {\n",
        "  attach(old.df)\n",
        "  on.exit(detach(old.df))\n",
        "  argtxt <- paste(colnames, collapse = \", \")\n",
        "  listexpr <- parse(text = paste(\"list(\", argtxt, \")\", sep = \"\"))\n",
        "  df <- as.data.frame(do.call(\"cbind\", eval(listexpr)))\n",
        "  names(df) <- colnames\n",
        "  df\n",
        "}\n",
        "make.new.df()"
      ],
      "metadata": {
        "colab": {
          "base_uri": "https://localhost:8080/",
          "height": 398
        },
        "id": "3LzR1u9mMPzy",
        "outputId": "6d98716f-1d81-4318-d444-3efc3c6fce3f"
      },
      "execution_count": 21,
      "outputs": [
        {
          "output_type": "display_data",
          "data": {
            "text/html": [
              "<table class=\"dataframe\">\n",
              "<caption>A data.frame: 9 × 2</caption>\n",
              "<thead>\n",
              "\t<tr><th scope=col>NSW</th><th scope=col>ACT</th></tr>\n",
              "\t<tr><th scope=col>&lt;int&gt;</th><th scope=col>&lt;int&gt;</th></tr>\n",
              "</thead>\n",
              "<tbody>\n",
              "\t<tr><td>1904</td><td>  3</td></tr>\n",
              "\t<tr><td>2402</td><td>  8</td></tr>\n",
              "\t<tr><td>2693</td><td> 11</td></tr>\n",
              "\t<tr><td>2985</td><td> 17</td></tr>\n",
              "\t<tr><td>3625</td><td> 38</td></tr>\n",
              "\t<tr><td>4295</td><td>103</td></tr>\n",
              "\t<tr><td>5002</td><td>214</td></tr>\n",
              "\t<tr><td>5617</td><td>265</td></tr>\n",
              "\t<tr><td>6274</td><td>310</td></tr>\n",
              "</tbody>\n",
              "</table>\n"
            ],
            "text/markdown": "\nA data.frame: 9 × 2\n\n| NSW &lt;int&gt; | ACT &lt;int&gt; |\n|---|---|\n| 1904 |   3 |\n| 2402 |   8 |\n| 2693 |  11 |\n| 2985 |  17 |\n| 3625 |  38 |\n| 4295 | 103 |\n| 5002 | 214 |\n| 5617 | 265 |\n| 6274 | 310 |\n\n",
            "text/latex": "A data.frame: 9 × 2\n\\begin{tabular}{ll}\n NSW & ACT\\\\\n <int> & <int>\\\\\n\\hline\n\t 1904 &   3\\\\\n\t 2402 &   8\\\\\n\t 2693 &  11\\\\\n\t 2985 &  17\\\\\n\t 3625 &  38\\\\\n\t 4295 & 103\\\\\n\t 5002 & 214\\\\\n\t 5617 & 265\\\\\n\t 6274 & 310\\\\\n\\end{tabular}\n",
            "text/plain": [
              "  NSW  ACT\n",
              "1 1904   3\n",
              "2 2402   8\n",
              "3 2693  11\n",
              "4 2985  17\n",
              "5 3625  38\n",
              "6 4295 103\n",
              "7 5002 214\n",
              "8 5617 265\n",
              "9 6274 310"
            ]
          },
          "metadata": {}
        }
      ]
    },
    {
      "cell_type": "markdown",
      "source": [
        "## **11.4 Plotting a mathematical expression**\n",
        "\n",
        "The following, given without explanation, illustrates some of the possibilities. It needs better error checking\n",
        "than it has at present:\n"
      ],
      "metadata": {
        "id": "LqnfZgZRMd9j"
      }
    },
    {
      "cell_type": "code",
      "source": [
        "plotcurve <- function(equation = \"y = sqrt(1/(1+x^2))\", ...) {\n",
        "  leftright <- strsplit(equation, split = \"=\")[[1]]\n",
        "  left <- trimws(leftright[1])  # The part to the left of the \"=\"\n",
        "  right <- trimws(leftright[2])  # The part to the right of the \"=\"\n",
        "\n",
        "  expr <- parse(text = right)\n",
        "  xname <- all.vars(expr)\n",
        "\n",
        "  if (length(xname) > 1) {\n",
        "    stop(paste(\"There are multiple variables, i.e.\", paste(xname, collapse = \" & \"),\n",
        "               \"on the right of the equation\"))\n",
        "  }\n",
        "\n",
        "  if (length(list(...)) == 0) {\n",
        "    assign(xname, 1:10)\n",
        "  } else {\n",
        "    nam <- names(list(...))\n",
        "    if (nam != xname) {\n",
        "      stop(\"Clash of variable names\")\n",
        "    }\n",
        "    assign(xname, list(...)[[1]])\n",
        "  }\n",
        "\n",
        "  y <- eval(expr)\n",
        "  yexpr <- parse(text = left)[[1]]\n",
        "  xexpr <- parse(text = xname)[[1]]\n",
        "\n",
        "  plot(x, y, ylab = as.character(yexpr), xlab = as.character(xexpr), type = \"n\")\n",
        "  lines(spline(x, y))\n",
        "  mainexpr <- paste(left, \"==\", right)\n",
        "  title(main = mainexpr)\n",
        "}\n"
      ],
      "metadata": {
        "id": "fOFMwizDMsvH"
      },
      "execution_count": 22,
      "outputs": []
    },
    {
      "cell_type": "code",
      "source": [
        "plotcurve()\n"
      ],
      "metadata": {
        "colab": {
          "base_uri": "https://localhost:8080/",
          "height": 437
        },
        "id": "uI67eF4uMvzi",
        "outputId": "aa6e97fa-84b1-4c6e-9fe6-65a932e8ec8b"
      },
      "execution_count": 23,
      "outputs": [
        {
          "output_type": "display_data",
          "data": {
            "text/plain": [
              "Plot with title “y == sqrt(1/(1+x^2))”"
            ],
            "image/png": "[encoded data removed]"
          },
          "metadata": {
            "image/png": {
              "width": 420,
              "height": 420
            }
          }
        }
      ]
    },
    {
      "cell_type": "markdown",
      "source": [
        "## **11.5 Searching R functions for a specified token.**\n",
        "\n",
        "A token is a syntactic entity; for example function names are tokens. For example, we search all functions in the\n",
        "working directory. The purpose of using unlist() in the code below is to change myfunc from a list into a\n",
        "vector of character strings."
      ],
      "metadata": {
        "id": "hIETht3LNT8l"
      }
    },
    {
      "cell_type": "code",
      "source": [
        "mygrep <- function(str) {\n",
        "  tempobj <- ls(envir = sys.frame(-1))  # Get names of objects in the current environment\n",
        "\n",
        "  objstring <- character(0)  # Initialize an empty character vector to store object names\n",
        "\n",
        "  for (i in tempobj) {\n",
        "    myfunc <- get(i, envir = sys.frame(-1))  # Get the function object\n",
        "\n",
        "    if (is.function(myfunc)) {\n",
        "      func_code <- capture.output(print(myfunc))\n",
        "\n",
        "      if (any(grepl(str, func_code))) {\n",
        "        objstring <- c(objstring, i)  # Append the function name to the result vector\n",
        "      }\n",
        "    }\n",
        "  }\n",
        "\n",
        "  return(objstring)  # Return the vector of function names containing the string \"str\"\n",
        "}\n",
        "\n",
        "# Example usage:\n",
        "mygrep(\"for\")  # Find all functions that include a 'for' loop\n"
      ],
      "metadata": {
        "colab": {
          "base_uri": "https://localhost:8080/",
          "height": 34
        },
        "id": "PlcL3vQiNeXv",
        "outputId": "cc7a8b90-11fb-412a-de67-3ec6e2aa59d2"
      },
      "execution_count": 29,
      "outputs": [
        {
          "output_type": "display_data",
          "data": {
            "text/html": [
              "<style>\n",
              ".list-inline {list-style: none; margin:0; padding: 0}\n",
              ".list-inline>li {display: inline-block}\n",
              ".list-inline>li:not(:last-child)::after {content: \"\\00b7\"; padding: 0 .5ex}\n",
              "</style>\n",
              "<ol class=list-inline><li>'mygrep'</li><li>'plotcurve'</li></ol>\n"
            ],
            "text/markdown": "1. 'mygrep'\n2. 'plotcurve'\n\n\n",
            "text/latex": "\\begin{enumerate*}\n\\item 'mygrep'\n\\item 'plotcurve'\n\\end{enumerate*}\n",
            "text/plain": [
              "[1] \"mygrep\"    \"plotcurve\""
            ]
          },
          "metadata": {}
        }
      ]
    }
  ]
}