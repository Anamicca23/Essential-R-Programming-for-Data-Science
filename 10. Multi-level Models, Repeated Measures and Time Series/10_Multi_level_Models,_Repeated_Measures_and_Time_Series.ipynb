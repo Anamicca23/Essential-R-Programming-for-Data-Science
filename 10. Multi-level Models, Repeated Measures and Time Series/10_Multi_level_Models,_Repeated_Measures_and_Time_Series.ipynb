{
  "nbformat": 4,
  "nbformat_minor": 0,
  "metadata": {
    "colab": {
      "provenance": [],
      "toc_visible": true
    },
    "kernelspec": {
      "name": "ir",
      "display_name": "R"
    },
    "language_info": {
      "name": "R"
    }
  },
  "cells": [
    {
      "cell_type": "markdown",
      "source": [
        "# **10. Multi-level Models, Repeated Measures and Time Series**"
      ],
      "metadata": {
        "id": "0gxijPga0rMg"
      }
    },
    {
      "cell_type": "markdown",
      "source": [
        "## **10.1 Multi-Level Models, Including Repeated Measures Models**\n",
        "\n",
        "\n",
        "In modeling, we distinguish between fixed effects, which represent average differences across groups or conditions, and random effects, which capture variability that is specific to certain groups or conditions. For instance, in an inter-laboratory comparison, variations between laboratories and between observers within laboratories are considered random effects. The fixed effect in this case would be the overall mean across all laboratories and observers.\n",
        "\n",
        "The `lme()` and `nlme()` functions from the `nlme` package by Pinheiro and Bates are useful for constructing models that incorporate both fixed and random effects, particularly in scenarios involving repeated measures. In statistical terms, `lme` handles linear models while `nlme` extends to non-linear models. The functionality provided by `lme` version 3 is comparable to SAS's `Proc Mixed`, a popular procedure for mixed models.\n",
        "\n",
        "These functions are equipped with diagnostic tools and various plots that aid in model validation and interpretation. Repeated measures models, which these functions support, are closely related to time series models. In time series, we typically observe one series over many time points. In contrast, repeated measures involve multiple short series, each representing different conditions or subjects, observed across a smaller number of time points.\n",
        "\n",
        "This distinction underscores how `lme()` and `nlme()` facilitate the analysis of data that exhibit both within-group correlations (due to repeated measures) and between-group variations (modeled as random effects). They are valuable tools for understanding complex data structures where multiple sources of variability need to be accounted for simultaneously."
      ],
      "metadata": {
        "id": "SgPVgTtw0ueT"
      }
    },
    {
      "cell_type": "markdown",
      "source": [
        "**10.1.1 The Kiwifruit Shading Data, Again**\n",
        "\n",
        "Refer back to section 5.8.2 for details of these data. The fixed effects are block and treatment (shade). The\n",
        "random effects are block (though making block a random effect is optional, for purposes of comparing\n",
        "treatments), plot within block, and units within each block/plot combination. Here is the analysis:"
      ],
      "metadata": {
        "id": "G87ax4Uo1ANb"
      }
    },
    {
      "cell_type": "code",
      "source": [
        "library(nlme)\n",
        "kiwishade <- read.csv(\"/content/kiwishade (1).csv\")\n",
        "kiwishade$plot<-factor(paste(kiwishade$block, kiwishade$shade,\n",
        " sep=\".\"))\n",
        "kiwishade.lme<-lme(yield~shade,random=~1|block/plot, data=kiwishade)\n",
        "summary(kiwishade.lme)"
      ],
      "metadata": {
        "colab": {
          "base_uri": "https://localhost:8080/",
          "height": 607
        },
        "id": "qRm3-WRK_iPO",
        "outputId": "80ef44a0-144a-41d1-d022-62eaddb06f70"
      },
      "execution_count": 2,
      "outputs": [
        {
          "output_type": "display_data",
          "data": {
            "text/plain": [
              "Linear mixed-effects model fit by REML\n",
              "  Data: kiwishade \n",
              "       AIC      BIC    logLik\n",
              "  265.9663 278.4556 -125.9831\n",
              "\n",
              "Random effects:\n",
              " Formula: ~1 | block\n",
              "        (Intercept)\n",
              "StdDev:    2.019373\n",
              "\n",
              " Formula: ~1 | plot %in% block\n",
              "        (Intercept) Residual\n",
              "StdDev:    1.478623 3.490381\n",
              "\n",
              "Fixed effects:  yield ~ shade \n",
              "                 Value Std.Error DF  t-value p-value\n",
              "(Intercept)  103.23333  1.761617 36 58.60146  0.0000\n",
              "shadeDec2Feb -13.31250  1.867621  6 -7.12805  0.0004\n",
              "shadeFeb2May -10.45917  1.867621  6 -5.60026  0.0014\n",
              "shadenone     -3.03083  1.867621  6 -1.62283  0.1558\n",
              " Correlation: \n",
              "             (Intr) shdD2F shdF2M\n",
              "shadeDec2Feb -0.53               \n",
              "shadeFeb2May -0.53   0.50        \n",
              "shadenone    -0.53   0.50   0.50 \n",
              "\n",
              "Standardized Within-Group Residuals:\n",
              "        Min          Q1         Med          Q3         Max \n",
              "-2.41538976 -0.59814252 -0.06899575  0.78046182  1.58909233 \n",
              "\n",
              "Number of Observations: 48\n",
              "Number of Groups: \n",
              "          block plot %in% block \n",
              "              3              12 "
            ]
          },
          "metadata": {}
        }
      ]
    },
    {
      "cell_type": "code",
      "source": [
        "anova(kiwishade.lme)"
      ],
      "metadata": {
        "colab": {
          "base_uri": "https://localhost:8080/",
          "height": 161
        },
        "id": "g4xV7zg6AQ7a",
        "outputId": "7d5ceb56-e6b9-43f2-f473-159bc0fe81f5"
      },
      "execution_count": 3,
      "outputs": [
        {
          "output_type": "display_data",
          "data": {
            "text/html": [
              "<table class=\"dataframe\">\n",
              "<caption>A anova.lme: 2 × 4</caption>\n",
              "<thead>\n",
              "\t<tr><th></th><th scope=col>numDF</th><th scope=col>denDF</th><th scope=col>F-value</th><th scope=col>p-value</th></tr>\n",
              "\t<tr><th></th><th scope=col>&lt;int&gt;</th><th scope=col>&lt;dbl&gt;</th><th scope=col>&lt;dbl&gt;</th><th scope=col>&lt;dbl&gt;</th></tr>\n",
              "</thead>\n",
              "<tbody>\n",
              "\t<tr><th scope=row>(Intercept)</th><td>1</td><td>36</td><td>5190.55984</td><td>0.000000000</td></tr>\n",
              "\t<tr><th scope=row>shade</th><td>3</td><td> 6</td><td>  22.21119</td><td>0.001194224</td></tr>\n",
              "</tbody>\n",
              "</table>\n"
            ],
            "text/markdown": "\nA anova.lme: 2 × 4\n\n| <!--/--> | numDF &lt;int&gt; | denDF &lt;dbl&gt; | F-value &lt;dbl&gt; | p-value &lt;dbl&gt; |\n|---|---|---|---|---|\n| (Intercept) | 1 | 36 | 5190.55984 | 0.000000000 |\n| shade | 3 |  6 |   22.21119 | 0.001194224 |\n\n",
            "text/latex": "A anova.lme: 2 × 4\n\\begin{tabular}{r|llll}\n  & numDF & denDF & F-value & p-value\\\\\n  & <int> & <dbl> & <dbl> & <dbl>\\\\\n\\hline\n\t(Intercept) & 1 & 36 & 5190.55984 & 0.000000000\\\\\n\tshade & 3 &  6 &   22.21119 & 0.001194224\\\\\n\\end{tabular}\n",
            "text/plain": [
              "            numDF denDF F-value    p-value    \n",
              "(Intercept) 1     36    5190.55984 0.000000000\n",
              "shade       3      6      22.21119 0.001194224"
            ]
          },
          "metadata": {}
        }
      ]
    },
    {
      "cell_type": "code",
      "source": [
        "# This was a balanced design, which is why section 5.8.2 could use aov(). We can get an output summary that is\n",
        "# helpful for showing how the error mean squares match up with standard deviation information given above thus:\n",
        "\n",
        "intervals(kiwishade.lme)"
      ],
      "metadata": {
        "colab": {
          "base_uri": "https://localhost:8080/",
          "height": 364
        },
        "id": "UYpvJAYMAWe7",
        "outputId": "fea69a41-5d46-4e6f-af56-6464a5a64a83"
      },
      "execution_count": 4,
      "outputs": [
        {
          "output_type": "display_data",
          "data": {
            "text/plain": [
              "Approximate 95% confidence intervals\n",
              "\n",
              " Fixed effects:\n",
              "                  lower       est.      upper\n",
              "(Intercept)   99.660609 103.233333 106.806058\n",
              "shadeDec2Feb -17.882405 -13.312500  -8.742595\n",
              "shadeFeb2May -15.029072 -10.459167  -5.889262\n",
              "shadenone     -7.600738  -3.030833   1.539072\n",
              "\n",
              " Random Effects:\n",
              "  Level: block \n",
              "                    lower     est.    upper\n",
              "sd((Intercept)) 0.5472669 2.019373 7.451334\n",
              "  Level: plot \n",
              "                    lower     est.   upper\n",
              "sd((Intercept)) 0.3697214 1.478623 5.91344\n",
              "\n",
              " Within-group standard error:\n",
              "   lower     est.    upper \n",
              "2.770648 3.490381 4.397079 "
            ]
          },
          "metadata": {}
        }
      ]
    },
    {
      "cell_type": "markdown",
      "source": [
        "We are interested in the three standard deviation estimates. By squaring the standard deviations and converting them to variances, we obtain the following table:\n",
        "\n",
        "|                        | Variance component | Notes                               |\n",
        "|------------------------|--------------------|-------------------------------------|\n",
        "| block                  | 2.0192 =4.076            | Three blocks                |\n",
        "| plot                   | 1.4792 =2.186            | 4 plots per block           |\n",
        "| residual (within group)| 3.4902 =12.180            | 4 vines (subplots) per plot)|\n",
        "\n",
        "\n",
        "This information provides the necessary components for an analysis of variance (ANOVA) table:\n",
        "\n",
        "|                       | Variance component   | Mean square for anova table | d.f.  |\n",
        "|-----------------------|----------------------|-----------------------------|-------|\n",
        "| block                 | 4.076                | 12.180 + 4 *2.186 + 16  4.076 = 86.14                       | 2(3-1)   |\n",
        "| plot                  | 2.186                | 12.180 + 4 *2.186 = 20.92                       | 6 (3-1)(2-1)   |\n",
        "| residual (within gp)  | 12.180               | 12.18                       | 3*4(4-1)  |\n",
        "\n",
        "\n"
      ],
      "metadata": {
        "id": "RPgaae1wAyws"
      }
    },
    {
      "cell_type": "code",
      "source": [
        "# Now fsee where these same pieces of information appeared in the analysis of variance table of section 5.8.2:\n",
        "\n",
        " kiwishade.aov<-aov(yield~block+shade+Error(block:shade),data=kiwishade)\n",
        " summary(kiwishade.aov)"
      ],
      "metadata": {
        "colab": {
          "base_uri": "https://localhost:8080/",
          "height": 260
        },
        "id": "hdB2Q6sHCuVr",
        "outputId": "487daf99-30a9-44b5-ca1d-ec3c9ee6d04d"
      },
      "execution_count": 5,
      "outputs": [
        {
          "output_type": "stream",
          "name": "stderr",
          "text": [
            "Warning message in aov(yield ~ block + shade + Error(block:shade), data = kiwishade):\n",
            "“Error() model is singular”\n"
          ]
        },
        {
          "output_type": "display_data",
          "data": {
            "text/plain": [
              "\n",
              "Error: block:shade\n",
              "          Df Sum Sq Mean Sq F value  Pr(>F)   \n",
              "block      2  172.3    86.2   4.118 0.07488 . \n",
              "shade      3 1394.5   464.8  22.211 0.00119 **\n",
              "Residuals  6  125.6    20.9                   \n",
              "---\n",
              "Signif. codes:  0 ‘***’ 0.001 ‘**’ 0.01 ‘*’ 0.05 ‘.’ 0.1 ‘ ’ 1\n",
              "\n",
              "Error: Within\n",
              "          Df Sum Sq Mean Sq F value Pr(>F)\n",
              "Residuals 36  438.6   12.18               "
            ]
          },
          "metadata": {}
        }
      ]
    },
    {
      "cell_type": "markdown",
      "source": [
        "**10.1.2 The Tinting of Car Windows**\n",
        "\n",
        "In section 4.1 of our study, we analyzed data from an experiment focusing on how tinted car windows affect visual performance, especially when looking through side windows. The dataset, named \"tinting,\" includes variables like csoa (time in milliseconds to recognize a target), it (time for a simple discrimination task), and age. Tint and target are ordered factors with 3 and 2 levels, respectively. The variable \"sex\" is coded 1 for males and 2 for females, while \"agegp\" is coded 1 for young adults in their early 20s and 2 for older participants in their early 70s.\n",
        "\n",
        "Our analysis considers two levels of variation: within individuals (each tested under different tint and target conditions) and between individuals. Therefore, we treat \"id\" (individual identifier) as a random effect. As observed in section 4.1, to ensure roughly equal variances, we transform variables like log(csoa) and log(it). Here, we focus on analyzing log(it). Initially, we start with a comprehensive model that includes all possible interactions, although the final model might be simpler depending on the results."
      ],
      "metadata": {
        "id": "3_q-vmHZC-aa"
      }
    },
    {
      "cell_type": "code",
      "source": [
        "tinting <- read.csv(\"/content/tinting.csv\")\n",
        "itstar.lme<-lme(log(it)~tint*target*agegp*sex,\n",
        " random=~1|id, data=tinting,method=\"ML\")\n",
        "\n",
        "#  A reasonable guess is that first order interactions may be all we need, i.e.\n",
        "it2.lme<-lme(log(it)~(tint+target+agegp+sex)^2,\n",
        " random=~1|id, data=tinting,method=\"ML\")\n",
        "#  Finally, there is the very simple model, allowing only for main effects:\n",
        "it1.lme<-lme(log(it)~(tint+target+agegp+sex),\n",
        " random=~1|id, data=tinting,method=\"ML\")\n",
        "# Note that we have fitted all these models by maximum likelihood. This is so that we can do the equivalent of an\n",
        "# analysis of variance comparison. Here is what we get:\n",
        "anova(itstar.lme,it2.lme,it1.lme)"
      ],
      "metadata": {
        "colab": {
          "base_uri": "https://localhost:8080/",
          "height": 525
        },
        "id": "vNiXFeHtDPkJ",
        "outputId": "8bf6684c-de6d-42a9-d105-4b5b82ae23fe"
      },
      "execution_count": 11,
      "outputs": [
        {
          "output_type": "display_data",
          "data": {
            "text/html": [
              "<table class=\"dataframe\">\n",
              "<caption>A anova.lme: 3 × 9</caption>\n",
              "<thead>\n",
              "\t<tr><th></th><th scope=col>call</th><th scope=col>Model</th><th scope=col>df</th><th scope=col>AIC</th><th scope=col>BIC</th><th scope=col>logLik</th><th scope=col>Test</th><th scope=col>L.Ratio</th><th scope=col>p-value</th></tr>\n",
              "\t<tr><th></th><th scope=col>&lt;chr&gt;</th><th scope=col>&lt;int&gt;</th><th scope=col>&lt;dbl&gt;</th><th scope=col>&lt;dbl&gt;</th><th scope=col>&lt;dbl&gt;</th><th scope=col>&lt;dbl&gt;</th><th scope=col>&lt;fct&gt;</th><th scope=col>&lt;dbl&gt;</th><th scope=col>&lt;dbl&gt;</th></tr>\n",
              "</thead>\n",
              "<tbody>\n",
              "\t<tr><th scope=row>itstar.lme</th><td>lme.formula(fixed = log(it) ~ tint * target * agegp * sex, data = tinting,     random = ~1 | id, method = \"ML\")    </td><td>1</td><td>26</td><td> 8.146187</td><td>91.45036</td><td>21.926906</td><td>      </td><td>      NA</td><td>         NA</td></tr>\n",
              "\t<tr><th scope=row>it2.lme</th><td>lme.formula(fixed = log(it) ~ (tint + target + agegp + sex)^2,     data = tinting, random = ~1 | id, method = \"ML\")</td><td>2</td><td>17</td><td>-3.742883</td><td>50.72523</td><td>18.871441</td><td>1 vs 2</td><td> 6.11093</td><td>0.728766684</td></tr>\n",
              "\t<tr><th scope=row>it1.lme</th><td>lme.formula(fixed = log(it) ~ (tint + target + agegp + sex),     data = tinting, random = ~1 | id, method = \"ML\")  </td><td>3</td><td> 8</td><td> 1.138171</td><td>26.77022</td><td> 7.430915</td><td>2 vs 3</td><td>22.88105</td><td>0.006469052</td></tr>\n",
              "</tbody>\n",
              "</table>\n"
            ],
            "text/markdown": "\nA anova.lme: 3 × 9\n\n| <!--/--> | call &lt;chr&gt; | Model &lt;int&gt; | df &lt;dbl&gt; | AIC &lt;dbl&gt; | BIC &lt;dbl&gt; | logLik &lt;dbl&gt; | Test &lt;fct&gt; | L.Ratio &lt;dbl&gt; | p-value &lt;dbl&gt; |\n|---|---|---|---|---|---|---|---|---|---|\n| itstar.lme | lme.formula(fixed = log(it) ~ tint * target * agegp * sex, data = tinting,     random = ~1 | id, method = \"ML\")     | 1 | 26 |  8.146187 | 91.45036 | 21.926906 | <!----> |       NA |          NA |\n| it2.lme | lme.formula(fixed = log(it) ~ (tint + target + agegp + sex)^2,     data = tinting, random = ~1 | id, method = \"ML\") | 2 | 17 | -3.742883 | 50.72523 | 18.871441 | 1 vs 2 |  6.11093 | 0.728766684 |\n| it1.lme | lme.formula(fixed = log(it) ~ (tint + target + agegp + sex),     data = tinting, random = ~1 | id, method = \"ML\")   | 3 |  8 |  1.138171 | 26.77022 |  7.430915 | 2 vs 3 | 22.88105 | 0.006469052 |\n\n",
            "text/latex": "A anova.lme: 3 × 9\n\\begin{tabular}{r|lllllllll}\n  & call & Model & df & AIC & BIC & logLik & Test & L.Ratio & p-value\\\\\n  & <chr> & <int> & <dbl> & <dbl> & <dbl> & <dbl> & <fct> & <dbl> & <dbl>\\\\\n\\hline\n\titstar.lme & lme.formula(fixed = log(it) \\textasciitilde{} tint * target * agegp * sex, data = tinting,     random = \\textasciitilde{}1 \\textbar{} id, method = \"ML\")     & 1 & 26 &  8.146187 & 91.45036 & 21.926906 &        &       NA &          NA\\\\\n\tit2.lme & lme.formula(fixed = log(it) \\textasciitilde{} (tint + target + agegp + sex)\\textasciicircum{}2,     data = tinting, random = \\textasciitilde{}1 \\textbar{} id, method = \"ML\") & 2 & 17 & -3.742883 & 50.72523 & 18.871441 & 1 vs 2 &  6.11093 & 0.728766684\\\\\n\tit1.lme & lme.formula(fixed = log(it) \\textasciitilde{} (tint + target + agegp + sex),     data = tinting, random = \\textasciitilde{}1 \\textbar{} id, method = \"ML\")   & 3 &  8 &  1.138171 & 26.77022 &  7.430915 & 2 vs 3 & 22.88105 & 0.006469052\\\\\n\\end{tabular}\n",
            "text/plain": [
              "           call                                                                                                               \n",
              "itstar.lme lme.formula(fixed = log(it) ~ tint * target * agegp * sex, data = tinting,     random = ~1 | id, method = \"ML\")    \n",
              "it2.lme    lme.formula(fixed = log(it) ~ (tint + target + agegp + sex)^2,     data = tinting, random = ~1 | id, method = \"ML\")\n",
              "it1.lme    lme.formula(fixed = log(it) ~ (tint + target + agegp + sex),     data = tinting, random = ~1 | id, method = \"ML\")  \n",
              "           Model df AIC       BIC      logLik    Test   L.Ratio  p-value    \n",
              "itstar.lme 1     26  8.146187 91.45036 21.926906              NA          NA\n",
              "it2.lme    2     17 -3.742883 50.72523 18.871441 1 vs 2  6.11093 0.728766684\n",
              "it1.lme    3      8  1.138171 26.77022  7.430915 2 vs 3 22.88105 0.006469052"
            ]
          },
          "metadata": {}
        }
      ]
    },
    {
      "cell_type": "code",
      "source": [
        "# The model that limits attention to first order interactions is adequate. We will need to examine the first order\n",
        "# interactions individually. For this we re-fit the model used for it2.lme, but now with method=\"REML\".\n",
        "it2.reml<-update(it2.lme,method=\"REML\")\n",
        "\n",
        "# We now examine the estimated effects:\n",
        "options(digits=3)\n",
        "summary(it2.reml)$tTable\n",
        "\n",
        "# Because tint is an ordered factor, polynomial contrasts are used."
      ],
      "metadata": {
        "colab": {
          "base_uri": "https://localhost:8080/",
          "height": 537
        },
        "id": "3qc4MYC1D4iu",
        "outputId": "1ab98236-fe38-4faf-e4a8-66ffd0606ec6"
      },
      "execution_count": 13,
      "outputs": [
        {
          "output_type": "display_data",
          "data": {
            "text/html": [
              "<table class=\"dataframe\">\n",
              "<caption>A matrix: 15 × 5 of type dbl</caption>\n",
              "<thead>\n",
              "\t<tr><th></th><th scope=col>Value</th><th scope=col>Std.Error</th><th scope=col>DF</th><th scope=col>t-value</th><th scope=col>p-value</th></tr>\n",
              "</thead>\n",
              "<tbody>\n",
              "\t<tr><th scope=row>(Intercept)</th><td> 4.0087</td><td>0.1996</td><td>145</td><td>20.08</td><td>1.03e-43</td></tr>\n",
              "\t<tr><th scope=row>tintlo</th><td>-0.2435</td><td>0.0798</td><td>145</td><td>-3.05</td><td>2.71e-03</td></tr>\n",
              "\t<tr><th scope=row>tintno</th><td>-0.2825</td><td>0.0719</td><td>145</td><td>-3.93</td><td>1.31e-04</td></tr>\n",
              "\t<tr><th scope=row>targetlocon</th><td> 0.3249</td><td>0.0692</td><td>145</td><td> 4.69</td><td>6.13e-06</td></tr>\n",
              "\t<tr><th scope=row>agegpyounger</th><td>-0.4533</td><td>0.2368</td><td> 22</td><td>-1.91</td><td>6.87e-02</td></tr>\n",
              "\t<tr><th scope=row>sexm</th><td> 0.4246</td><td>0.2368</td><td> 22</td><td> 1.79</td><td>8.67e-02</td></tr>\n",
              "\t<tr><th scope=row>tintlo:targetlocon</th><td>-0.0739</td><td>0.0696</td><td>145</td><td>-1.06</td><td>2.91e-01</td></tr>\n",
              "\t<tr><th scope=row>tintno:targetlocon</th><td>-0.1300</td><td>0.0651</td><td>145</td><td>-2.00</td><td>4.78e-02</td></tr>\n",
              "\t<tr><th scope=row>tintlo:agegpyounger</th><td> 0.1778</td><td>0.0754</td><td>145</td><td> 2.36</td><td>1.97e-02</td></tr>\n",
              "\t<tr><th scope=row>tintno:agegpyounger</th><td> 0.1849</td><td>0.0696</td><td>145</td><td> 2.66</td><td>8.74e-03</td></tr>\n",
              "\t<tr><th scope=row>tintlo:sexm</th><td> 0.0626</td><td>0.0754</td><td>145</td><td> 0.83</td><td>4.08e-01</td></tr>\n",
              "\t<tr><th scope=row>tintno:sexm</th><td> 0.1385</td><td>0.0696</td><td>145</td><td> 1.99</td><td>4.83e-02</td></tr>\n",
              "\t<tr><th scope=row>targetlocon:agegpyounger</th><td>-0.1389</td><td>0.0584</td><td>145</td><td>-2.38</td><td>1.88e-02</td></tr>\n",
              "\t<tr><th scope=row>targetlocon:sexm</th><td>-0.0779</td><td>0.0584</td><td>145</td><td>-1.33</td><td>1.85e-01</td></tr>\n",
              "\t<tr><th scope=row>agegpyounger:sexm</th><td>-0.3316</td><td>0.3261</td><td> 22</td><td>-1.02</td><td>3.20e-01</td></tr>\n",
              "</tbody>\n",
              "</table>\n"
            ],
            "text/markdown": "\nA matrix: 15 × 5 of type dbl\n\n| <!--/--> | Value | Std.Error | DF | t-value | p-value |\n|---|---|---|---|---|---|\n| (Intercept) |  4.0087 | 0.1996 | 145 | 20.08 | 1.03e-43 |\n| tintlo | -0.2435 | 0.0798 | 145 | -3.05 | 2.71e-03 |\n| tintno | -0.2825 | 0.0719 | 145 | -3.93 | 1.31e-04 |\n| targetlocon |  0.3249 | 0.0692 | 145 |  4.69 | 6.13e-06 |\n| agegpyounger | -0.4533 | 0.2368 |  22 | -1.91 | 6.87e-02 |\n| sexm |  0.4246 | 0.2368 |  22 |  1.79 | 8.67e-02 |\n| tintlo:targetlocon | -0.0739 | 0.0696 | 145 | -1.06 | 2.91e-01 |\n| tintno:targetlocon | -0.1300 | 0.0651 | 145 | -2.00 | 4.78e-02 |\n| tintlo:agegpyounger |  0.1778 | 0.0754 | 145 |  2.36 | 1.97e-02 |\n| tintno:agegpyounger |  0.1849 | 0.0696 | 145 |  2.66 | 8.74e-03 |\n| tintlo:sexm |  0.0626 | 0.0754 | 145 |  0.83 | 4.08e-01 |\n| tintno:sexm |  0.1385 | 0.0696 | 145 |  1.99 | 4.83e-02 |\n| targetlocon:agegpyounger | -0.1389 | 0.0584 | 145 | -2.38 | 1.88e-02 |\n| targetlocon:sexm | -0.0779 | 0.0584 | 145 | -1.33 | 1.85e-01 |\n| agegpyounger:sexm | -0.3316 | 0.3261 |  22 | -1.02 | 3.20e-01 |\n\n",
            "text/latex": "A matrix: 15 × 5 of type dbl\n\\begin{tabular}{r|lllll}\n  & Value & Std.Error & DF & t-value & p-value\\\\\n\\hline\n\t(Intercept) &  4.0087 & 0.1996 & 145 & 20.08 & 1.03e-43\\\\\n\ttintlo & -0.2435 & 0.0798 & 145 & -3.05 & 2.71e-03\\\\\n\ttintno & -0.2825 & 0.0719 & 145 & -3.93 & 1.31e-04\\\\\n\ttargetlocon &  0.3249 & 0.0692 & 145 &  4.69 & 6.13e-06\\\\\n\tagegpyounger & -0.4533 & 0.2368 &  22 & -1.91 & 6.87e-02\\\\\n\tsexm &  0.4246 & 0.2368 &  22 &  1.79 & 8.67e-02\\\\\n\ttintlo:targetlocon & -0.0739 & 0.0696 & 145 & -1.06 & 2.91e-01\\\\\n\ttintno:targetlocon & -0.1300 & 0.0651 & 145 & -2.00 & 4.78e-02\\\\\n\ttintlo:agegpyounger &  0.1778 & 0.0754 & 145 &  2.36 & 1.97e-02\\\\\n\ttintno:agegpyounger &  0.1849 & 0.0696 & 145 &  2.66 & 8.74e-03\\\\\n\ttintlo:sexm &  0.0626 & 0.0754 & 145 &  0.83 & 4.08e-01\\\\\n\ttintno:sexm &  0.1385 & 0.0696 & 145 &  1.99 & 4.83e-02\\\\\n\ttargetlocon:agegpyounger & -0.1389 & 0.0584 & 145 & -2.38 & 1.88e-02\\\\\n\ttargetlocon:sexm & -0.0779 & 0.0584 & 145 & -1.33 & 1.85e-01\\\\\n\tagegpyounger:sexm & -0.3316 & 0.3261 &  22 & -1.02 & 3.20e-01\\\\\n\\end{tabular}\n",
            "text/plain": [
              "                         Value   Std.Error DF  t-value p-value \n",
              "(Intercept)               4.0087 0.1996    145 20.08   1.03e-43\n",
              "tintlo                   -0.2435 0.0798    145 -3.05   2.71e-03\n",
              "tintno                   -0.2825 0.0719    145 -3.93   1.31e-04\n",
              "targetlocon               0.3249 0.0692    145  4.69   6.13e-06\n",
              "agegpyounger             -0.4533 0.2368     22 -1.91   6.87e-02\n",
              "sexm                      0.4246 0.2368     22  1.79   8.67e-02\n",
              "tintlo:targetlocon       -0.0739 0.0696    145 -1.06   2.91e-01\n",
              "tintno:targetlocon       -0.1300 0.0651    145 -2.00   4.78e-02\n",
              "tintlo:agegpyounger       0.1778 0.0754    145  2.36   1.97e-02\n",
              "tintno:agegpyounger       0.1849 0.0696    145  2.66   8.74e-03\n",
              "tintlo:sexm               0.0626 0.0754    145  0.83   4.08e-01\n",
              "tintno:sexm               0.1385 0.0696    145  1.99   4.83e-02\n",
              "targetlocon:agegpyounger -0.1389 0.0584    145 -2.38   1.88e-02\n",
              "targetlocon:sexm         -0.0779 0.0584    145 -1.33   1.85e-01\n",
              "agegpyounger:sexm        -0.3316 0.3261     22 -1.02   3.20e-01"
            ]
          },
          "metadata": {}
        }
      ]
    },
    {
      "cell_type": "markdown",
      "source": [
        "**10.1.3 The Michelson Speed of Light Data**\n",
        "\n",
        "\n",
        "Here's an example using the Michelson speed of light data from the MASS package by Venables and Ripley. The model allows the speed of light measurements to vary linearly across different experimental runs (1 to 20). The slope of this variation is allowed to vary randomly between five experiments, each consisting of 20 runs.\n",
        "\n",
        "We assume there is a first-order autoregressive dependence structure, meaning each measurement depends on the one before it. The variance of measurements can also differ between experiments. Maximum likelihood tests have shown that this complexity in both variance and dependence structure is necessary to accurately represent the data.\n",
        "\n",
        "Statistically, a model that includes neither fixed nor random effects for the experimental runs appears sufficient. To test this statistically, one would fit models with and without these effects, using the method=\"ML\" option, and compare their likelihoods (an exercise left for the reader!).\n",
        "\n",
        "It's important to note that ignoring the sequential dependence entirely can lead to misleading results when analyzing such data."
      ],
      "metadata": {
        "id": "s_Pl2nMlEFNY"
      }
    },
    {
      "cell_type": "code",
      "source": [
        "library(MASS) # Load the MASS package if not already loaded\n",
        "michelson$Run <- as.numeric(michelson$Run) # Ensure Run is treated as numeric\n",
        "\n",
        "# Fit the linear mixed-effects model\n",
        "mich.lme1 <- lme(fixed = Speed ~ Run,\n",
        "                 data = michelson,\n",
        "                 random = ~ Run | Expt,\n",
        "                 correlation = corAR1(form = ~ 1 | Expt),\n",
        "                 weights = varIdent(form = ~ 1 | Expt))\n",
        "\n",
        "# Print summary of the model\n",
        "summary(mich.lme1)\n"
      ],
      "metadata": {
        "colab": {
          "base_uri": "https://localhost:8080/",
          "height": 677
        },
        "id": "UTBMKjKdEhtU",
        "outputId": "97b47fbd-e4a6-4fa4-e4aa-6b77d3a8d03c"
      },
      "execution_count": 14,
      "outputs": [
        {
          "output_type": "display_data",
          "data": {
            "text/plain": [
              "Linear mixed-effects model fit by REML\n",
              "  Data: michelson \n",
              "   AIC  BIC logLik\n",
              "  1115 1143   -546\n",
              "\n",
              "Random effects:\n",
              " Formula: ~Run | Expt\n",
              " Structure: General positive-definite, Log-Cholesky parametrization\n",
              "            StdDev   Corr  \n",
              "(Intercept) 7.92e-03 (Intr)\n",
              "Run         1.10e-04 0     \n",
              "Residual    1.27e+02       \n",
              "\n",
              "Correlation Structure: AR(1)\n",
              " Formula: ~1 | Expt \n",
              " Parameter estimate(s):\n",
              "  Phi \n",
              "0.589 \n",
              "Variance function:\n",
              " Structure: Different standard deviations per stratum\n",
              " Formula: ~1 | Expt \n",
              " Parameter estimates:\n",
              "    1     2     3     4     5 \n",
              "1.000 0.368 0.649 0.550 0.519 \n",
              "Fixed effects:  Speed ~ Run \n",
              "            Value Std.Error DF t-value p-value\n",
              "(Intercept)   882     23.31 94    37.8   0.000\n",
              "Run            -3      1.88 94    -1.7   0.095\n",
              " Correlation: \n",
              "    (Intr)\n",
              "Run -0.847\n",
              "\n",
              "Standardized Within-Group Residuals:\n",
              "    Min      Q1     Med      Q3     Max \n",
              "-2.9116 -0.7093  0.0772  0.7043  1.8696 \n",
              "\n",
              "Number of Observations: 100\n",
              "Number of Groups: 5 "
            ]
          },
          "metadata": {}
        }
      ]
    },
    {
      "cell_type": "markdown",
      "source": [
        "## **10.2 Time Series Models**\n",
        "\n",
        "\n",
        "The R stats package offers several functions for working with time series data, including manipulation, plotting, and calculating autocorrelation.\n",
        "\n",
        "1. **Time Domain Methods**: These methods focus on models where the autocorrelation function (ACF) between observations decreases rapidly to zero. Traditional \"short memory\" models fall into this category. Recently, \"long memory\" models have been developed where the ACF decays very slowly over time. Long memory models exhibit variation at multiple temporal scales, from days to centuries.\n",
        "\n",
        "2. **Frequency Domain Methods**: These methods, such as the `spectrum()` function, are used for spectral analysis. They analyze the frequency components present in a time series.\n",
        "\n",
        "Specific Functions in R:\n",
        "- **stl()**: Decomposes a time series into its trend, seasonal components, and residual.\n",
        "- **ar()**: Fits autoregressive (AR) models for short memory time series.\n",
        "- **arima0()**: Fits autoregressive integrated moving average (ARIMA) models, which include both AR and MA components.\n",
        "- **gls()**: Available in the `nlme` package, fits complex models with autoregressive, ARIMA, and other dependencies.\n",
        "\n",
        "Note: R does not currently provide functions for fitting the more advanced long memory models.\n",
        "\n",
        "These functions enable users to analyze time series data effectively, whether they are interested in short-term patterns or exploring more complex dependencies."
      ],
      "metadata": {
        "id": "IKb4INPzEmVr"
      }
    },
    {
      "cell_type": "markdown",
      "source": [
        "## **10.3 Exercises**\n",
        "\n",
        "1. Use the function acf() to plot the autocorrelation function of lake levels in successive years in the data set\n",
        "huron. Do the plots both with type=”correlation” and with type=”partial”."
      ],
      "metadata": {
        "id": "tIkm6GywEzDQ"
      }
    },
    {
      "cell_type": "code",
      "source": [
        "# Load the necessary package if not already loaded\n",
        "library(datasets)\n",
        "\n",
        "# Load the dataset\n",
        "huron <- read.csv(\"/content/LakeHuron (1).csv\")\n",
        "\n",
        "# Plot autocorrelation function (ACF) with type=\"correlation\"\n",
        "acf(huron, type = \"correlation\", main = \"Autocorrelation Function (Correlation Type) - Huron Lake Levels\")\n",
        "\n",
        "# Plot autocorrelation function (ACF) with type=\"partial\"\n",
        "acf(huron, type = \"partial\", main = \"Autocorrelation Function (Partial Type) - Huron Lake Levels\")\n"
      ],
      "metadata": {
        "colab": {
          "base_uri": "https://localhost:8080/",
          "height": 857
        },
        "id": "su4CIxA8E9Ib",
        "outputId": "6a03a6be-3c2e-4ce2-de59-51fbc4158dda"
      },
      "execution_count": 16,
      "outputs": [
        {
          "output_type": "display_data",
          "data": {
            "text/plain": [
              "Plot with title “Autocorrelation Function (Correlation Type) - Huron Lake Levels”"
            ],
            "image/png": "[encoded data removed]"
          },
          "metadata": {
            "image/png": {
              "width": 420,
              "height": 420
            }
          }
        },
        {
          "output_type": "display_data",
          "data": {
            "text/plain": [
              "Plot with title “Autocorrelation Function (Partial Type) - Huron Lake Levels”"
            ],
            "image/png": "[encoded data removed]"
          },
          "metadata": {
            "image/png": {
              "width": 420,
              "height": 420
            }
          }
        }
      ]
    },
    {
      "cell_type": "markdown",
      "source": [
        "## **10.4 References**\n",
        "\n",
        "\n",
        "Chambers, J. M. and Hastie, T. J. 1992. Statistical Models in S. Wadsworth and Brooks Cole Advanced Books\n",
        "and Software, Pacific Grove CA.\n",
        "\n",
        "Diggle, Liang & Zeger 1996. Analysis of Longitudinal Data. Clarendon Press, Oxford.\n",
        "\n",
        "Everitt, B. S. and Dunn, G. 1992. Applied Multivariate Data Analysis. Arnold, London.\n",
        "\n",
        "Hand, D. J. & Crowder, M. J. 1996. Practical longitudinal data analysis. Chapman and Hall, London.\n",
        "\n",
        "Little, R. C., Milliken, G. A., Stroup, W. W. and Wolfinger, R. D. (1996). SAS Systems for Mixed Models. SAS Institute\n",
        "Inc., Cary, New Carolina.\n",
        "\n",
        "Maindonald J H and Braun W J 2003. Data Analysis and Graphics Using R – An Example-Based Approach.\n",
        "Cambridge University Press.\n",
        "\n",
        "Pinheiro, J. C. and Bates, D. M. 2000. Mixed effects models in S and S-PLUS. Springer, New York.\n",
        "\n",
        "Venables, W. N. and Ripley, B. D., 2nd edn 1997. Modern Applied Statistics with S-Plus. Springer, New York."
      ],
      "metadata": {
        "id": "OaqtLAbUFY15"
      }
    }
  ]
}