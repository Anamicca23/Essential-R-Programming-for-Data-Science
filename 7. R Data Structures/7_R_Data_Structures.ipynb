{
  "nbformat": 4,
  "nbformat_minor": 0,
  "metadata": {
    "colab": {
      "provenance": [],
      "toc_visible": true
    },
    "kernelspec": {
      "name": "ir",
      "display_name": "R"
    },
    "language_info": {
      "name": "R"
    }
  },
  "cells": [
    {
      "cell_type": "markdown",
      "source": [
        "# **7. R Data Structures**"
      ],
      "metadata": {
        "id": "KiajeBoCUNw5"
      }
    },
    {
      "cell_type": "markdown",
      "source": [
        "## **7.1 Vectors**\n",
        "\n",
        "Recall that vectors may have mode logical, numeric or character."
      ],
      "metadata": {
        "id": "6PaBEw3VW2vD"
      }
    },
    {
      "cell_type": "markdown",
      "source": [
        "**7.1.1 Subsets of Vectors**\n",
        "\n",
        "Remember how we can extract subsets of vectors (as discussed in section 2.6.2):\n",
        "- We can specify the indices of the elements to be extracted, where negative indices omit elements.\n",
        "- We can use a logical vector to specify which elements to extract based on their logical value.\n",
        "- Additionally, for vectors with named elements, there's a third option:"
      ],
      "metadata": {
        "id": "aash3jtdUTYf"
      }
    },
    {
      "cell_type": "code",
      "source": [
        "data <- c(Andreas = 178, John = 185, Jeff = 183)[c(\"John\", \"Jeff\")]\n",
        "data\n",
        "\n",
        "\n",
        "#A vector of names has been used to extract the elements."
      ],
      "metadata": {
        "colab": {
          "base_uri": "https://localhost:8080/",
          "height": 34
        },
        "id": "4IccRKFzUlqo",
        "outputId": "43c20dad-e337-4c4a-89d6-d43fb038798a"
      },
      "execution_count": null,
      "outputs": [
        {
          "output_type": "display_data",
          "data": {
            "text/html": [
              "<style>\n",
              ".dl-inline {width: auto; margin:0; padding: 0}\n",
              ".dl-inline>dt, .dl-inline>dd {float: none; width: auto; display: inline-block}\n",
              ".dl-inline>dt::after {content: \":\\0020\"; padding-right: .5ex}\n",
              ".dl-inline>dt:not(:first-of-type) {padding-left: .5ex}\n",
              "</style><dl class=dl-inline><dt>John</dt><dd>185</dd><dt>Jeff</dt><dd>183</dd></dl>\n"
            ],
            "text/markdown": "John\n:   185Jeff\n:   183\n\n",
            "text/latex": "\\begin{description*}\n\\item[John] 185\n\\item[Jeff] 183\n\\end{description*}\n",
            "text/plain": [
              "John Jeff \n",
              " 185  183 "
            ]
          },
          "metadata": {}
        }
      ]
    },
    {
      "cell_type": "markdown",
      "source": [
        "**7.1.2 Patterned Data**\n",
        "\n",
        "Use 5:15 to generate the numbers 5, 6, …, 15. Entering 15:5 will generate the sequence in the reverse order.\n",
        "To repeat the sequence (2, 3, 5) four times over, enter rep(c(2,3,5), 4) thus:"
      ],
      "metadata": {
        "id": "R5MAASKXUk_p"
      }
    },
    {
      "cell_type": "code",
      "source": [
        " rep(c(2,3,5),4)"
      ],
      "metadata": {
        "colab": {
          "base_uri": "https://localhost:8080/",
          "height": 34
        },
        "id": "uG5K_pnPVZHf",
        "outputId": "1bb4822f-63f7-4022-d406-715f3d2ccc9d"
      },
      "execution_count": null,
      "outputs": [
        {
          "output_type": "display_data",
          "data": {
            "text/html": [
              "<style>\n",
              ".list-inline {list-style: none; margin:0; padding: 0}\n",
              ".list-inline>li {display: inline-block}\n",
              ".list-inline>li:not(:last-child)::after {content: \"\\00b7\"; padding: 0 .5ex}\n",
              "</style>\n",
              "<ol class=list-inline><li>2</li><li>3</li><li>5</li><li>2</li><li>3</li><li>5</li><li>2</li><li>3</li><li>5</li><li>2</li><li>3</li><li>5</li></ol>\n"
            ],
            "text/markdown": "1. 2\n2. 3\n3. 5\n4. 2\n5. 3\n6. 5\n7. 2\n8. 3\n9. 5\n10. 2\n11. 3\n12. 5\n\n\n",
            "text/latex": "\\begin{enumerate*}\n\\item 2\n\\item 3\n\\item 5\n\\item 2\n\\item 3\n\\item 5\n\\item 2\n\\item 3\n\\item 5\n\\item 2\n\\item 3\n\\item 5\n\\end{enumerate*}\n",
            "text/plain": [
              " [1] 2 3 5 2 3 5 2 3 5 2 3 5"
            ]
          },
          "metadata": {}
        }
      ]
    },
    {
      "cell_type": "markdown",
      "source": [
        "If instead one wants four 2s, then four 3s, then four 5s, enter rep(c(2,3,5), c(4,4,4))."
      ],
      "metadata": {
        "id": "kRUJ3ekjVddV"
      }
    },
    {
      "cell_type": "code",
      "source": [
        " rep(c(2,3,5),c(4,4,4)) # An alternative is rep(c(2,3,5), each=4)"
      ],
      "metadata": {
        "colab": {
          "base_uri": "https://localhost:8080/",
          "height": 34
        },
        "id": "2cAiLPokVf5_",
        "outputId": "b56793dc-c328-44d3-eb3f-507c80850090"
      },
      "execution_count": null,
      "outputs": [
        {
          "output_type": "display_data",
          "data": {
            "text/html": [
              "<style>\n",
              ".list-inline {list-style: none; margin:0; padding: 0}\n",
              ".list-inline>li {display: inline-block}\n",
              ".list-inline>li:not(:last-child)::after {content: \"\\00b7\"; padding: 0 .5ex}\n",
              "</style>\n",
              "<ol class=list-inline><li>2</li><li>2</li><li>2</li><li>2</li><li>3</li><li>3</li><li>3</li><li>3</li><li>5</li><li>5</li><li>5</li><li>5</li></ol>\n"
            ],
            "text/markdown": "1. 2\n2. 2\n3. 2\n4. 2\n5. 3\n6. 3\n7. 3\n8. 3\n9. 5\n10. 5\n11. 5\n12. 5\n\n\n",
            "text/latex": "\\begin{enumerate*}\n\\item 2\n\\item 2\n\\item 2\n\\item 2\n\\item 3\n\\item 3\n\\item 3\n\\item 3\n\\item 5\n\\item 5\n\\item 5\n\\item 5\n\\end{enumerate*}\n",
            "text/plain": [
              " [1] 2 2 2 2 3 3 3 3 5 5 5 5"
            ]
          },
          "metadata": {}
        }
      ]
    },
    {
      "cell_type": "markdown",
      "source": [
        "You can simplify it like this:\n",
        "\n",
        "Instead of `c(4, 4, 4)`, you can use `rep(4, 3)`. So instead of `rep(c(2, 3, 5), c(4, 4, 4))`, you can use `rep(c(2, 3, 5), rep(4, 3))`.\n",
        "\n",
        "Also, remember that `rep()` has a `length.out` argument, which repeats the sequence until it reaches the specified length."
      ],
      "metadata": {
        "id": "h3O7J3hZVhRq"
      }
    },
    {
      "cell_type": "markdown",
      "source": [
        "## **7.2 Missing Values**\n",
        "\n",
        "In R, NA represents a missing value. Any arithmetic operation or relation involving NA results in NA. This includes comparisons such as <, <=, >, >=, ==, and !=. The first four compare magnitudes, == checks for equality, and != checks for inequality. It's essential to handle NA values properly to avoid unexpected results. For instance, x == NA produces NA, so it's better to use is.na(x) to determine which values of x are NA. Using x == NA doesn't provide any useful information about x.\n"
      ],
      "metadata": {
        "id": "lbkG2lzvVtIf"
      }
    },
    {
      "cell_type": "code",
      "source": [
        "x <- c(1,6,2,NA)\n",
        "is.na(x) # TRUE for when NA appears, and otherwise FALSE"
      ],
      "metadata": {
        "colab": {
          "base_uri": "https://localhost:8080/",
          "height": 34
        },
        "id": "5Rn7TWp8WGA1",
        "outputId": "09dd4375-51df-4d56-cdaa-79a729236517"
      },
      "execution_count": null,
      "outputs": [
        {
          "output_type": "display_data",
          "data": {
            "text/html": [
              "<style>\n",
              ".list-inline {list-style: none; margin:0; padding: 0}\n",
              ".list-inline>li {display: inline-block}\n",
              ".list-inline>li:not(:last-child)::after {content: \"\\00b7\"; padding: 0 .5ex}\n",
              "</style>\n",
              "<ol class=list-inline><li>FALSE</li><li>FALSE</li><li>FALSE</li><li>TRUE</li></ol>\n"
            ],
            "text/markdown": "1. FALSE\n2. FALSE\n3. FALSE\n4. TRUE\n\n\n",
            "text/latex": "\\begin{enumerate*}\n\\item FALSE\n\\item FALSE\n\\item FALSE\n\\item TRUE\n\\end{enumerate*}\n",
            "text/plain": [
              "[1] FALSE FALSE FALSE  TRUE"
            ]
          },
          "metadata": {}
        }
      ]
    },
    {
      "cell_type": "code",
      "source": [
        "x==NA  #All elements are set to NA"
      ],
      "metadata": {
        "colab": {
          "base_uri": "https://localhost:8080/",
          "height": 34
        },
        "id": "dpBwPST0WL5Y",
        "outputId": "48d35720-139f-4644-e731-1887dbd5e103"
      },
      "execution_count": null,
      "outputs": [
        {
          "output_type": "display_data",
          "data": {
            "text/html": [
              "<style>\n",
              ".list-inline {list-style: none; margin:0; padding: 0}\n",
              ".list-inline>li {display: inline-block}\n",
              ".list-inline>li:not(:last-child)::after {content: \"\\00b7\"; padding: 0 .5ex}\n",
              "</style>\n",
              "<ol class=list-inline><li>&lt;NA&gt;</li><li>&lt;NA&gt;</li><li>&lt;NA&gt;</li><li>&lt;NA&gt;</li></ol>\n"
            ],
            "text/markdown": "1. &lt;NA&gt;\n2. &lt;NA&gt;\n3. &lt;NA&gt;\n4. &lt;NA&gt;\n\n\n",
            "text/latex": "\\begin{enumerate*}\n\\item <NA>\n\\item <NA>\n\\item <NA>\n\\item <NA>\n\\end{enumerate*}\n",
            "text/plain": [
              "[1] NA NA NA NA"
            ]
          },
          "metadata": {}
        }
      ]
    },
    {
      "cell_type": "code",
      "source": [
        "NA==NA"
      ],
      "metadata": {
        "colab": {
          "base_uri": "https://localhost:8080/",
          "height": 34
        },
        "id": "m2dBvPSmWTAW",
        "outputId": "ccde468c-3d3f-4739-be41-f69582a08637"
      },
      "execution_count": null,
      "outputs": [
        {
          "output_type": "display_data",
          "data": {
            "text/html": [
              "&lt;NA&gt;"
            ],
            "text/markdown": "&lt;NA&gt;",
            "text/latex": "<NA>",
            "text/plain": [
              "[1] NA"
            ]
          },
          "metadata": {}
        }
      ]
    },
    {
      "cell_type": "markdown",
      "source": [
        "*Missing values in subscripts*: In R"
      ],
      "metadata": {
        "id": "H0FD1bJ8WXG3"
      }
    },
    {
      "cell_type": "code",
      "source": [
        "y[x>2]  <- x[x>2]    #generates the error message “NAs are not allowed in subscripted assignments\"."
      ],
      "metadata": {
        "id": "YH4e2ow1WbS4",
        "colab": {
          "base_uri": "https://localhost:8080/",
          "height": 72
        },
        "outputId": "b11eb0a8-ef5d-4510-f3a1-e687a64ab0eb"
      },
      "execution_count": null,
      "outputs": [
        {
          "output_type": "error",
          "ename": "ERROR",
          "evalue": "Error: object 'y' not found\n",
          "traceback": [
            "Error: object 'y' not found\nTraceback:\n"
          ]
        }
      ]
    },
    {
      "cell_type": "markdown",
      "source": [
        "Users are advised to use !is.na(x) to limit the selection, on one or both sides as necessary, to those elements\n",
        "of x that are not NAs. We will have more to say on missing values in the section on data frames that now\n",
        "follows"
      ],
      "metadata": {
        "id": "4-SiJ63KWlkh"
      }
    },
    {
      "cell_type": "markdown",
      "source": [
        "## **7.3 Data frames**\n",
        "\n",
        "\n",
        "Data frames are like tables in R that store data. They're more flexible than matrices because each column can have a different type of data, like numbers, text, or categories. However, all values in a column must be of the same type. If you have a data frame with only numbers in each column, it's similar to a matrix, but not exactly the same. You can convert a data frame to a matrix using the as.matrix() function. We'll talk more about lists, another important concept, later on."
      ],
      "metadata": {
        "id": "GP1C_BOpK2pl"
      }
    },
    {
      "cell_type": "markdown",
      "source": [
        "**7.3.1 Extraction of Component Parts of Data frames**\n",
        "\n",
        "Consider the data frame barley that accompanies the lattice package:"
      ],
      "metadata": {
        "id": "oq0OOGwmLQA6"
      }
    },
    {
      "cell_type": "code",
      "source": [
        "barley <- read.csv(\"/content/barley.csv\")\n",
        "names(barley)"
      ],
      "metadata": {
        "colab": {
          "base_uri": "https://localhost:8080/",
          "height": 34
        },
        "id": "rvNopvblK-5H",
        "outputId": "0a545533-f810-48da-e83a-963787c5ee4a"
      },
      "execution_count": null,
      "outputs": [
        {
          "output_type": "display_data",
          "data": {
            "text/html": [
              "<style>\n",
              ".list-inline {list-style: none; margin:0; padding: 0}\n",
              ".list-inline>li {display: inline-block}\n",
              ".list-inline>li:not(:last-child)::after {content: \"\\00b7\"; padding: 0 .5ex}\n",
              "</style>\n",
              "<ol class=list-inline><li>'rownames'</li><li>'yield'</li><li>'variety'</li><li>'year'</li><li>'site'</li></ol>\n"
            ],
            "text/markdown": "1. 'rownames'\n2. 'yield'\n3. 'variety'\n4. 'year'\n5. 'site'\n\n\n",
            "text/latex": "\\begin{enumerate*}\n\\item 'rownames'\n\\item 'yield'\n\\item 'variety'\n\\item 'year'\n\\item 'site'\n\\end{enumerate*}\n",
            "text/plain": [
              "[1] \"rownames\" \"yield\"    \"variety\"  \"year\"     \"site\"    "
            ]
          },
          "metadata": {}
        }
      ]
    },
    {
      "cell_type": "code",
      "source": [
        "# Check the structure of the barley dataset\n",
        "str(barley)\n"
      ],
      "metadata": {
        "colab": {
          "base_uri": "https://localhost:8080/"
        },
        "id": "Hyfzm5aMMyWq",
        "outputId": "dda29a43-c5ab-46cb-d649-c603500cb5e2"
      },
      "execution_count": null,
      "outputs": [
        {
          "output_type": "stream",
          "name": "stdout",
          "text": [
            "'data.frame':\t120 obs. of  5 variables:\n",
            " $ rownames: int  1 2 3 4 5 6 7 8 9 10 ...\n",
            " $ yield   : num  27 48.9 27.4 39.9 33 ...\n",
            " $ variety : chr  \"Manchuria\" \"Manchuria\" \"Manchuria\" \"Manchuria\" ...\n",
            " $ year    : int  1931 1931 1931 1931 1931 1931 1931 1931 1931 1931 ...\n",
            " $ site    : chr  \"University Farm\" \"Waseca\" \"Morris\" \"Crookston\" ...\n"
          ]
        }
      ]
    },
    {
      "cell_type": "code",
      "source": [
        "# If the \"site\" variable is not a factor, convert it to factor\n",
        "barley$site <- factor(barley$site)\n",
        "\n",
        "# Check the levels of the \"site\" variable\n",
        "levels(barley$site)\n"
      ],
      "metadata": {
        "colab": {
          "base_uri": "https://localhost:8080/",
          "height": 34
        },
        "id": "IynEQIxGO4iO",
        "outputId": "9fd54ef5-fc2b-4a54-aab8-fae2cdb3702c"
      },
      "execution_count": null,
      "outputs": [
        {
          "output_type": "display_data",
          "data": {
            "text/html": [
              "<style>\n",
              ".list-inline {list-style: none; margin:0; padding: 0}\n",
              ".list-inline>li {display: inline-block}\n",
              ".list-inline>li:not(:last-child)::after {content: \"\\00b7\"; padding: 0 .5ex}\n",
              "</style>\n",
              "<ol class=list-inline><li>'Crookston'</li><li>'Duluth'</li><li>'Grand Rapids'</li><li>'Morris'</li><li>'University Farm'</li><li>'Waseca'</li></ol>\n"
            ],
            "text/markdown": "1. 'Crookston'\n2. 'Duluth'\n3. 'Grand Rapids'\n4. 'Morris'\n5. 'University Farm'\n6. 'Waseca'\n\n\n",
            "text/latex": "\\begin{enumerate*}\n\\item 'Crookston'\n\\item 'Duluth'\n\\item 'Grand Rapids'\n\\item 'Morris'\n\\item 'University Farm'\n\\item 'Waseca'\n\\end{enumerate*}\n",
            "text/plain": [
              "[1] \"Crookston\"       \"Duluth\"          \"Grand Rapids\"    \"Morris\"         \n",
              "[5] \"University Farm\" \"Waseca\"         "
            ]
          },
          "metadata": {}
        }
      ]
    },
    {
      "cell_type": "code",
      "source": [
        "Duluth1932  <- barley[barley$year == \"1932\"  & barley$site == \"Duluth\", c(\"variety\", \"yield\")]\n",
        "Duluth1932"
      ],
      "metadata": {
        "colab": {
          "base_uri": "https://localhost:8080/",
          "height": 412
        },
        "id": "pmUJRkygPJnR",
        "outputId": "e689e546-45c7-4a06-877a-3bb5fdde9cda"
      },
      "execution_count": null,
      "outputs": [
        {
          "output_type": "display_data",
          "data": {
            "text/html": [
              "<table class=\"dataframe\">\n",
              "<caption>A data.frame: 10 × 2</caption>\n",
              "<thead>\n",
              "\t<tr><th></th><th scope=col>variety</th><th scope=col>yield</th></tr>\n",
              "\t<tr><th></th><th scope=col>&lt;chr&gt;</th><th scope=col>&lt;dbl&gt;</th></tr>\n",
              "</thead>\n",
              "<tbody>\n",
              "\t<tr><th scope=row>66</th><td>Manchuria       </td><td>22.56667</td></tr>\n",
              "\t<tr><th scope=row>72</th><td>Glabron         </td><td>25.86667</td></tr>\n",
              "\t<tr><th scope=row>78</th><td>Svansota        </td><td>22.23333</td></tr>\n",
              "\t<tr><th scope=row>84</th><td>Velvet          </td><td>22.46667</td></tr>\n",
              "\t<tr><th scope=row>90</th><td>Trebi           </td><td>30.60000</td></tr>\n",
              "\t<tr><th scope=row>96</th><td>No. 457         </td><td>22.70000</td></tr>\n",
              "\t<tr><th scope=row>102</th><td>No. 462         </td><td>22.50000</td></tr>\n",
              "\t<tr><th scope=row>108</th><td>Peatland        </td><td>31.36667</td></tr>\n",
              "\t<tr><th scope=row>114</th><td>No. 475         </td><td>27.36667</td></tr>\n",
              "\t<tr><th scope=row>120</th><td>Wisconsin No. 38</td><td>29.33333</td></tr>\n",
              "</tbody>\n",
              "</table>\n"
            ],
            "text/markdown": "\nA data.frame: 10 × 2\n\n| <!--/--> | variety &lt;chr&gt; | yield &lt;dbl&gt; |\n|---|---|---|\n| 66 | Manchuria        | 22.56667 |\n| 72 | Glabron          | 25.86667 |\n| 78 | Svansota         | 22.23333 |\n| 84 | Velvet           | 22.46667 |\n| 90 | Trebi            | 30.60000 |\n| 96 | No. 457          | 22.70000 |\n| 102 | No. 462          | 22.50000 |\n| 108 | Peatland         | 31.36667 |\n| 114 | No. 475          | 27.36667 |\n| 120 | Wisconsin No. 38 | 29.33333 |\n\n",
            "text/latex": "A data.frame: 10 × 2\n\\begin{tabular}{r|ll}\n  & variety & yield\\\\\n  & <chr> & <dbl>\\\\\n\\hline\n\t66 & Manchuria        & 22.56667\\\\\n\t72 & Glabron          & 25.86667\\\\\n\t78 & Svansota         & 22.23333\\\\\n\t84 & Velvet           & 22.46667\\\\\n\t90 & Trebi            & 30.60000\\\\\n\t96 & No. 457          & 22.70000\\\\\n\t102 & No. 462          & 22.50000\\\\\n\t108 & Peatland         & 31.36667\\\\\n\t114 & No. 475          & 27.36667\\\\\n\t120 & Wisconsin No. 38 & 29.33333\\\\\n\\end{tabular}\n",
            "text/plain": [
              "    variety          yield   \n",
              "66  Manchuria        22.56667\n",
              "72  Glabron          25.86667\n",
              "78  Svansota         22.23333\n",
              "84  Velvet           22.46667\n",
              "90  Trebi            30.60000\n",
              "96  No. 457          22.70000\n",
              "102 No. 462          22.50000\n",
              "108 Peatland         31.36667\n",
              "114 No. 475          27.36667\n",
              "120 Wisconsin No. 38 29.33333"
            ]
          },
          "metadata": {}
        }
      ]
    },
    {
      "cell_type": "markdown",
      "source": [
        "The first column holds the row labels, which in this case are the numbers of the rows that have been extracted.\n",
        "In place of c(\"variety\",\"yield\") we could have written, more simply, c(2,4)."
      ],
      "metadata": {
        "id": "hT6yxfalPrBU"
      }
    },
    {
      "cell_type": "markdown",
      "source": [
        "**7.3.2 Data Sets that Accompany R Packages**\n",
        "\n",
        "To see a list of available datasets, just type data() in your R console. If you want to know what datasets are included in a specific package like 'datasets', use data(package='datasets').\n",
        "\n",
        "For most packages, datasets are automatically accessible once the package is loaded. For example, you don't need to load the 'airquality' dataset separately; it's available once you load the 'datasets' package.\n",
        "\n",
        "When you install R, it comes with many commonly used packages already included. However, some packages need to be installed explicitly. In these notes, we'll use the MASS package occasionally, which is included in the default distribution.\n",
        "\n",
        "At the beginning of your session, R automatically loads some packages including the base package. You can load other installed packages using the library() command."
      ],
      "metadata": {
        "id": "a_Mxnb-nPyCR"
      }
    },
    {
      "cell_type": "markdown",
      "source": [
        "## **7.4 Data Entry Issues**"
      ],
      "metadata": {
        "id": "loxCZxV_QLEq"
      }
    },
    {
      "cell_type": "markdown",
      "source": [
        "**7.4.1 Idiosyncrasies**\n",
        "\n",
        "The read.table() function is great for reading numeric data arranged in rows and columns. However, if your data has text in one of the columns, R will automatically turn it into a 'factor', which is like a category with different levels for each unique text string.\n",
        "\n",
        "Sometimes, R may misunderstand your data, especially if there are small mistakes like using 'O' instead of '0' or 'l' instead of '1'. If you use symbols like '*', '.', or blank spaces, R might also think the column contains text instead of numbers.\n",
        "\n",
        "To avoid this confusion, you can use the as.is = TRUE parameter with read.table(). This tells R to keep the columns as they are without turning them into factors. Later, if you need to use a column as a factor, you can convert it manually or some functions will do it automatically for you."
      ],
      "metadata": {
        "id": "gUbFif1AQPLz"
      }
    },
    {
      "cell_type": "markdown",
      "source": [
        "**7.4.2 Missing values when using read.table()**\n",
        "\n",
        "When using read.table(), remember to code missing values as NA. If your data file comes from SAS, you'll likely need to set na.strings = c(\".\"). Sometimes, there might be different characters indicating missing values, like \"NA\", \".\", \"\", or just empty cells. You can handle multiple indicators by setting na.strings = c(\"NA\", \".\", \"\", \"\"). The empty quotes \"\" ensure that empty cells are also treated as NAs."
      ],
      "metadata": {
        "id": "FNdTxhUZPk61"
      }
    },
    {
      "cell_type": "markdown",
      "source": [
        "**7.4.3 Separators when using read.table()**\n",
        "\n",
        "With data from spreadsheets37, it is sometimes necessary to use tab (“\\t”) or comma as the separator. The\n",
        "default separator is white space. To set tab as the separator, specify sep=\"\\t\"."
      ],
      "metadata": {
        "id": "rBFPdvPxP20-"
      }
    },
    {
      "cell_type": "markdown",
      "source": [
        "## **7.5 Factors and Ordered Factors**\n",
        "\n",
        "\n",
        "In our earlier discussion, we learned about factors (section 2.6.4). They're great for efficiently storing character strings when there are many repeats of the same strings. They're especially useful for including qualitative effects in model and graphics formulas.\n",
        "\n",
        "Factors act like two things in one. They're stored as integer vectors, but each value is interpreted based on a table of levels.\n",
        "\n",
        "For example, let's look at the islandcities dataset that comes with these notes. It contains the populations of 19 island nation cities with urban center populations of 1.4 million or more in 1995. The row names are city names, the first column is the country name, and the second column is the urban center population in millions. Here's a table showing how many times each country appears:\n",
        "\n",
        "- Australia: 3\n",
        "- Cuba: 1\n",
        "- Indonesia: 4\n",
        "- Japan: 6\n",
        "- Philippines: 2\n",
        "- Taiwan: 1\n",
        "- United Kingdom: 2\n",
        "\n",
        "\n",
        "When you print the column named \"country,\" you see the names, not the underlying integer values. This translation happens automatically in R for most factor operations, but there are some exceptions that can be tricky. To ensure you get the country names, specify them explicitly.\n"
      ],
      "metadata": {
        "id": "nrF4-KB_P_Eh"
      }
    },
    {
      "cell_type": "code",
      "source": [
        "islandcities <- read.csv(\"/content/islandcities.csv\")\n",
        "as.character(islandcities$country)"
      ],
      "metadata": {
        "colab": {
          "base_uri": "https://localhost:8080/",
          "height": 330
        },
        "id": "c58_MPREQczo",
        "outputId": "28d06efa-ef93-4914-c65c-c17731d9a5c6"
      },
      "execution_count": null,
      "outputs": [
        {
          "output_type": "display_data",
          "data": {
            "text/html": [
              "<style>\n",
              ".list-inline {list-style: none; margin:0; padding: 0}\n",
              ".list-inline>li {display: inline-block}\n",
              ".list-inline>li:not(:last-child)::after {content: \"\\00b7\"; padding: 0 .5ex}\n",
              "</style>\n",
              "<ol class=list-inline><li>'UGA'</li><li>'UGA'</li><li>'ITA'</li><li>'ITA'</li><li>'ITA'</li><li>'ALD'</li><li>'PSE'</li><li>'VAT'</li><li>'FRA'</li><li>'FRA'</li><li>'FRA'</li><li>'ATA'</li><li>'ZMB'</li><li>'UGA'</li><li>'UGA'</li><li>'UGA'</li><li>'UGA'</li><li>'UGA'</li><li>'UGA'</li><li>'NAM'</li><li>'ITA'</li><li>'ITA'</li><li>'ITA'</li><li>'ITA'</li><li>'ITA'</li><li>'ITA'</li><li>'ITA'</li><li>'ITA'</li><li>'ITA'</li><li>'FRA'</li><li>'JPN'</li><li>'FRA'</li><li>'FRA'</li><li>'FRA'</li><li>'FRA'</li><li>'FRA'</li><li>'FRA'</li><li>'FRA'</li><li>'FRA'</li><li>'FRA'</li><li>'FRA'</li><li>'FRA'</li><li>'FRA'</li><li>'SRB'</li><li>'BIH'</li><li>'GBR'</li><li>'GBR'</li><li>'GBR'</li><li>'SMR'</li><li>'NLD'</li><li>'NLD'</li><li>'LIE'</li><li>'ATA'</li><li>'ATA'</li><li>'ATA'</li><li>'ATA'</li><li>'ATA'</li><li>'ATA'</li><li>'ATA'</li><li>'ATA'</li><li>'ATA'</li><li>'ATA'</li><li>'ATA'</li><li>'ATA'</li><li>'ATA'</li><li>'ATA'</li><li>'ATA'</li><li>'ATA'</li><li>'ATA'</li><li>'ATA'</li><li>'ATA'</li><li>'ATA'</li><li>'ATA'</li><li>'ATA'</li><li>'ATA'</li><li>'ATA'</li><li>'ATA'</li><li>'ATA'</li><li>'ATA'</li><li>'ATA'</li><li>'ATA'</li><li>'ATA'</li><li>'ATA'</li><li>'ATA'</li><li>'ATA'</li><li>'ATA'</li><li>'ATA'</li><li>'ATA'</li><li>'ATA'</li><li>'ATA'</li><li>'ATA'</li><li>'GBR'</li><li>'SWZ'</li><li>'GBR'</li><li>'GBR'</li><li>'NOR'</li><li>'LUX'</li><li>'ITA'</li><li>'FRA'</li><li>'JPN'</li><li>'FRA'</li><li>'FRA'</li><li>'FRA'</li><li>'FRA'</li><li>'FRA'</li><li>'GEO'</li><li>'PRT'</li><li>'SDN'</li><li>'NAM'</li><li>'NAM'</li><li>'ITA'</li><li>'GEO'</li><li>'FSM'</li><li>'MHL'</li><li>'USA'</li><li>'TUV'</li><li>'PLW'</li><li>'SAH'</li><li>'MCO'</li><li>'KIR'</li><li>'COM'</li><li>'CHN'</li><li>'AND'</li><li>'USA'</li><li>'USA'</li><li>'USA'</li><li>'GBR'</li><li>'PAK'</li><li>'KOR'</li><li>'NGA'</li><li>'CHN'</li><li>'CHN'</li><li>'CHN'</li><li>'CHN'</li><li>'CHN'</li><li>'CHN'</li><li>'CHN'</li><li>'CHN'</li><li>'CHN'</li><li>'CHN'</li><li>'CHN'</li><li>'IND'</li><li>'IND'</li><li>'IND'</li><li>'IND'</li><li>'IND'</li><li>'IND'</li><li>'IND'</li><li>'IND'</li><li>'IND'</li><li>'IND'</li><li>'IND'</li><li>'IND'</li><li>'IND'</li><li>'IND'</li><li>'IND'</li><li>'IND'</li><li>'IND'</li><li>'URY'</li><li>'USA'</li><li>'USA'</li><li>'USA'</li><li>'USA'</li><li>'USA'</li><li>'USA'</li><li>'USA'</li><li>'USA'</li><li>'USA'</li><li>'USA'</li><li>'USA'</li><li>'USA'</li><li>'USA'</li><li>'USA'</li><li>'USA'</li><li>'USA'</li><li>'USA'</li><li>'USA'</li><li>'USA'</li><li>'USA'</li><li>'USA'</li><li>'USA'</li><li>'USA'</li><li>'USA'</li><li>'USA'</li><li>'USA'</li><li>'USA'</li><li>'USA'</li><li>'USA'</li><li>'USA'</li><li>'USA'</li><li>'USA'</li><li>'USA'</li><li>'USA'</li><li>'VEN'</li><li>'USA'</li><li>'USA'</li><li>'USA'</li><li>'USA'</li><li>'USA'</li><li>'USA'</li><li>⋯</li><li>'GBR'</li><li>'GBR'</li><li>'TON'</li><li>'SOL'</li><li>'SYC'</li><li>'STP'</li><li>'WSM'</li><li>'MLT'</li><li>'MDV'</li><li>'ISR'</li><li>'CPV'</li><li>'BHS'</li><li>'CYP'</li><li>'TWN'</li><li>'CHN'</li><li>'CHN'</li><li>'USA'</li><li>'USA'</li><li>'USA'</li><li>'USA'</li><li>'USA'</li><li>'USA'</li><li>'USA'</li><li>'USA'</li><li>'VEN'</li><li>'USA'</li><li>'USA'</li><li>'USA'</li><li>'USA'</li><li>'USA'</li><li>'VNM'</li><li>'VNM'</li><li>'TUR'</li><li>'HUN'</li><li>'YEM'</li><li>'ESP'</li><li>'ROU'</li><li>'SYR'</li><li>'SYR'</li><li>'CHE'</li><li>'PRT'</li><li>'SDN'</li><li>'SAU'</li><li>'SAU'</li><li>'NOR'</li><li>'PAK'</li><li>'PAK'</li><li>'ZAF'</li><li>'RUS'</li><li>'MEX'</li><li>'MEX'</li><li>'NGA'</li><li>'POL'</li><li>'PRK'</li><li>'TZA'</li><li>'IDN'</li><li>'IRL'</li><li>'LBR'</li><li>'ITA'</li><li>'ITA'</li><li>'MYS'</li><li>'CHN'</li><li>'CHN'</li><li>'CHN'</li><li>'CHN'</li><li>'CHN'</li><li>'CHN'</li><li>'CHN'</li><li>'IDN'</li><li>'IDN'</li><li>'ECU'</li><li>'COL'</li><li>'COL'</li><li>'CUB'</li><li>'EGY'</li><li>'DEU'</li><li>'DEU'</li><li>'DEU'</li><li>'CZE'</li><li>'KWT'</li><li>'CHN'</li><li>'CHN'</li><li>'CHN'</li><li>'CHN'</li><li>'CHN'</li><li>'CHN'</li><li>'CHN'</li><li>'CHN'</li><li>'CHN'</li><li>'CHN'</li><li>'CHN'</li><li>'CHN'</li><li>'JPN'</li><li>'CHN'</li><li>'CHN'</li><li>'CHN'</li><li>'JPN'</li><li>'DOM'</li><li>'GHA'</li><li>'IND'</li><li>'IND'</li><li>'IND'</li><li>'IND'</li><li>'LBY'</li><li>'ISR'</li><li>'FIN'</li><li>'IRN'</li><li>'IND'</li><li>'IND'</li><li>'IND'</li><li>'IND'</li><li>'IND'</li><li>'IND'</li><li>'DNK'</li><li>'CIV'</li><li>'BRA'</li><li>'BRA'</li><li>'BRA'</li><li>'BRA'</li><li>'BRA'</li><li>'BRA'</li><li>'CAN'</li><li>'CAN'</li><li>'BRA'</li><li>'BRA'</li><li>'BEL'</li><li>'BGD'</li><li>'AGO'</li><li>'DZA'</li><li>'BGD'</li><li>'AUS'</li><li>'MMR'</li><li>'USA'</li><li>'USA'</li><li>'USA'</li><li>'USA'</li><li>'USA'</li><li>'USA'</li><li>'VEN'</li><li>'UKR'</li><li>'ARE'</li><li>'UZB'</li><li>'ESP'</li><li>'CHE'</li><li>'SWE'</li><li>'THA'</li><li>'PER'</li><li>'SEN'</li><li>'ZAF'</li><li>'NLD'</li><li>'MAR'</li><li>'KOR'</li><li>'PHL'</li><li>'MEX'</li><li>'NZL'</li><li>'DEU'</li><li>'CHN'</li><li>'CHN'</li><li>'JPN'</li><li>'COD'</li><li>'IND'</li><li>'IND'</li><li>'GRC'</li><li>'IRQ'</li><li>'ETH'</li><li>'IRN'</li><li>'CAN'</li><li>'CAN'</li><li>'ARG'</li><li>'AFG'</li><li>'AUT'</li><li>'AUS'</li><li>'TWN'</li><li>'USA'</li><li>'USA'</li><li>'USA'</li><li>'GBR'</li><li>'TUR'</li><li>'SAU'</li><li>'ZAF'</li><li>'RUS'</li><li>'MEX'</li><li>'NGA'</li><li>'ITA'</li><li>'CHN'</li><li>'KEN'</li><li>'IDN'</li><li>'COL'</li><li>'EGY'</li><li>'CHN'</li><li>'JPN'</li><li>'IND'</li><li>'FRA'</li><li>'CHL'</li><li>'IND'</li><li>'BRA'</li><li>'BRA'</li><li>'AUS'</li><li>'SGP'</li><li>'CHN'</li></ol>\n"
            ],
            "text/markdown": "1. 'UGA'\n2. 'UGA'\n3. 'ITA'\n4. 'ITA'\n5. 'ITA'\n6. 'ALD'\n7. 'PSE'\n8. 'VAT'\n9. 'FRA'\n10. 'FRA'\n11. 'FRA'\n12. 'ATA'\n13. 'ZMB'\n14. 'UGA'\n15. 'UGA'\n16. 'UGA'\n17. 'UGA'\n18. 'UGA'\n19. 'UGA'\n20. 'NAM'\n21. 'ITA'\n22. 'ITA'\n23. 'ITA'\n24. 'ITA'\n25. 'ITA'\n26. 'ITA'\n27. 'ITA'\n28. 'ITA'\n29. 'ITA'\n30. 'FRA'\n31. 'JPN'\n32. 'FRA'\n33. 'FRA'\n34. 'FRA'\n35. 'FRA'\n36. 'FRA'\n37. 'FRA'\n38. 'FRA'\n39. 'FRA'\n40. 'FRA'\n41. 'FRA'\n42. 'FRA'\n43. 'FRA'\n44. 'SRB'\n45. 'BIH'\n46. 'GBR'\n47. 'GBR'\n48. 'GBR'\n49. 'SMR'\n50. 'NLD'\n51. 'NLD'\n52. 'LIE'\n53. 'ATA'\n54. 'ATA'\n55. 'ATA'\n56. 'ATA'\n57. 'ATA'\n58. 'ATA'\n59. 'ATA'\n60. 'ATA'\n61. 'ATA'\n62. 'ATA'\n63. 'ATA'\n64. 'ATA'\n65. 'ATA'\n66. 'ATA'\n67. 'ATA'\n68. 'ATA'\n69. 'ATA'\n70. 'ATA'\n71. 'ATA'\n72. 'ATA'\n73. 'ATA'\n74. 'ATA'\n75. 'ATA'\n76. 'ATA'\n77. 'ATA'\n78. 'ATA'\n79. 'ATA'\n80. 'ATA'\n81. 'ATA'\n82. 'ATA'\n83. 'ATA'\n84. 'ATA'\n85. 'ATA'\n86. 'ATA'\n87. 'ATA'\n88. 'ATA'\n89. 'ATA'\n90. 'ATA'\n91. 'ATA'\n92. 'GBR'\n93. 'SWZ'\n94. 'GBR'\n95. 'GBR'\n96. 'NOR'\n97. 'LUX'\n98. 'ITA'\n99. 'FRA'\n100. 'JPN'\n101. 'FRA'\n102. 'FRA'\n103. 'FRA'\n104. 'FRA'\n105. 'FRA'\n106. 'GEO'\n107. 'PRT'\n108. 'SDN'\n109. 'NAM'\n110. 'NAM'\n111. 'ITA'\n112. 'GEO'\n113. 'FSM'\n114. 'MHL'\n115. 'USA'\n116. 'TUV'\n117. 'PLW'\n118. 'SAH'\n119. 'MCO'\n120. 'KIR'\n121. 'COM'\n122. 'CHN'\n123. 'AND'\n124. 'USA'\n125. 'USA'\n126. 'USA'\n127. 'GBR'\n128. 'PAK'\n129. 'KOR'\n130. 'NGA'\n131. 'CHN'\n132. 'CHN'\n133. 'CHN'\n134. 'CHN'\n135. 'CHN'\n136. 'CHN'\n137. 'CHN'\n138. 'CHN'\n139. 'CHN'\n140. 'CHN'\n141. 'CHN'\n142. 'IND'\n143. 'IND'\n144. 'IND'\n145. 'IND'\n146. 'IND'\n147. 'IND'\n148. 'IND'\n149. 'IND'\n150. 'IND'\n151. 'IND'\n152. 'IND'\n153. 'IND'\n154. 'IND'\n155. 'IND'\n156. 'IND'\n157. 'IND'\n158. 'IND'\n159. 'URY'\n160. 'USA'\n161. 'USA'\n162. 'USA'\n163. 'USA'\n164. 'USA'\n165. 'USA'\n166. 'USA'\n167. 'USA'\n168. 'USA'\n169. 'USA'\n170. 'USA'\n171. 'USA'\n172. 'USA'\n173. 'USA'\n174. 'USA'\n175. 'USA'\n176. 'USA'\n177. 'USA'\n178. 'USA'\n179. 'USA'\n180. 'USA'\n181. 'USA'\n182. 'USA'\n183. 'USA'\n184. 'USA'\n185. 'USA'\n186. 'USA'\n187. 'USA'\n188. 'USA'\n189. 'USA'\n190. 'USA'\n191. 'USA'\n192. 'USA'\n193. 'USA'\n194. 'VEN'\n195. 'USA'\n196. 'USA'\n197. 'USA'\n198. 'USA'\n199. 'USA'\n200. 'USA'\n201. ⋯\n202. 'GBR'\n203. 'GBR'\n204. 'TON'\n205. 'SOL'\n206. 'SYC'\n207. 'STP'\n208. 'WSM'\n209. 'MLT'\n210. 'MDV'\n211. 'ISR'\n212. 'CPV'\n213. 'BHS'\n214. 'CYP'\n215. 'TWN'\n216. 'CHN'\n217. 'CHN'\n218. 'USA'\n219. 'USA'\n220. 'USA'\n221. 'USA'\n222. 'USA'\n223. 'USA'\n224. 'USA'\n225. 'USA'\n226. 'VEN'\n227. 'USA'\n228. 'USA'\n229. 'USA'\n230. 'USA'\n231. 'USA'\n232. 'VNM'\n233. 'VNM'\n234. 'TUR'\n235. 'HUN'\n236. 'YEM'\n237. 'ESP'\n238. 'ROU'\n239. 'SYR'\n240. 'SYR'\n241. 'CHE'\n242. 'PRT'\n243. 'SDN'\n244. 'SAU'\n245. 'SAU'\n246. 'NOR'\n247. 'PAK'\n248. 'PAK'\n249. 'ZAF'\n250. 'RUS'\n251. 'MEX'\n252. 'MEX'\n253. 'NGA'\n254. 'POL'\n255. 'PRK'\n256. 'TZA'\n257. 'IDN'\n258. 'IRL'\n259. 'LBR'\n260. 'ITA'\n261. 'ITA'\n262. 'MYS'\n263. 'CHN'\n264. 'CHN'\n265. 'CHN'\n266. 'CHN'\n267. 'CHN'\n268. 'CHN'\n269. 'CHN'\n270. 'IDN'\n271. 'IDN'\n272. 'ECU'\n273. 'COL'\n274. 'COL'\n275. 'CUB'\n276. 'EGY'\n277. 'DEU'\n278. 'DEU'\n279. 'DEU'\n280. 'CZE'\n281. 'KWT'\n282. 'CHN'\n283. 'CHN'\n284. 'CHN'\n285. 'CHN'\n286. 'CHN'\n287. 'CHN'\n288. 'CHN'\n289. 'CHN'\n290. 'CHN'\n291. 'CHN'\n292. 'CHN'\n293. 'CHN'\n294. 'JPN'\n295. 'CHN'\n296. 'CHN'\n297. 'CHN'\n298. 'JPN'\n299. 'DOM'\n300. 'GHA'\n301. 'IND'\n302. 'IND'\n303. 'IND'\n304. 'IND'\n305. 'LBY'\n306. 'ISR'\n307. 'FIN'\n308. 'IRN'\n309. 'IND'\n310. 'IND'\n311. 'IND'\n312. 'IND'\n313. 'IND'\n314. 'IND'\n315. 'DNK'\n316. 'CIV'\n317. 'BRA'\n318. 'BRA'\n319. 'BRA'\n320. 'BRA'\n321. 'BRA'\n322. 'BRA'\n323. 'CAN'\n324. 'CAN'\n325. 'BRA'\n326. 'BRA'\n327. 'BEL'\n328. 'BGD'\n329. 'AGO'\n330. 'DZA'\n331. 'BGD'\n332. 'AUS'\n333. 'MMR'\n334. 'USA'\n335. 'USA'\n336. 'USA'\n337. 'USA'\n338. 'USA'\n339. 'USA'\n340. 'VEN'\n341. 'UKR'\n342. 'ARE'\n343. 'UZB'\n344. 'ESP'\n345. 'CHE'\n346. 'SWE'\n347. 'THA'\n348. 'PER'\n349. 'SEN'\n350. 'ZAF'\n351. 'NLD'\n352. 'MAR'\n353. 'KOR'\n354. 'PHL'\n355. 'MEX'\n356. 'NZL'\n357. 'DEU'\n358. 'CHN'\n359. 'CHN'\n360. 'JPN'\n361. 'COD'\n362. 'IND'\n363. 'IND'\n364. 'GRC'\n365. 'IRQ'\n366. 'ETH'\n367. 'IRN'\n368. 'CAN'\n369. 'CAN'\n370. 'ARG'\n371. 'AFG'\n372. 'AUT'\n373. 'AUS'\n374. 'TWN'\n375. 'USA'\n376. 'USA'\n377. 'USA'\n378. 'GBR'\n379. 'TUR'\n380. 'SAU'\n381. 'ZAF'\n382. 'RUS'\n383. 'MEX'\n384. 'NGA'\n385. 'ITA'\n386. 'CHN'\n387. 'KEN'\n388. 'IDN'\n389. 'COL'\n390. 'EGY'\n391. 'CHN'\n392. 'JPN'\n393. 'IND'\n394. 'FRA'\n395. 'CHL'\n396. 'IND'\n397. 'BRA'\n398. 'BRA'\n399. 'AUS'\n400. 'SGP'\n401. 'CHN'\n\n\n",
            "text/latex": "\\begin{enumerate*}\n\\item 'UGA'\n\\item 'UGA'\n\\item 'ITA'\n\\item 'ITA'\n\\item 'ITA'\n\\item 'ALD'\n\\item 'PSE'\n\\item 'VAT'\n\\item 'FRA'\n\\item 'FRA'\n\\item 'FRA'\n\\item 'ATA'\n\\item 'ZMB'\n\\item 'UGA'\n\\item 'UGA'\n\\item 'UGA'\n\\item 'UGA'\n\\item 'UGA'\n\\item 'UGA'\n\\item 'NAM'\n\\item 'ITA'\n\\item 'ITA'\n\\item 'ITA'\n\\item 'ITA'\n\\item 'ITA'\n\\item 'ITA'\n\\item 'ITA'\n\\item 'ITA'\n\\item 'ITA'\n\\item 'FRA'\n\\item 'JPN'\n\\item 'FRA'\n\\item 'FRA'\n\\item 'FRA'\n\\item 'FRA'\n\\item 'FRA'\n\\item 'FRA'\n\\item 'FRA'\n\\item 'FRA'\n\\item 'FRA'\n\\item 'FRA'\n\\item 'FRA'\n\\item 'FRA'\n\\item 'SRB'\n\\item 'BIH'\n\\item 'GBR'\n\\item 'GBR'\n\\item 'GBR'\n\\item 'SMR'\n\\item 'NLD'\n\\item 'NLD'\n\\item 'LIE'\n\\item 'ATA'\n\\item 'ATA'\n\\item 'ATA'\n\\item 'ATA'\n\\item 'ATA'\n\\item 'ATA'\n\\item 'ATA'\n\\item 'ATA'\n\\item 'ATA'\n\\item 'ATA'\n\\item 'ATA'\n\\item 'ATA'\n\\item 'ATA'\n\\item 'ATA'\n\\item 'ATA'\n\\item 'ATA'\n\\item 'ATA'\n\\item 'ATA'\n\\item 'ATA'\n\\item 'ATA'\n\\item 'ATA'\n\\item 'ATA'\n\\item 'ATA'\n\\item 'ATA'\n\\item 'ATA'\n\\item 'ATA'\n\\item 'ATA'\n\\item 'ATA'\n\\item 'ATA'\n\\item 'ATA'\n\\item 'ATA'\n\\item 'ATA'\n\\item 'ATA'\n\\item 'ATA'\n\\item 'ATA'\n\\item 'ATA'\n\\item 'ATA'\n\\item 'ATA'\n\\item 'ATA'\n\\item 'GBR'\n\\item 'SWZ'\n\\item 'GBR'\n\\item 'GBR'\n\\item 'NOR'\n\\item 'LUX'\n\\item 'ITA'\n\\item 'FRA'\n\\item 'JPN'\n\\item 'FRA'\n\\item 'FRA'\n\\item 'FRA'\n\\item 'FRA'\n\\item 'FRA'\n\\item 'GEO'\n\\item 'PRT'\n\\item 'SDN'\n\\item 'NAM'\n\\item 'NAM'\n\\item 'ITA'\n\\item 'GEO'\n\\item 'FSM'\n\\item 'MHL'\n\\item 'USA'\n\\item 'TUV'\n\\item 'PLW'\n\\item 'SAH'\n\\item 'MCO'\n\\item 'KIR'\n\\item 'COM'\n\\item 'CHN'\n\\item 'AND'\n\\item 'USA'\n\\item 'USA'\n\\item 'USA'\n\\item 'GBR'\n\\item 'PAK'\n\\item 'KOR'\n\\item 'NGA'\n\\item 'CHN'\n\\item 'CHN'\n\\item 'CHN'\n\\item 'CHN'\n\\item 'CHN'\n\\item 'CHN'\n\\item 'CHN'\n\\item 'CHN'\n\\item 'CHN'\n\\item 'CHN'\n\\item 'CHN'\n\\item 'IND'\n\\item 'IND'\n\\item 'IND'\n\\item 'IND'\n\\item 'IND'\n\\item 'IND'\n\\item 'IND'\n\\item 'IND'\n\\item 'IND'\n\\item 'IND'\n\\item 'IND'\n\\item 'IND'\n\\item 'IND'\n\\item 'IND'\n\\item 'IND'\n\\item 'IND'\n\\item 'IND'\n\\item 'URY'\n\\item 'USA'\n\\item 'USA'\n\\item 'USA'\n\\item 'USA'\n\\item 'USA'\n\\item 'USA'\n\\item 'USA'\n\\item 'USA'\n\\item 'USA'\n\\item 'USA'\n\\item 'USA'\n\\item 'USA'\n\\item 'USA'\n\\item 'USA'\n\\item 'USA'\n\\item 'USA'\n\\item 'USA'\n\\item 'USA'\n\\item 'USA'\n\\item 'USA'\n\\item 'USA'\n\\item 'USA'\n\\item 'USA'\n\\item 'USA'\n\\item 'USA'\n\\item 'USA'\n\\item 'USA'\n\\item 'USA'\n\\item 'USA'\n\\item 'USA'\n\\item 'USA'\n\\item 'USA'\n\\item 'USA'\n\\item 'USA'\n\\item 'VEN'\n\\item 'USA'\n\\item 'USA'\n\\item 'USA'\n\\item 'USA'\n\\item 'USA'\n\\item 'USA'\n\\item ⋯\n\\item 'GBR'\n\\item 'GBR'\n\\item 'TON'\n\\item 'SOL'\n\\item 'SYC'\n\\item 'STP'\n\\item 'WSM'\n\\item 'MLT'\n\\item 'MDV'\n\\item 'ISR'\n\\item 'CPV'\n\\item 'BHS'\n\\item 'CYP'\n\\item 'TWN'\n\\item 'CHN'\n\\item 'CHN'\n\\item 'USA'\n\\item 'USA'\n\\item 'USA'\n\\item 'USA'\n\\item 'USA'\n\\item 'USA'\n\\item 'USA'\n\\item 'USA'\n\\item 'VEN'\n\\item 'USA'\n\\item 'USA'\n\\item 'USA'\n\\item 'USA'\n\\item 'USA'\n\\item 'VNM'\n\\item 'VNM'\n\\item 'TUR'\n\\item 'HUN'\n\\item 'YEM'\n\\item 'ESP'\n\\item 'ROU'\n\\item 'SYR'\n\\item 'SYR'\n\\item 'CHE'\n\\item 'PRT'\n\\item 'SDN'\n\\item 'SAU'\n\\item 'SAU'\n\\item 'NOR'\n\\item 'PAK'\n\\item 'PAK'\n\\item 'ZAF'\n\\item 'RUS'\n\\item 'MEX'\n\\item 'MEX'\n\\item 'NGA'\n\\item 'POL'\n\\item 'PRK'\n\\item 'TZA'\n\\item 'IDN'\n\\item 'IRL'\n\\item 'LBR'\n\\item 'ITA'\n\\item 'ITA'\n\\item 'MYS'\n\\item 'CHN'\n\\item 'CHN'\n\\item 'CHN'\n\\item 'CHN'\n\\item 'CHN'\n\\item 'CHN'\n\\item 'CHN'\n\\item 'IDN'\n\\item 'IDN'\n\\item 'ECU'\n\\item 'COL'\n\\item 'COL'\n\\item 'CUB'\n\\item 'EGY'\n\\item 'DEU'\n\\item 'DEU'\n\\item 'DEU'\n\\item 'CZE'\n\\item 'KWT'\n\\item 'CHN'\n\\item 'CHN'\n\\item 'CHN'\n\\item 'CHN'\n\\item 'CHN'\n\\item 'CHN'\n\\item 'CHN'\n\\item 'CHN'\n\\item 'CHN'\n\\item 'CHN'\n\\item 'CHN'\n\\item 'CHN'\n\\item 'JPN'\n\\item 'CHN'\n\\item 'CHN'\n\\item 'CHN'\n\\item 'JPN'\n\\item 'DOM'\n\\item 'GHA'\n\\item 'IND'\n\\item 'IND'\n\\item 'IND'\n\\item 'IND'\n\\item 'LBY'\n\\item 'ISR'\n\\item 'FIN'\n\\item 'IRN'\n\\item 'IND'\n\\item 'IND'\n\\item 'IND'\n\\item 'IND'\n\\item 'IND'\n\\item 'IND'\n\\item 'DNK'\n\\item 'CIV'\n\\item 'BRA'\n\\item 'BRA'\n\\item 'BRA'\n\\item 'BRA'\n\\item 'BRA'\n\\item 'BRA'\n\\item 'CAN'\n\\item 'CAN'\n\\item 'BRA'\n\\item 'BRA'\n\\item 'BEL'\n\\item 'BGD'\n\\item 'AGO'\n\\item 'DZA'\n\\item 'BGD'\n\\item 'AUS'\n\\item 'MMR'\n\\item 'USA'\n\\item 'USA'\n\\item 'USA'\n\\item 'USA'\n\\item 'USA'\n\\item 'USA'\n\\item 'VEN'\n\\item 'UKR'\n\\item 'ARE'\n\\item 'UZB'\n\\item 'ESP'\n\\item 'CHE'\n\\item 'SWE'\n\\item 'THA'\n\\item 'PER'\n\\item 'SEN'\n\\item 'ZAF'\n\\item 'NLD'\n\\item 'MAR'\n\\item 'KOR'\n\\item 'PHL'\n\\item 'MEX'\n\\item 'NZL'\n\\item 'DEU'\n\\item 'CHN'\n\\item 'CHN'\n\\item 'JPN'\n\\item 'COD'\n\\item 'IND'\n\\item 'IND'\n\\item 'GRC'\n\\item 'IRQ'\n\\item 'ETH'\n\\item 'IRN'\n\\item 'CAN'\n\\item 'CAN'\n\\item 'ARG'\n\\item 'AFG'\n\\item 'AUT'\n\\item 'AUS'\n\\item 'TWN'\n\\item 'USA'\n\\item 'USA'\n\\item 'USA'\n\\item 'GBR'\n\\item 'TUR'\n\\item 'SAU'\n\\item 'ZAF'\n\\item 'RUS'\n\\item 'MEX'\n\\item 'NGA'\n\\item 'ITA'\n\\item 'CHN'\n\\item 'KEN'\n\\item 'IDN'\n\\item 'COL'\n\\item 'EGY'\n\\item 'CHN'\n\\item 'JPN'\n\\item 'IND'\n\\item 'FRA'\n\\item 'CHL'\n\\item 'IND'\n\\item 'BRA'\n\\item 'BRA'\n\\item 'AUS'\n\\item 'SGP'\n\\item 'CHN'\n\\end{enumerate*}\n",
            "text/plain": [
              "   [1] \"UGA\" \"UGA\" \"ITA\" \"ITA\" \"ITA\" \"ALD\" \"PSE\" \"VAT\" \"FRA\" \"FRA\" \"FRA\" \"ATA\"\n",
              "  [13] \"ZMB\" \"UGA\" \"UGA\" \"UGA\" \"UGA\" \"UGA\" \"UGA\" \"NAM\" \"ITA\" \"ITA\" \"ITA\" \"ITA\"\n",
              "  [25] \"ITA\" \"ITA\" \"ITA\" \"ITA\" \"ITA\" \"FRA\" \"JPN\" \"FRA\" \"FRA\" \"FRA\" \"FRA\" \"FRA\"\n",
              "  [37] \"FRA\" \"FRA\" \"FRA\" \"FRA\" \"FRA\" \"FRA\" \"FRA\" \"SRB\" \"BIH\" \"GBR\" \"GBR\" \"GBR\"\n",
              "  [49] \"SMR\" \"NLD\" \"NLD\" \"LIE\" \"ATA\" \"ATA\" \"ATA\" \"ATA\" \"ATA\" \"ATA\" \"ATA\" \"ATA\"\n",
              "  [61] \"ATA\" \"ATA\" \"ATA\" \"ATA\" \"ATA\" \"ATA\" \"ATA\" \"ATA\" \"ATA\" \"ATA\" \"ATA\" \"ATA\"\n",
              "  [73] \"ATA\" \"ATA\" \"ATA\" \"ATA\" \"ATA\" \"ATA\" \"ATA\" \"ATA\" \"ATA\" \"ATA\" \"ATA\" \"ATA\"\n",
              "  [85] \"ATA\" \"ATA\" \"ATA\" \"ATA\" \"ATA\" \"ATA\" \"ATA\" \"GBR\" \"SWZ\" \"GBR\" \"GBR\" \"NOR\"\n",
              "  [97] \"LUX\" \"ITA\" \"FRA\" \"JPN\" \"FRA\" \"FRA\" \"FRA\" \"FRA\" \"FRA\" \"GEO\" \"PRT\" \"SDN\"\n",
              " [109] \"NAM\" \"NAM\" \"ITA\" \"GEO\" \"FSM\" \"MHL\" \"USA\" \"TUV\" \"PLW\" \"SAH\" \"MCO\" \"KIR\"\n",
              " [121] \"COM\" \"CHN\" \"AND\" \"USA\" \"USA\" \"USA\" \"GBR\" \"PAK\" \"KOR\" \"NGA\" \"CHN\" \"CHN\"\n",
              " [133] \"CHN\" \"CHN\" \"CHN\" \"CHN\" \"CHN\" \"CHN\" \"CHN\" \"CHN\" \"CHN\" \"IND\" \"IND\" \"IND\"\n",
              " [145] \"IND\" \"IND\" \"IND\" \"IND\" \"IND\" \"IND\" \"IND\" \"IND\" \"IND\" \"IND\" \"IND\" \"IND\"\n",
              " [157] \"IND\" \"IND\" \"URY\" \"USA\" \"USA\" \"USA\" \"USA\" \"USA\" \"USA\" \"USA\" \"USA\" \"USA\"\n",
              " [169] \"USA\" \"USA\" \"USA\" \"USA\" \"USA\" \"USA\" \"USA\" \"USA\" \"USA\" \"USA\" \"USA\" \"USA\"\n",
              " [181] \"USA\" \"USA\" \"USA\" \"USA\" \"USA\" \"USA\" \"USA\" \"USA\" \"USA\" \"USA\" \"USA\" \"USA\"\n",
              " [193] \"USA\" \"VEN\" \"USA\" \"USA\" \"USA\" \"USA\" \"USA\" \"USA\" \"USA\" \"USA\" \"USA\" \"USA\"\n",
              " [205] \"USA\" \"USA\" \"USA\" \"USA\" \"VEN\" \"TTO\" \"USA\" \"USA\" \"TGO\" \"TUN\" \"YEM\" \"USA\"\n",
              " [217] \"UKR\" \"UKR\" \"UKR\" \"UKR\" \"UKR\" \"UKR\" \"TKM\" \"UZB\" \"UZB\" \"TKM\" \"TKM\" \"UZB\"\n",
              " [229] \"VNM\" \"VNM\" \"ZMB\" \"ZMB\" \"ZMB\" \"ZMB\" \"ZWE\" \"CMR\" \"GBR\" \"GBR\" \"TUR\" \"TUR\"\n",
              " [241] \"TUR\" \"TUR\" \"TUR\" \"UGA\" \"RWA\" \"SUR\" \"ESP\" \"NER\" \"NER\" \"ROU\" \"SWE\" \"SWE\"\n",
              " [253] \"ROU\" \"THA\" \"THA\" \"THA\" \"SWZ\" \"PER\" \"PER\" \"PER\" \"PER\" \"PER\" \"PER\" \"PRY\"\n",
              " [265] \"PRT\" \"ESP\" \"ESP\" \"SEN\" \"SEN\" \"SDN\" \"SAU\" \"SAU\" \"SSD\" \"SSD\" \"SDN\" \"SDN\"\n",
              " [277] \"NLD\" \"NOR\" \"SVN\" \"SVK\" \"NOR\" \"QAT\" \"PAK\" \"PAK\" \"ZAF\" \"ZAF\" \"ZAF\" \"ZAF\"\n",
              " [289] \"MOZ\" \"MOZ\" \"MOZ\" \"ZAF\" \"MOZ\" \"PNG\" \"PNG\" \"PNG\" \"PNG\" \"PAN\" \"MAR\" \"MAR\"\n",
              " [301] \"MNE\" \"MOZ\" \"ZAF\" \"ZAF\" \"RUS\" \"RUS\" \"RUS\" \"RUS\" \"RUS\" \"RUS\" \"RUS\" \"RUS\"\n",
              " [313] \"RUS\" \"RUS\" \"RUS\" \"RUS\" \"RUS\" \"RUS\" \"RUS\" \"RUS\" \"RUS\" \"RUS\" \"RUS\" \"RUS\"\n",
              " [325] \"RUS\" \"RUS\" \"RUS\" \"RUS\" \"RUS\" \"RUS\" \"RUS\" \"RUS\" \"RUS\" \"RUS\" \"RUS\" \"LKA\"\n",
              " [337] \"LKA\" \"KOR\" \"KOR\" \"KOR\" \"PHL\" \"PHL\" \"PHL\" \"PHL\" \"RUS\" \"RUS\" \"RUS\" \"RUS\"\n",
              " [349] \"RUS\" \"RUS\" \"RUS\" \"RUS\" \"RUS\" \"RUS\" \"RUS\" \"RUS\" \"RUS\" \"RUS\" \"RUS\" \"RUS\"\n",
              " [361] \"RUS\" \"RUS\" \"RUS\" \"RUS\" \"RUS\" \"RUS\" \"MEX\" \"MEX\" \"MEX\" \"MEX\" \"MEX\" \"MEX\"\n",
              " [373] \"MEX\" \"MEX\" \"MEX\" \"MEX\" \"MEX\" \"MEX\" \"MEX\" \"MEX\" \"NGA\" \"NGA\" \"NGA\" \"NGA\"\n",
              " [385] \"NGA\" \"NGA\" \"NGA\" \"POL\" \"POL\" \"MNG\" \"PRK\" \"PRK\" \"MNG\" \"MNG\" \"NAM\" \"NAM\"\n",
              " [397] \"TZA\" \"TZA\" \"TZA\" \"TZA\" \"NZL\" \"NZL\" \"NZL\" \"NZL\" \"NZL\" \"CHE\" \"SWE\" \"MAR\"\n",
              " [409] \"IDN\" \"IDN\" \"IDN\" \"IDN\" \"ITA\" \"ITA\" \"KOS\" \"KEN\" \"KEN\" \"IDN\" \"MYS\" \"CHN\"\n",
              " [421] \"CHN\" \"CHN\" \"CHN\" \"CHN\" \"CHN\" \"CHN\" \"CHN\" \"CHN\" \"CHN\" \"CHN\" \"CHN\" \"CHN\"\n",
              " [433] \"CHN\" \"CHN\" \"IDN\" \"MYS\" \"MDG\" \"MDG\" \"MDG\" \"MDG\" \"IDN\" \"IDN\" \"IDN\" \"IDN\"\n",
              " [445] \"IDN\" \"IDN\" \"ECU\" \"ECU\" \"CRI\" \"CUB\" \"DOM\" \"COL\" \"COL\" \"COL\" \"DMA\" \"COD\"\n",
              " [457] \"TCD\" \"EGY\" \"EGY\" \"EGY\" \"EGY\" \"EGY\" \"COD\" \"ERI\" \"DJI\" \"DEU\" \"CHN\" \"CHN\"\n",
              " [469] \"CHN\" \"CHN\" \"MYS\" \"CHN\" \"CHN\" \"CHN\" \"CHN\" \"CHN\" \"CHN\" \"CHN\" \"CHN\" \"CHN\"\n",
              " [481] \"CHN\" \"CHN\" \"CHN\" \"CHN\" \"CHN\" \"CHN\" \"CHN\" \"CHN\" \"CHN\" \"CHN\" \"JPN\" \"JPN\"\n",
              " [493] \"JPN\" \"JPN\" \"IDN\" \"CHN\" \"CHN\" \"CHN\" \"CHN\" \"CHN\" \"CHN\" \"CHN\" \"CHN\" \"CHN\"\n",
              " [505] \"JPN\" \"JPN\" \"JPN\" \"JPN\" \"JPN\" \"JPN\" \"JPN\" \"COD\" \"COD\" \"COD\" \"COD\" \"COD\"\n",
              " [517] \"COD\" \"COD\" \"MWI\" \"MWI\" \"GTM\" \"GMB\" \"IND\" \"IND\" \"IND\" \"IND\" \"IND\" \"IND\"\n",
              " [529] \"IND\" \"IND\" \"IND\" \"IND\" \"IND\" \"IND\" \"IND\" \"IND\" \"COG\" \"GAB\" \"FRA\" \"FRA\"\n",
              " [541] \"FRA\" \"MLI\" \"CHL\" \"CHL\" \"CHL\" \"CHL\" \"CHL\" \"DNK\" \"DNK\" \"DNK\" \"DNK\" \"MRT\"\n",
              " [553] \"MLI\" \"MRT\" \"MLI\" \"MKD\" \"LBY\" \"LBY\" \"LBY\" \"LBY\" \"IRQ\" \"IRQ\" \"IRQ\" \"ETH\"\n",
              " [565] \"ETH\" \"ETH\" \"FIN\" \"FIN\" \"FIN\" \"KAZ\" \"KAZ\" \"KAZ\" \"KAZ\" \"KAZ\" \"KAZ\" \"KAZ\"\n",
              " [577] \"KAZ\" \"IRN\" \"IRN\" \"IRQ\" \"IRN\" \"IRN\" \"IRN\" \"IND\" \"IND\" \"IND\" \"KAZ\" \"KAZ\"\n",
              " [589] \"IND\" \"IND\" \"IND\" \"IND\" \"IND\" \"IND\" \"IND\" \"IND\" \"IND\" \"IND\" \"COG\" \"GIN\"\n",
              " [601] \"GIN\" \"CIV\" \"FRA\" \"BRA\" \"BRA\" \"BRA\" \"BRA\" \"BRA\" \"BRA\" \"BRA\" \"BRA\" \"BRA\"\n",
              " [613] \"BRA\" \"BRA\" \"BRA\" \"BRA\" \"BRA\" \"BRA\" \"BRA\" \"BRA\" \"BRA\" \"BRA\" \"BRA\" \"CAN\"\n",
              " [625] \"CAN\" \"CAN\" \"CAN\" \"CAN\" \"CAN\" \"CAN\" \"CAN\" \"CAN\" \"CAN\" \"CAN\" \"CAN\" \"CAN\"\n",
              " [637] \"CAN\" \"CAN\" \"CAN\" \"CAN\" \"CAN\" \"CAN\" \"CAN\" \"CMR\" \"CAF\" \"ITA\" \"ARG\" \"ARG\"\n",
              " [649] \"ARG\" \"ARG\" \"BOL\" \"ARG\" \"ARG\" \"ARG\" \"ARG\" \"ARG\" \"ARG\" \"ARG\" \"BRA\" \"BRA\"\n",
              " [661] \"BRA\" \"BRA\" \"CMR\" \"CMR\" \"AFG\" \"AFG\" \"KHM\" \"KHM\" \"AGO\" \"AGO\" \"AGO\" \"AGO\"\n",
              " [673] \"BOL\" \"BRB\" \"DZA\" \"BEN\" \"BEN\" \"DZA\" \"BLR\" \"BGD\" \"BWA\" \"BWA\" \"BWA\" \"AUS\"\n",
              " [685] \"AUS\" \"AUS\" \"AUS\" \"AUS\" \"AUS\" \"AUS\" \"AUS\" \"AUS\" \"AUS\" \"AUS\" \"AUS\" \"AUS\"\n",
              " [697] \"AUS\" \"AUS\" \"AUS\" \"AUS\" \"AUS\" \"AUS\" \"AUS\" \"AUS\" \"AUS\" \"AUS\" \"AUS\" \"AUS\"\n",
              " [709] \"BFA\" \"BGD\" \"MMR\" \"MMR\" \"BDI\" \"USA\" \"VCT\" \"LCA\" \"KNA\" \"ESP\" \"SOL\" \"MUS\"\n",
              " [721] \"PSE\" \"GRD\" \"FRA\" \"BHR\" \"BHS\" \"ATG\" \"TWN\" \"IND\" \"IND\" \"IND\" \"URY\" \"USA\"\n",
              " [733] \"USA\" \"USA\" \"USA\" \"USA\" \"USA\" \"USA\" \"USA\" \"USA\" \"USA\" \"USA\" \"USA\" \"USA\"\n",
              " [745] \"USA\" \"USA\" \"VEN\" \"VEN\" \"USA\" \"USA\" \"USA\" \"USA\" \"USA\" \"USA\" \"USA\" \"USA\"\n",
              " [757] \"USA\" \"USA\" \"VEN\" \"TGO\" \"TUN\" \"USA\" \"USA\" \"USA\" \"USA\" \"USA\" \"USA\" \"USA\"\n",
              " [769] \"USA\" \"USA\" \"USA\" \"UKR\" \"ARE\" \"TKM\" \"UZB\" \"ZMB\" \"ZWE\" \"ZWE\" \"TLS\" \"VUT\"\n",
              " [781] \"HND\" \"GUY\" \"ISL\" \"HTI\" \"GBR\" \"UGA\" \"YEM\" \"SUR\" \"ESP\" \"NER\" \"NER\" \"SDN\"\n",
              " [793] \"TJK\" \"PER\" \"PER\" \"PER\" \"PER\" \"PRY\" \"NIC\" \"SLE\" \"NER\" \"SDN\" \"SSD\" \"SDN\"\n",
              " [805] \"SDN\" \"NOR\" \"NOR\" \"NOR\" \"PAK\" \"PAK\" \"PAK\" \"PAK\" \"NPL\" \"MOZ\" \"ZAF\" \"ZAF\"\n",
              " [817] \"PNG\" \"SLB\" \"PAN\" \"MAR\" \"MAR\" \"MAR\" \"MDA\" \"MOZ\" \"ZAF\" \"MOZ\" \"RUS\" \"RUS\"\n",
              " [829] \"RUS\" \"RUS\" \"RUS\" \"RUS\" \"RUS\" \"RUS\" \"RUS\" \"RUS\" \"RUS\" \"RUS\" \"RUS\" \"SOM\"\n",
              " [841] \"OMN\" \"LKA\" \"PHL\" \"PHL\" \"PHL\" \"RUS\" \"RUS\" \"RUS\" \"RUS\" \"RUS\" \"RUS\" \"RUS\"\n",
              " [853] \"RUS\" \"RUS\" \"RUS\" \"MEX\" \"MEX\" \"MEX\" \"MEX\" \"MEX\" \"MEX\" \"MEX\" \"MEX\" \"MEX\"\n",
              " [865] \"NGA\" \"NGA\" \"RUS\" \"MNG\" \"MNG\" \"NZL\" \"TZA\" \"NAM\" \"NAM\" \"TZA\" \"NZL\" \"ESP\"\n",
              " [877] \"RUS\" \"RUS\" \"NGA\" \"IDN\" \"GNB\" \"ITA\" \"JOR\" \"LTU\" \"LVA\" \"KGZ\" \"CHN\" \"CHN\"\n",
              " [889] \"CHN\" \"CHN\" \"CHN\" \"IDN\" \"KEN\" \"LSO\" \"MDG\" \"IDN\" \"IDN\" \"IDN\" \"IDN\" \"FRA\"\n",
              " [901] \"ECU\" \"CRI\" \"SLV\" \"JAM\" \"COL\" \"COL\" \"COD\" \"TCD\" \"TCD\" \"GNQ\" \"EGY\" \"ERI\"\n",
              " [913] \"HRV\" \"EST\" \"CHN\" \"CHN\" \"CHN\" \"CHN\" \"CHN\" \"CHN\" \"JPN\" \"CHN\" \"COD\" \"COD\"\n",
              " [925] \"COD\" \"COD\" \"MWI\" \"GTM\" \"FRA\" \"GAB\" \"IND\" \"FJI\" \"GAB\" \"MLI\" \"CHL\" \"CHL\"\n",
              " [937] \"CHL\" \"CHL\" \"CHL\" \"CHL\" \"CHL\" \"DNK\" \"MRT\" \"MLI\" \"MRT\" \"MLI\" \"LBY\" \"LBY\"\n",
              " [949] \"GRC\" \"LBN\" \"GEO\" \"ETH\" \"KAZ\" \"KAZ\" \"KAZ\" \"IRN\" \"IRN\" \"IND\" \"IND\" \"IND\"\n",
              " [961] \"IND\" \"IND\" \"IND\" \"IND\" \"LAO\" \"COG\" \"GIN\" \"CIV\" \"BRA\" \"COL\" \"BRA\" \"BRA\"\n",
              " [973] \"BRA\" \"BRA\" \"BRA\" \"BRA\" \"BRA\" \"BRA\" \"BRA\" \"CAN\" \"CAN\" \"CAN\" \"CAN\" \"CAN\"\n",
              " [985] \"CAN\" \"CAN\" \"CAN\" \"CAN\" \"CAN\" \"CAN\" \"CAN\" \"CAN\" \"BRA\" \"BRA\" \"CAN\" \"CAN\"\n",
              " [997] \"CAN\" \"CAN\" \"CAN\" \"CAN\" \"CAN\" \"CAN\" \"CAF\" \"SRB\" \"CAF\" \"BRN\" \"ARG\" \"ARG\"\n",
              "[1009] \"ARG\" \"ARG\" \"BOL\" \"BOL\" \"ARG\" \"ARG\" \"ARG\" \"ARG\" \"BLZ\" \"CAF\" \"CMR\" \"CMR\"\n",
              "[1021] \"ALB\" \"ARM\" \"AZE\" \"AFG\" \"KHM\" \"AGO\" \"AGO\" \"BOL\" \"BOL\" \"DZA\" \"BEN\" \"DZA\"\n",
              "[1033] \"DZA\" \"BGR\" \"BLR\" \"BTN\" \"BWA\" \"AUS\" \"AUS\" \"AUS\" \"AUS\" \"AUS\" \"AUS\" \"AUS\"\n",
              "[1045] \"AUS\" \"BFA\" \"BIH\" \"MMR\" \"USA\" \"GBR\" \"GBR\" \"TON\" \"SOL\" \"SYC\" \"STP\" \"WSM\"\n",
              "[1057] \"MLT\" \"MDV\" \"ISR\" \"CPV\" \"BHS\" \"CYP\" \"TWN\" \"CHN\" \"CHN\" \"USA\" \"USA\" \"USA\"\n",
              "[1069] \"USA\" \"USA\" \"USA\" \"USA\" \"USA\" \"VEN\" \"USA\" \"USA\" \"USA\" \"USA\" \"USA\" \"VNM\"\n",
              "[1081] \"VNM\" \"TUR\" \"HUN\" \"YEM\" \"ESP\" \"ROU\" \"SYR\" \"SYR\" \"CHE\" \"PRT\" \"SDN\" \"SAU\"\n",
              "[1093] \"SAU\" \"NOR\" \"PAK\" \"PAK\" \"ZAF\" \"RUS\" \"MEX\" \"MEX\" \"NGA\" \"POL\" \"PRK\" \"TZA\"\n",
              "[1105] \"IDN\" \"IRL\" \"LBR\" \"ITA\" \"ITA\" \"MYS\" \"CHN\" \"CHN\" \"CHN\" \"CHN\" \"CHN\" \"CHN\"\n",
              "[1117] \"CHN\" \"IDN\" \"IDN\" \"ECU\" \"COL\" \"COL\" \"CUB\" \"EGY\" \"DEU\" \"DEU\" \"DEU\" \"CZE\"\n",
              "[1129] \"KWT\" \"CHN\" \"CHN\" \"CHN\" \"CHN\" \"CHN\" \"CHN\" \"CHN\" \"CHN\" \"CHN\" \"CHN\" \"CHN\"\n",
              "[1141] \"CHN\" \"JPN\" \"CHN\" \"CHN\" \"CHN\" \"JPN\" \"DOM\" \"GHA\" \"IND\" \"IND\" \"IND\" \"IND\"\n",
              "[1153] \"LBY\" \"ISR\" \"FIN\" \"IRN\" \"IND\" \"IND\" \"IND\" \"IND\" \"IND\" \"IND\" \"DNK\" \"CIV\"\n",
              "[1165] \"BRA\" \"BRA\" \"BRA\" \"BRA\" \"BRA\" \"BRA\" \"CAN\" \"CAN\" \"BRA\" \"BRA\" \"BEL\" \"BGD\"\n",
              "[1177] \"AGO\" \"DZA\" \"BGD\" \"AUS\" \"MMR\" \"USA\" \"USA\" \"USA\" \"USA\" \"USA\" \"USA\" \"VEN\"\n",
              "[1189] \"UKR\" \"ARE\" \"UZB\" \"ESP\" \"CHE\" \"SWE\" \"THA\" \"PER\" \"SEN\" \"ZAF\" \"NLD\" \"MAR\"\n",
              "[1201] \"KOR\" \"PHL\" \"MEX\" \"NZL\" \"DEU\" \"CHN\" \"CHN\" \"JPN\" \"COD\" \"IND\" \"IND\" \"GRC\"\n",
              "[1213] \"IRQ\" \"ETH\" \"IRN\" \"CAN\" \"CAN\" \"ARG\" \"AFG\" \"AUT\" \"AUS\" \"TWN\" \"USA\" \"USA\"\n",
              "[1225] \"USA\" \"GBR\" \"TUR\" \"SAU\" \"ZAF\" \"RUS\" \"MEX\" \"NGA\" \"ITA\" \"CHN\" \"KEN\" \"IDN\"\n",
              "[1237] \"COL\" \"EGY\" \"CHN\" \"JPN\" \"IND\" \"FRA\" \"CHL\" \"IND\" \"BRA\" \"BRA\" \"AUS\" \"SGP\"\n",
              "[1249] \"CHN\""
            ]
          },
          "metadata": {}
        }
      ]
    },
    {
      "cell_type": "code",
      "source": [
        "#to get the integer values, specify\n",
        "unclass(islandcities$country)"
      ],
      "metadata": {
        "colab": {
          "base_uri": "https://localhost:8080/",
          "height": 330
        },
        "id": "0HwRIv-WR042",
        "outputId": "2f817cab-02a5-4f46-e295-d6bb9b43287b"
      },
      "execution_count": null,
      "outputs": [
        {
          "output_type": "display_data",
          "data": {
            "text/html": [
              "<style>\n",
              ".list-inline {list-style: none; margin:0; padding: 0}\n",
              ".list-inline>li {display: inline-block}\n",
              ".list-inline>li:not(:last-child)::after {content: \"\\00b7\"; padding: 0 .5ex}\n",
              "</style>\n",
              "<ol class=list-inline><li>'UGA'</li><li>'UGA'</li><li>'ITA'</li><li>'ITA'</li><li>'ITA'</li><li>'ALD'</li><li>'PSE'</li><li>'VAT'</li><li>'FRA'</li><li>'FRA'</li><li>'FRA'</li><li>'ATA'</li><li>'ZMB'</li><li>'UGA'</li><li>'UGA'</li><li>'UGA'</li><li>'UGA'</li><li>'UGA'</li><li>'UGA'</li><li>'NAM'</li><li>'ITA'</li><li>'ITA'</li><li>'ITA'</li><li>'ITA'</li><li>'ITA'</li><li>'ITA'</li><li>'ITA'</li><li>'ITA'</li><li>'ITA'</li><li>'FRA'</li><li>'JPN'</li><li>'FRA'</li><li>'FRA'</li><li>'FRA'</li><li>'FRA'</li><li>'FRA'</li><li>'FRA'</li><li>'FRA'</li><li>'FRA'</li><li>'FRA'</li><li>'FRA'</li><li>'FRA'</li><li>'FRA'</li><li>'SRB'</li><li>'BIH'</li><li>'GBR'</li><li>'GBR'</li><li>'GBR'</li><li>'SMR'</li><li>'NLD'</li><li>'NLD'</li><li>'LIE'</li><li>'ATA'</li><li>'ATA'</li><li>'ATA'</li><li>'ATA'</li><li>'ATA'</li><li>'ATA'</li><li>'ATA'</li><li>'ATA'</li><li>'ATA'</li><li>'ATA'</li><li>'ATA'</li><li>'ATA'</li><li>'ATA'</li><li>'ATA'</li><li>'ATA'</li><li>'ATA'</li><li>'ATA'</li><li>'ATA'</li><li>'ATA'</li><li>'ATA'</li><li>'ATA'</li><li>'ATA'</li><li>'ATA'</li><li>'ATA'</li><li>'ATA'</li><li>'ATA'</li><li>'ATA'</li><li>'ATA'</li><li>'ATA'</li><li>'ATA'</li><li>'ATA'</li><li>'ATA'</li><li>'ATA'</li><li>'ATA'</li><li>'ATA'</li><li>'ATA'</li><li>'ATA'</li><li>'ATA'</li><li>'ATA'</li><li>'GBR'</li><li>'SWZ'</li><li>'GBR'</li><li>'GBR'</li><li>'NOR'</li><li>'LUX'</li><li>'ITA'</li><li>'FRA'</li><li>'JPN'</li><li>'FRA'</li><li>'FRA'</li><li>'FRA'</li><li>'FRA'</li><li>'FRA'</li><li>'GEO'</li><li>'PRT'</li><li>'SDN'</li><li>'NAM'</li><li>'NAM'</li><li>'ITA'</li><li>'GEO'</li><li>'FSM'</li><li>'MHL'</li><li>'USA'</li><li>'TUV'</li><li>'PLW'</li><li>'SAH'</li><li>'MCO'</li><li>'KIR'</li><li>'COM'</li><li>'CHN'</li><li>'AND'</li><li>'USA'</li><li>'USA'</li><li>'USA'</li><li>'GBR'</li><li>'PAK'</li><li>'KOR'</li><li>'NGA'</li><li>'CHN'</li><li>'CHN'</li><li>'CHN'</li><li>'CHN'</li><li>'CHN'</li><li>'CHN'</li><li>'CHN'</li><li>'CHN'</li><li>'CHN'</li><li>'CHN'</li><li>'CHN'</li><li>'IND'</li><li>'IND'</li><li>'IND'</li><li>'IND'</li><li>'IND'</li><li>'IND'</li><li>'IND'</li><li>'IND'</li><li>'IND'</li><li>'IND'</li><li>'IND'</li><li>'IND'</li><li>'IND'</li><li>'IND'</li><li>'IND'</li><li>'IND'</li><li>'IND'</li><li>'URY'</li><li>'USA'</li><li>'USA'</li><li>'USA'</li><li>'USA'</li><li>'USA'</li><li>'USA'</li><li>'USA'</li><li>'USA'</li><li>'USA'</li><li>'USA'</li><li>'USA'</li><li>'USA'</li><li>'USA'</li><li>'USA'</li><li>'USA'</li><li>'USA'</li><li>'USA'</li><li>'USA'</li><li>'USA'</li><li>'USA'</li><li>'USA'</li><li>'USA'</li><li>'USA'</li><li>'USA'</li><li>'USA'</li><li>'USA'</li><li>'USA'</li><li>'USA'</li><li>'USA'</li><li>'USA'</li><li>'USA'</li><li>'USA'</li><li>'USA'</li><li>'USA'</li><li>'VEN'</li><li>'USA'</li><li>'USA'</li><li>'USA'</li><li>'USA'</li><li>'USA'</li><li>'USA'</li><li>⋯</li><li>'GBR'</li><li>'GBR'</li><li>'TON'</li><li>'SOL'</li><li>'SYC'</li><li>'STP'</li><li>'WSM'</li><li>'MLT'</li><li>'MDV'</li><li>'ISR'</li><li>'CPV'</li><li>'BHS'</li><li>'CYP'</li><li>'TWN'</li><li>'CHN'</li><li>'CHN'</li><li>'USA'</li><li>'USA'</li><li>'USA'</li><li>'USA'</li><li>'USA'</li><li>'USA'</li><li>'USA'</li><li>'USA'</li><li>'VEN'</li><li>'USA'</li><li>'USA'</li><li>'USA'</li><li>'USA'</li><li>'USA'</li><li>'VNM'</li><li>'VNM'</li><li>'TUR'</li><li>'HUN'</li><li>'YEM'</li><li>'ESP'</li><li>'ROU'</li><li>'SYR'</li><li>'SYR'</li><li>'CHE'</li><li>'PRT'</li><li>'SDN'</li><li>'SAU'</li><li>'SAU'</li><li>'NOR'</li><li>'PAK'</li><li>'PAK'</li><li>'ZAF'</li><li>'RUS'</li><li>'MEX'</li><li>'MEX'</li><li>'NGA'</li><li>'POL'</li><li>'PRK'</li><li>'TZA'</li><li>'IDN'</li><li>'IRL'</li><li>'LBR'</li><li>'ITA'</li><li>'ITA'</li><li>'MYS'</li><li>'CHN'</li><li>'CHN'</li><li>'CHN'</li><li>'CHN'</li><li>'CHN'</li><li>'CHN'</li><li>'CHN'</li><li>'IDN'</li><li>'IDN'</li><li>'ECU'</li><li>'COL'</li><li>'COL'</li><li>'CUB'</li><li>'EGY'</li><li>'DEU'</li><li>'DEU'</li><li>'DEU'</li><li>'CZE'</li><li>'KWT'</li><li>'CHN'</li><li>'CHN'</li><li>'CHN'</li><li>'CHN'</li><li>'CHN'</li><li>'CHN'</li><li>'CHN'</li><li>'CHN'</li><li>'CHN'</li><li>'CHN'</li><li>'CHN'</li><li>'CHN'</li><li>'JPN'</li><li>'CHN'</li><li>'CHN'</li><li>'CHN'</li><li>'JPN'</li><li>'DOM'</li><li>'GHA'</li><li>'IND'</li><li>'IND'</li><li>'IND'</li><li>'IND'</li><li>'LBY'</li><li>'ISR'</li><li>'FIN'</li><li>'IRN'</li><li>'IND'</li><li>'IND'</li><li>'IND'</li><li>'IND'</li><li>'IND'</li><li>'IND'</li><li>'DNK'</li><li>'CIV'</li><li>'BRA'</li><li>'BRA'</li><li>'BRA'</li><li>'BRA'</li><li>'BRA'</li><li>'BRA'</li><li>'CAN'</li><li>'CAN'</li><li>'BRA'</li><li>'BRA'</li><li>'BEL'</li><li>'BGD'</li><li>'AGO'</li><li>'DZA'</li><li>'BGD'</li><li>'AUS'</li><li>'MMR'</li><li>'USA'</li><li>'USA'</li><li>'USA'</li><li>'USA'</li><li>'USA'</li><li>'USA'</li><li>'VEN'</li><li>'UKR'</li><li>'ARE'</li><li>'UZB'</li><li>'ESP'</li><li>'CHE'</li><li>'SWE'</li><li>'THA'</li><li>'PER'</li><li>'SEN'</li><li>'ZAF'</li><li>'NLD'</li><li>'MAR'</li><li>'KOR'</li><li>'PHL'</li><li>'MEX'</li><li>'NZL'</li><li>'DEU'</li><li>'CHN'</li><li>'CHN'</li><li>'JPN'</li><li>'COD'</li><li>'IND'</li><li>'IND'</li><li>'GRC'</li><li>'IRQ'</li><li>'ETH'</li><li>'IRN'</li><li>'CAN'</li><li>'CAN'</li><li>'ARG'</li><li>'AFG'</li><li>'AUT'</li><li>'AUS'</li><li>'TWN'</li><li>'USA'</li><li>'USA'</li><li>'USA'</li><li>'GBR'</li><li>'TUR'</li><li>'SAU'</li><li>'ZAF'</li><li>'RUS'</li><li>'MEX'</li><li>'NGA'</li><li>'ITA'</li><li>'CHN'</li><li>'KEN'</li><li>'IDN'</li><li>'COL'</li><li>'EGY'</li><li>'CHN'</li><li>'JPN'</li><li>'IND'</li><li>'FRA'</li><li>'CHL'</li><li>'IND'</li><li>'BRA'</li><li>'BRA'</li><li>'AUS'</li><li>'SGP'</li><li>'CHN'</li></ol>\n"
            ],
            "text/markdown": "1. 'UGA'\n2. 'UGA'\n3. 'ITA'\n4. 'ITA'\n5. 'ITA'\n6. 'ALD'\n7. 'PSE'\n8. 'VAT'\n9. 'FRA'\n10. 'FRA'\n11. 'FRA'\n12. 'ATA'\n13. 'ZMB'\n14. 'UGA'\n15. 'UGA'\n16. 'UGA'\n17. 'UGA'\n18. 'UGA'\n19. 'UGA'\n20. 'NAM'\n21. 'ITA'\n22. 'ITA'\n23. 'ITA'\n24. 'ITA'\n25. 'ITA'\n26. 'ITA'\n27. 'ITA'\n28. 'ITA'\n29. 'ITA'\n30. 'FRA'\n31. 'JPN'\n32. 'FRA'\n33. 'FRA'\n34. 'FRA'\n35. 'FRA'\n36. 'FRA'\n37. 'FRA'\n38. 'FRA'\n39. 'FRA'\n40. 'FRA'\n41. 'FRA'\n42. 'FRA'\n43. 'FRA'\n44. 'SRB'\n45. 'BIH'\n46. 'GBR'\n47. 'GBR'\n48. 'GBR'\n49. 'SMR'\n50. 'NLD'\n51. 'NLD'\n52. 'LIE'\n53. 'ATA'\n54. 'ATA'\n55. 'ATA'\n56. 'ATA'\n57. 'ATA'\n58. 'ATA'\n59. 'ATA'\n60. 'ATA'\n61. 'ATA'\n62. 'ATA'\n63. 'ATA'\n64. 'ATA'\n65. 'ATA'\n66. 'ATA'\n67. 'ATA'\n68. 'ATA'\n69. 'ATA'\n70. 'ATA'\n71. 'ATA'\n72. 'ATA'\n73. 'ATA'\n74. 'ATA'\n75. 'ATA'\n76. 'ATA'\n77. 'ATA'\n78. 'ATA'\n79. 'ATA'\n80. 'ATA'\n81. 'ATA'\n82. 'ATA'\n83. 'ATA'\n84. 'ATA'\n85. 'ATA'\n86. 'ATA'\n87. 'ATA'\n88. 'ATA'\n89. 'ATA'\n90. 'ATA'\n91. 'ATA'\n92. 'GBR'\n93. 'SWZ'\n94. 'GBR'\n95. 'GBR'\n96. 'NOR'\n97. 'LUX'\n98. 'ITA'\n99. 'FRA'\n100. 'JPN'\n101. 'FRA'\n102. 'FRA'\n103. 'FRA'\n104. 'FRA'\n105. 'FRA'\n106. 'GEO'\n107. 'PRT'\n108. 'SDN'\n109. 'NAM'\n110. 'NAM'\n111. 'ITA'\n112. 'GEO'\n113. 'FSM'\n114. 'MHL'\n115. 'USA'\n116. 'TUV'\n117. 'PLW'\n118. 'SAH'\n119. 'MCO'\n120. 'KIR'\n121. 'COM'\n122. 'CHN'\n123. 'AND'\n124. 'USA'\n125. 'USA'\n126. 'USA'\n127. 'GBR'\n128. 'PAK'\n129. 'KOR'\n130. 'NGA'\n131. 'CHN'\n132. 'CHN'\n133. 'CHN'\n134. 'CHN'\n135. 'CHN'\n136. 'CHN'\n137. 'CHN'\n138. 'CHN'\n139. 'CHN'\n140. 'CHN'\n141. 'CHN'\n142. 'IND'\n143. 'IND'\n144. 'IND'\n145. 'IND'\n146. 'IND'\n147. 'IND'\n148. 'IND'\n149. 'IND'\n150. 'IND'\n151. 'IND'\n152. 'IND'\n153. 'IND'\n154. 'IND'\n155. 'IND'\n156. 'IND'\n157. 'IND'\n158. 'IND'\n159. 'URY'\n160. 'USA'\n161. 'USA'\n162. 'USA'\n163. 'USA'\n164. 'USA'\n165. 'USA'\n166. 'USA'\n167. 'USA'\n168. 'USA'\n169. 'USA'\n170. 'USA'\n171. 'USA'\n172. 'USA'\n173. 'USA'\n174. 'USA'\n175. 'USA'\n176. 'USA'\n177. 'USA'\n178. 'USA'\n179. 'USA'\n180. 'USA'\n181. 'USA'\n182. 'USA'\n183. 'USA'\n184. 'USA'\n185. 'USA'\n186. 'USA'\n187. 'USA'\n188. 'USA'\n189. 'USA'\n190. 'USA'\n191. 'USA'\n192. 'USA'\n193. 'USA'\n194. 'VEN'\n195. 'USA'\n196. 'USA'\n197. 'USA'\n198. 'USA'\n199. 'USA'\n200. 'USA'\n201. ⋯\n202. 'GBR'\n203. 'GBR'\n204. 'TON'\n205. 'SOL'\n206. 'SYC'\n207. 'STP'\n208. 'WSM'\n209. 'MLT'\n210. 'MDV'\n211. 'ISR'\n212. 'CPV'\n213. 'BHS'\n214. 'CYP'\n215. 'TWN'\n216. 'CHN'\n217. 'CHN'\n218. 'USA'\n219. 'USA'\n220. 'USA'\n221. 'USA'\n222. 'USA'\n223. 'USA'\n224. 'USA'\n225. 'USA'\n226. 'VEN'\n227. 'USA'\n228. 'USA'\n229. 'USA'\n230. 'USA'\n231. 'USA'\n232. 'VNM'\n233. 'VNM'\n234. 'TUR'\n235. 'HUN'\n236. 'YEM'\n237. 'ESP'\n238. 'ROU'\n239. 'SYR'\n240. 'SYR'\n241. 'CHE'\n242. 'PRT'\n243. 'SDN'\n244. 'SAU'\n245. 'SAU'\n246. 'NOR'\n247. 'PAK'\n248. 'PAK'\n249. 'ZAF'\n250. 'RUS'\n251. 'MEX'\n252. 'MEX'\n253. 'NGA'\n254. 'POL'\n255. 'PRK'\n256. 'TZA'\n257. 'IDN'\n258. 'IRL'\n259. 'LBR'\n260. 'ITA'\n261. 'ITA'\n262. 'MYS'\n263. 'CHN'\n264. 'CHN'\n265. 'CHN'\n266. 'CHN'\n267. 'CHN'\n268. 'CHN'\n269. 'CHN'\n270. 'IDN'\n271. 'IDN'\n272. 'ECU'\n273. 'COL'\n274. 'COL'\n275. 'CUB'\n276. 'EGY'\n277. 'DEU'\n278. 'DEU'\n279. 'DEU'\n280. 'CZE'\n281. 'KWT'\n282. 'CHN'\n283. 'CHN'\n284. 'CHN'\n285. 'CHN'\n286. 'CHN'\n287. 'CHN'\n288. 'CHN'\n289. 'CHN'\n290. 'CHN'\n291. 'CHN'\n292. 'CHN'\n293. 'CHN'\n294. 'JPN'\n295. 'CHN'\n296. 'CHN'\n297. 'CHN'\n298. 'JPN'\n299. 'DOM'\n300. 'GHA'\n301. 'IND'\n302. 'IND'\n303. 'IND'\n304. 'IND'\n305. 'LBY'\n306. 'ISR'\n307. 'FIN'\n308. 'IRN'\n309. 'IND'\n310. 'IND'\n311. 'IND'\n312. 'IND'\n313. 'IND'\n314. 'IND'\n315. 'DNK'\n316. 'CIV'\n317. 'BRA'\n318. 'BRA'\n319. 'BRA'\n320. 'BRA'\n321. 'BRA'\n322. 'BRA'\n323. 'CAN'\n324. 'CAN'\n325. 'BRA'\n326. 'BRA'\n327. 'BEL'\n328. 'BGD'\n329. 'AGO'\n330. 'DZA'\n331. 'BGD'\n332. 'AUS'\n333. 'MMR'\n334. 'USA'\n335. 'USA'\n336. 'USA'\n337. 'USA'\n338. 'USA'\n339. 'USA'\n340. 'VEN'\n341. 'UKR'\n342. 'ARE'\n343. 'UZB'\n344. 'ESP'\n345. 'CHE'\n346. 'SWE'\n347. 'THA'\n348. 'PER'\n349. 'SEN'\n350. 'ZAF'\n351. 'NLD'\n352. 'MAR'\n353. 'KOR'\n354. 'PHL'\n355. 'MEX'\n356. 'NZL'\n357. 'DEU'\n358. 'CHN'\n359. 'CHN'\n360. 'JPN'\n361. 'COD'\n362. 'IND'\n363. 'IND'\n364. 'GRC'\n365. 'IRQ'\n366. 'ETH'\n367. 'IRN'\n368. 'CAN'\n369. 'CAN'\n370. 'ARG'\n371. 'AFG'\n372. 'AUT'\n373. 'AUS'\n374. 'TWN'\n375. 'USA'\n376. 'USA'\n377. 'USA'\n378. 'GBR'\n379. 'TUR'\n380. 'SAU'\n381. 'ZAF'\n382. 'RUS'\n383. 'MEX'\n384. 'NGA'\n385. 'ITA'\n386. 'CHN'\n387. 'KEN'\n388. 'IDN'\n389. 'COL'\n390. 'EGY'\n391. 'CHN'\n392. 'JPN'\n393. 'IND'\n394. 'FRA'\n395. 'CHL'\n396. 'IND'\n397. 'BRA'\n398. 'BRA'\n399. 'AUS'\n400. 'SGP'\n401. 'CHN'\n\n\n",
            "text/latex": "\\begin{enumerate*}\n\\item 'UGA'\n\\item 'UGA'\n\\item 'ITA'\n\\item 'ITA'\n\\item 'ITA'\n\\item 'ALD'\n\\item 'PSE'\n\\item 'VAT'\n\\item 'FRA'\n\\item 'FRA'\n\\item 'FRA'\n\\item 'ATA'\n\\item 'ZMB'\n\\item 'UGA'\n\\item 'UGA'\n\\item 'UGA'\n\\item 'UGA'\n\\item 'UGA'\n\\item 'UGA'\n\\item 'NAM'\n\\item 'ITA'\n\\item 'ITA'\n\\item 'ITA'\n\\item 'ITA'\n\\item 'ITA'\n\\item 'ITA'\n\\item 'ITA'\n\\item 'ITA'\n\\item 'ITA'\n\\item 'FRA'\n\\item 'JPN'\n\\item 'FRA'\n\\item 'FRA'\n\\item 'FRA'\n\\item 'FRA'\n\\item 'FRA'\n\\item 'FRA'\n\\item 'FRA'\n\\item 'FRA'\n\\item 'FRA'\n\\item 'FRA'\n\\item 'FRA'\n\\item 'FRA'\n\\item 'SRB'\n\\item 'BIH'\n\\item 'GBR'\n\\item 'GBR'\n\\item 'GBR'\n\\item 'SMR'\n\\item 'NLD'\n\\item 'NLD'\n\\item 'LIE'\n\\item 'ATA'\n\\item 'ATA'\n\\item 'ATA'\n\\item 'ATA'\n\\item 'ATA'\n\\item 'ATA'\n\\item 'ATA'\n\\item 'ATA'\n\\item 'ATA'\n\\item 'ATA'\n\\item 'ATA'\n\\item 'ATA'\n\\item 'ATA'\n\\item 'ATA'\n\\item 'ATA'\n\\item 'ATA'\n\\item 'ATA'\n\\item 'ATA'\n\\item 'ATA'\n\\item 'ATA'\n\\item 'ATA'\n\\item 'ATA'\n\\item 'ATA'\n\\item 'ATA'\n\\item 'ATA'\n\\item 'ATA'\n\\item 'ATA'\n\\item 'ATA'\n\\item 'ATA'\n\\item 'ATA'\n\\item 'ATA'\n\\item 'ATA'\n\\item 'ATA'\n\\item 'ATA'\n\\item 'ATA'\n\\item 'ATA'\n\\item 'ATA'\n\\item 'ATA'\n\\item 'ATA'\n\\item 'GBR'\n\\item 'SWZ'\n\\item 'GBR'\n\\item 'GBR'\n\\item 'NOR'\n\\item 'LUX'\n\\item 'ITA'\n\\item 'FRA'\n\\item 'JPN'\n\\item 'FRA'\n\\item 'FRA'\n\\item 'FRA'\n\\item 'FRA'\n\\item 'FRA'\n\\item 'GEO'\n\\item 'PRT'\n\\item 'SDN'\n\\item 'NAM'\n\\item 'NAM'\n\\item 'ITA'\n\\item 'GEO'\n\\item 'FSM'\n\\item 'MHL'\n\\item 'USA'\n\\item 'TUV'\n\\item 'PLW'\n\\item 'SAH'\n\\item 'MCO'\n\\item 'KIR'\n\\item 'COM'\n\\item 'CHN'\n\\item 'AND'\n\\item 'USA'\n\\item 'USA'\n\\item 'USA'\n\\item 'GBR'\n\\item 'PAK'\n\\item 'KOR'\n\\item 'NGA'\n\\item 'CHN'\n\\item 'CHN'\n\\item 'CHN'\n\\item 'CHN'\n\\item 'CHN'\n\\item 'CHN'\n\\item 'CHN'\n\\item 'CHN'\n\\item 'CHN'\n\\item 'CHN'\n\\item 'CHN'\n\\item 'IND'\n\\item 'IND'\n\\item 'IND'\n\\item 'IND'\n\\item 'IND'\n\\item 'IND'\n\\item 'IND'\n\\item 'IND'\n\\item 'IND'\n\\item 'IND'\n\\item 'IND'\n\\item 'IND'\n\\item 'IND'\n\\item 'IND'\n\\item 'IND'\n\\item 'IND'\n\\item 'IND'\n\\item 'URY'\n\\item 'USA'\n\\item 'USA'\n\\item 'USA'\n\\item 'USA'\n\\item 'USA'\n\\item 'USA'\n\\item 'USA'\n\\item 'USA'\n\\item 'USA'\n\\item 'USA'\n\\item 'USA'\n\\item 'USA'\n\\item 'USA'\n\\item 'USA'\n\\item 'USA'\n\\item 'USA'\n\\item 'USA'\n\\item 'USA'\n\\item 'USA'\n\\item 'USA'\n\\item 'USA'\n\\item 'USA'\n\\item 'USA'\n\\item 'USA'\n\\item 'USA'\n\\item 'USA'\n\\item 'USA'\n\\item 'USA'\n\\item 'USA'\n\\item 'USA'\n\\item 'USA'\n\\item 'USA'\n\\item 'USA'\n\\item 'USA'\n\\item 'VEN'\n\\item 'USA'\n\\item 'USA'\n\\item 'USA'\n\\item 'USA'\n\\item 'USA'\n\\item 'USA'\n\\item ⋯\n\\item 'GBR'\n\\item 'GBR'\n\\item 'TON'\n\\item 'SOL'\n\\item 'SYC'\n\\item 'STP'\n\\item 'WSM'\n\\item 'MLT'\n\\item 'MDV'\n\\item 'ISR'\n\\item 'CPV'\n\\item 'BHS'\n\\item 'CYP'\n\\item 'TWN'\n\\item 'CHN'\n\\item 'CHN'\n\\item 'USA'\n\\item 'USA'\n\\item 'USA'\n\\item 'USA'\n\\item 'USA'\n\\item 'USA'\n\\item 'USA'\n\\item 'USA'\n\\item 'VEN'\n\\item 'USA'\n\\item 'USA'\n\\item 'USA'\n\\item 'USA'\n\\item 'USA'\n\\item 'VNM'\n\\item 'VNM'\n\\item 'TUR'\n\\item 'HUN'\n\\item 'YEM'\n\\item 'ESP'\n\\item 'ROU'\n\\item 'SYR'\n\\item 'SYR'\n\\item 'CHE'\n\\item 'PRT'\n\\item 'SDN'\n\\item 'SAU'\n\\item 'SAU'\n\\item 'NOR'\n\\item 'PAK'\n\\item 'PAK'\n\\item 'ZAF'\n\\item 'RUS'\n\\item 'MEX'\n\\item 'MEX'\n\\item 'NGA'\n\\item 'POL'\n\\item 'PRK'\n\\item 'TZA'\n\\item 'IDN'\n\\item 'IRL'\n\\item 'LBR'\n\\item 'ITA'\n\\item 'ITA'\n\\item 'MYS'\n\\item 'CHN'\n\\item 'CHN'\n\\item 'CHN'\n\\item 'CHN'\n\\item 'CHN'\n\\item 'CHN'\n\\item 'CHN'\n\\item 'IDN'\n\\item 'IDN'\n\\item 'ECU'\n\\item 'COL'\n\\item 'COL'\n\\item 'CUB'\n\\item 'EGY'\n\\item 'DEU'\n\\item 'DEU'\n\\item 'DEU'\n\\item 'CZE'\n\\item 'KWT'\n\\item 'CHN'\n\\item 'CHN'\n\\item 'CHN'\n\\item 'CHN'\n\\item 'CHN'\n\\item 'CHN'\n\\item 'CHN'\n\\item 'CHN'\n\\item 'CHN'\n\\item 'CHN'\n\\item 'CHN'\n\\item 'CHN'\n\\item 'JPN'\n\\item 'CHN'\n\\item 'CHN'\n\\item 'CHN'\n\\item 'JPN'\n\\item 'DOM'\n\\item 'GHA'\n\\item 'IND'\n\\item 'IND'\n\\item 'IND'\n\\item 'IND'\n\\item 'LBY'\n\\item 'ISR'\n\\item 'FIN'\n\\item 'IRN'\n\\item 'IND'\n\\item 'IND'\n\\item 'IND'\n\\item 'IND'\n\\item 'IND'\n\\item 'IND'\n\\item 'DNK'\n\\item 'CIV'\n\\item 'BRA'\n\\item 'BRA'\n\\item 'BRA'\n\\item 'BRA'\n\\item 'BRA'\n\\item 'BRA'\n\\item 'CAN'\n\\item 'CAN'\n\\item 'BRA'\n\\item 'BRA'\n\\item 'BEL'\n\\item 'BGD'\n\\item 'AGO'\n\\item 'DZA'\n\\item 'BGD'\n\\item 'AUS'\n\\item 'MMR'\n\\item 'USA'\n\\item 'USA'\n\\item 'USA'\n\\item 'USA'\n\\item 'USA'\n\\item 'USA'\n\\item 'VEN'\n\\item 'UKR'\n\\item 'ARE'\n\\item 'UZB'\n\\item 'ESP'\n\\item 'CHE'\n\\item 'SWE'\n\\item 'THA'\n\\item 'PER'\n\\item 'SEN'\n\\item 'ZAF'\n\\item 'NLD'\n\\item 'MAR'\n\\item 'KOR'\n\\item 'PHL'\n\\item 'MEX'\n\\item 'NZL'\n\\item 'DEU'\n\\item 'CHN'\n\\item 'CHN'\n\\item 'JPN'\n\\item 'COD'\n\\item 'IND'\n\\item 'IND'\n\\item 'GRC'\n\\item 'IRQ'\n\\item 'ETH'\n\\item 'IRN'\n\\item 'CAN'\n\\item 'CAN'\n\\item 'ARG'\n\\item 'AFG'\n\\item 'AUT'\n\\item 'AUS'\n\\item 'TWN'\n\\item 'USA'\n\\item 'USA'\n\\item 'USA'\n\\item 'GBR'\n\\item 'TUR'\n\\item 'SAU'\n\\item 'ZAF'\n\\item 'RUS'\n\\item 'MEX'\n\\item 'NGA'\n\\item 'ITA'\n\\item 'CHN'\n\\item 'KEN'\n\\item 'IDN'\n\\item 'COL'\n\\item 'EGY'\n\\item 'CHN'\n\\item 'JPN'\n\\item 'IND'\n\\item 'FRA'\n\\item 'CHL'\n\\item 'IND'\n\\item 'BRA'\n\\item 'BRA'\n\\item 'AUS'\n\\item 'SGP'\n\\item 'CHN'\n\\end{enumerate*}\n",
            "text/plain": [
              "   [1] \"UGA\" \"UGA\" \"ITA\" \"ITA\" \"ITA\" \"ALD\" \"PSE\" \"VAT\" \"FRA\" \"FRA\" \"FRA\" \"ATA\"\n",
              "  [13] \"ZMB\" \"UGA\" \"UGA\" \"UGA\" \"UGA\" \"UGA\" \"UGA\" \"NAM\" \"ITA\" \"ITA\" \"ITA\" \"ITA\"\n",
              "  [25] \"ITA\" \"ITA\" \"ITA\" \"ITA\" \"ITA\" \"FRA\" \"JPN\" \"FRA\" \"FRA\" \"FRA\" \"FRA\" \"FRA\"\n",
              "  [37] \"FRA\" \"FRA\" \"FRA\" \"FRA\" \"FRA\" \"FRA\" \"FRA\" \"SRB\" \"BIH\" \"GBR\" \"GBR\" \"GBR\"\n",
              "  [49] \"SMR\" \"NLD\" \"NLD\" \"LIE\" \"ATA\" \"ATA\" \"ATA\" \"ATA\" \"ATA\" \"ATA\" \"ATA\" \"ATA\"\n",
              "  [61] \"ATA\" \"ATA\" \"ATA\" \"ATA\" \"ATA\" \"ATA\" \"ATA\" \"ATA\" \"ATA\" \"ATA\" \"ATA\" \"ATA\"\n",
              "  [73] \"ATA\" \"ATA\" \"ATA\" \"ATA\" \"ATA\" \"ATA\" \"ATA\" \"ATA\" \"ATA\" \"ATA\" \"ATA\" \"ATA\"\n",
              "  [85] \"ATA\" \"ATA\" \"ATA\" \"ATA\" \"ATA\" \"ATA\" \"ATA\" \"GBR\" \"SWZ\" \"GBR\" \"GBR\" \"NOR\"\n",
              "  [97] \"LUX\" \"ITA\" \"FRA\" \"JPN\" \"FRA\" \"FRA\" \"FRA\" \"FRA\" \"FRA\" \"GEO\" \"PRT\" \"SDN\"\n",
              " [109] \"NAM\" \"NAM\" \"ITA\" \"GEO\" \"FSM\" \"MHL\" \"USA\" \"TUV\" \"PLW\" \"SAH\" \"MCO\" \"KIR\"\n",
              " [121] \"COM\" \"CHN\" \"AND\" \"USA\" \"USA\" \"USA\" \"GBR\" \"PAK\" \"KOR\" \"NGA\" \"CHN\" \"CHN\"\n",
              " [133] \"CHN\" \"CHN\" \"CHN\" \"CHN\" \"CHN\" \"CHN\" \"CHN\" \"CHN\" \"CHN\" \"IND\" \"IND\" \"IND\"\n",
              " [145] \"IND\" \"IND\" \"IND\" \"IND\" \"IND\" \"IND\" \"IND\" \"IND\" \"IND\" \"IND\" \"IND\" \"IND\"\n",
              " [157] \"IND\" \"IND\" \"URY\" \"USA\" \"USA\" \"USA\" \"USA\" \"USA\" \"USA\" \"USA\" \"USA\" \"USA\"\n",
              " [169] \"USA\" \"USA\" \"USA\" \"USA\" \"USA\" \"USA\" \"USA\" \"USA\" \"USA\" \"USA\" \"USA\" \"USA\"\n",
              " [181] \"USA\" \"USA\" \"USA\" \"USA\" \"USA\" \"USA\" \"USA\" \"USA\" \"USA\" \"USA\" \"USA\" \"USA\"\n",
              " [193] \"USA\" \"VEN\" \"USA\" \"USA\" \"USA\" \"USA\" \"USA\" \"USA\" \"USA\" \"USA\" \"USA\" \"USA\"\n",
              " [205] \"USA\" \"USA\" \"USA\" \"USA\" \"VEN\" \"TTO\" \"USA\" \"USA\" \"TGO\" \"TUN\" \"YEM\" \"USA\"\n",
              " [217] \"UKR\" \"UKR\" \"UKR\" \"UKR\" \"UKR\" \"UKR\" \"TKM\" \"UZB\" \"UZB\" \"TKM\" \"TKM\" \"UZB\"\n",
              " [229] \"VNM\" \"VNM\" \"ZMB\" \"ZMB\" \"ZMB\" \"ZMB\" \"ZWE\" \"CMR\" \"GBR\" \"GBR\" \"TUR\" \"TUR\"\n",
              " [241] \"TUR\" \"TUR\" \"TUR\" \"UGA\" \"RWA\" \"SUR\" \"ESP\" \"NER\" \"NER\" \"ROU\" \"SWE\" \"SWE\"\n",
              " [253] \"ROU\" \"THA\" \"THA\" \"THA\" \"SWZ\" \"PER\" \"PER\" \"PER\" \"PER\" \"PER\" \"PER\" \"PRY\"\n",
              " [265] \"PRT\" \"ESP\" \"ESP\" \"SEN\" \"SEN\" \"SDN\" \"SAU\" \"SAU\" \"SSD\" \"SSD\" \"SDN\" \"SDN\"\n",
              " [277] \"NLD\" \"NOR\" \"SVN\" \"SVK\" \"NOR\" \"QAT\" \"PAK\" \"PAK\" \"ZAF\" \"ZAF\" \"ZAF\" \"ZAF\"\n",
              " [289] \"MOZ\" \"MOZ\" \"MOZ\" \"ZAF\" \"MOZ\" \"PNG\" \"PNG\" \"PNG\" \"PNG\" \"PAN\" \"MAR\" \"MAR\"\n",
              " [301] \"MNE\" \"MOZ\" \"ZAF\" \"ZAF\" \"RUS\" \"RUS\" \"RUS\" \"RUS\" \"RUS\" \"RUS\" \"RUS\" \"RUS\"\n",
              " [313] \"RUS\" \"RUS\" \"RUS\" \"RUS\" \"RUS\" \"RUS\" \"RUS\" \"RUS\" \"RUS\" \"RUS\" \"RUS\" \"RUS\"\n",
              " [325] \"RUS\" \"RUS\" \"RUS\" \"RUS\" \"RUS\" \"RUS\" \"RUS\" \"RUS\" \"RUS\" \"RUS\" \"RUS\" \"LKA\"\n",
              " [337] \"LKA\" \"KOR\" \"KOR\" \"KOR\" \"PHL\" \"PHL\" \"PHL\" \"PHL\" \"RUS\" \"RUS\" \"RUS\" \"RUS\"\n",
              " [349] \"RUS\" \"RUS\" \"RUS\" \"RUS\" \"RUS\" \"RUS\" \"RUS\" \"RUS\" \"RUS\" \"RUS\" \"RUS\" \"RUS\"\n",
              " [361] \"RUS\" \"RUS\" \"RUS\" \"RUS\" \"RUS\" \"RUS\" \"MEX\" \"MEX\" \"MEX\" \"MEX\" \"MEX\" \"MEX\"\n",
              " [373] \"MEX\" \"MEX\" \"MEX\" \"MEX\" \"MEX\" \"MEX\" \"MEX\" \"MEX\" \"NGA\" \"NGA\" \"NGA\" \"NGA\"\n",
              " [385] \"NGA\" \"NGA\" \"NGA\" \"POL\" \"POL\" \"MNG\" \"PRK\" \"PRK\" \"MNG\" \"MNG\" \"NAM\" \"NAM\"\n",
              " [397] \"TZA\" \"TZA\" \"TZA\" \"TZA\" \"NZL\" \"NZL\" \"NZL\" \"NZL\" \"NZL\" \"CHE\" \"SWE\" \"MAR\"\n",
              " [409] \"IDN\" \"IDN\" \"IDN\" \"IDN\" \"ITA\" \"ITA\" \"KOS\" \"KEN\" \"KEN\" \"IDN\" \"MYS\" \"CHN\"\n",
              " [421] \"CHN\" \"CHN\" \"CHN\" \"CHN\" \"CHN\" \"CHN\" \"CHN\" \"CHN\" \"CHN\" \"CHN\" \"CHN\" \"CHN\"\n",
              " [433] \"CHN\" \"CHN\" \"IDN\" \"MYS\" \"MDG\" \"MDG\" \"MDG\" \"MDG\" \"IDN\" \"IDN\" \"IDN\" \"IDN\"\n",
              " [445] \"IDN\" \"IDN\" \"ECU\" \"ECU\" \"CRI\" \"CUB\" \"DOM\" \"COL\" \"COL\" \"COL\" \"DMA\" \"COD\"\n",
              " [457] \"TCD\" \"EGY\" \"EGY\" \"EGY\" \"EGY\" \"EGY\" \"COD\" \"ERI\" \"DJI\" \"DEU\" \"CHN\" \"CHN\"\n",
              " [469] \"CHN\" \"CHN\" \"MYS\" \"CHN\" \"CHN\" \"CHN\" \"CHN\" \"CHN\" \"CHN\" \"CHN\" \"CHN\" \"CHN\"\n",
              " [481] \"CHN\" \"CHN\" \"CHN\" \"CHN\" \"CHN\" \"CHN\" \"CHN\" \"CHN\" \"CHN\" \"CHN\" \"JPN\" \"JPN\"\n",
              " [493] \"JPN\" \"JPN\" \"IDN\" \"CHN\" \"CHN\" \"CHN\" \"CHN\" \"CHN\" \"CHN\" \"CHN\" \"CHN\" \"CHN\"\n",
              " [505] \"JPN\" \"JPN\" \"JPN\" \"JPN\" \"JPN\" \"JPN\" \"JPN\" \"COD\" \"COD\" \"COD\" \"COD\" \"COD\"\n",
              " [517] \"COD\" \"COD\" \"MWI\" \"MWI\" \"GTM\" \"GMB\" \"IND\" \"IND\" \"IND\" \"IND\" \"IND\" \"IND\"\n",
              " [529] \"IND\" \"IND\" \"IND\" \"IND\" \"IND\" \"IND\" \"IND\" \"IND\" \"COG\" \"GAB\" \"FRA\" \"FRA\"\n",
              " [541] \"FRA\" \"MLI\" \"CHL\" \"CHL\" \"CHL\" \"CHL\" \"CHL\" \"DNK\" \"DNK\" \"DNK\" \"DNK\" \"MRT\"\n",
              " [553] \"MLI\" \"MRT\" \"MLI\" \"MKD\" \"LBY\" \"LBY\" \"LBY\" \"LBY\" \"IRQ\" \"IRQ\" \"IRQ\" \"ETH\"\n",
              " [565] \"ETH\" \"ETH\" \"FIN\" \"FIN\" \"FIN\" \"KAZ\" \"KAZ\" \"KAZ\" \"KAZ\" \"KAZ\" \"KAZ\" \"KAZ\"\n",
              " [577] \"KAZ\" \"IRN\" \"IRN\" \"IRQ\" \"IRN\" \"IRN\" \"IRN\" \"IND\" \"IND\" \"IND\" \"KAZ\" \"KAZ\"\n",
              " [589] \"IND\" \"IND\" \"IND\" \"IND\" \"IND\" \"IND\" \"IND\" \"IND\" \"IND\" \"IND\" \"COG\" \"GIN\"\n",
              " [601] \"GIN\" \"CIV\" \"FRA\" \"BRA\" \"BRA\" \"BRA\" \"BRA\" \"BRA\" \"BRA\" \"BRA\" \"BRA\" \"BRA\"\n",
              " [613] \"BRA\" \"BRA\" \"BRA\" \"BRA\" \"BRA\" \"BRA\" \"BRA\" \"BRA\" \"BRA\" \"BRA\" \"BRA\" \"CAN\"\n",
              " [625] \"CAN\" \"CAN\" \"CAN\" \"CAN\" \"CAN\" \"CAN\" \"CAN\" \"CAN\" \"CAN\" \"CAN\" \"CAN\" \"CAN\"\n",
              " [637] \"CAN\" \"CAN\" \"CAN\" \"CAN\" \"CAN\" \"CAN\" \"CAN\" \"CMR\" \"CAF\" \"ITA\" \"ARG\" \"ARG\"\n",
              " [649] \"ARG\" \"ARG\" \"BOL\" \"ARG\" \"ARG\" \"ARG\" \"ARG\" \"ARG\" \"ARG\" \"ARG\" \"BRA\" \"BRA\"\n",
              " [661] \"BRA\" \"BRA\" \"CMR\" \"CMR\" \"AFG\" \"AFG\" \"KHM\" \"KHM\" \"AGO\" \"AGO\" \"AGO\" \"AGO\"\n",
              " [673] \"BOL\" \"BRB\" \"DZA\" \"BEN\" \"BEN\" \"DZA\" \"BLR\" \"BGD\" \"BWA\" \"BWA\" \"BWA\" \"AUS\"\n",
              " [685] \"AUS\" \"AUS\" \"AUS\" \"AUS\" \"AUS\" \"AUS\" \"AUS\" \"AUS\" \"AUS\" \"AUS\" \"AUS\" \"AUS\"\n",
              " [697] \"AUS\" \"AUS\" \"AUS\" \"AUS\" \"AUS\" \"AUS\" \"AUS\" \"AUS\" \"AUS\" \"AUS\" \"AUS\" \"AUS\"\n",
              " [709] \"BFA\" \"BGD\" \"MMR\" \"MMR\" \"BDI\" \"USA\" \"VCT\" \"LCA\" \"KNA\" \"ESP\" \"SOL\" \"MUS\"\n",
              " [721] \"PSE\" \"GRD\" \"FRA\" \"BHR\" \"BHS\" \"ATG\" \"TWN\" \"IND\" \"IND\" \"IND\" \"URY\" \"USA\"\n",
              " [733] \"USA\" \"USA\" \"USA\" \"USA\" \"USA\" \"USA\" \"USA\" \"USA\" \"USA\" \"USA\" \"USA\" \"USA\"\n",
              " [745] \"USA\" \"USA\" \"VEN\" \"VEN\" \"USA\" \"USA\" \"USA\" \"USA\" \"USA\" \"USA\" \"USA\" \"USA\"\n",
              " [757] \"USA\" \"USA\" \"VEN\" \"TGO\" \"TUN\" \"USA\" \"USA\" \"USA\" \"USA\" \"USA\" \"USA\" \"USA\"\n",
              " [769] \"USA\" \"USA\" \"USA\" \"UKR\" \"ARE\" \"TKM\" \"UZB\" \"ZMB\" \"ZWE\" \"ZWE\" \"TLS\" \"VUT\"\n",
              " [781] \"HND\" \"GUY\" \"ISL\" \"HTI\" \"GBR\" \"UGA\" \"YEM\" \"SUR\" \"ESP\" \"NER\" \"NER\" \"SDN\"\n",
              " [793] \"TJK\" \"PER\" \"PER\" \"PER\" \"PER\" \"PRY\" \"NIC\" \"SLE\" \"NER\" \"SDN\" \"SSD\" \"SDN\"\n",
              " [805] \"SDN\" \"NOR\" \"NOR\" \"NOR\" \"PAK\" \"PAK\" \"PAK\" \"PAK\" \"NPL\" \"MOZ\" \"ZAF\" \"ZAF\"\n",
              " [817] \"PNG\" \"SLB\" \"PAN\" \"MAR\" \"MAR\" \"MAR\" \"MDA\" \"MOZ\" \"ZAF\" \"MOZ\" \"RUS\" \"RUS\"\n",
              " [829] \"RUS\" \"RUS\" \"RUS\" \"RUS\" \"RUS\" \"RUS\" \"RUS\" \"RUS\" \"RUS\" \"RUS\" \"RUS\" \"SOM\"\n",
              " [841] \"OMN\" \"LKA\" \"PHL\" \"PHL\" \"PHL\" \"RUS\" \"RUS\" \"RUS\" \"RUS\" \"RUS\" \"RUS\" \"RUS\"\n",
              " [853] \"RUS\" \"RUS\" \"RUS\" \"MEX\" \"MEX\" \"MEX\" \"MEX\" \"MEX\" \"MEX\" \"MEX\" \"MEX\" \"MEX\"\n",
              " [865] \"NGA\" \"NGA\" \"RUS\" \"MNG\" \"MNG\" \"NZL\" \"TZA\" \"NAM\" \"NAM\" \"TZA\" \"NZL\" \"ESP\"\n",
              " [877] \"RUS\" \"RUS\" \"NGA\" \"IDN\" \"GNB\" \"ITA\" \"JOR\" \"LTU\" \"LVA\" \"KGZ\" \"CHN\" \"CHN\"\n",
              " [889] \"CHN\" \"CHN\" \"CHN\" \"IDN\" \"KEN\" \"LSO\" \"MDG\" \"IDN\" \"IDN\" \"IDN\" \"IDN\" \"FRA\"\n",
              " [901] \"ECU\" \"CRI\" \"SLV\" \"JAM\" \"COL\" \"COL\" \"COD\" \"TCD\" \"TCD\" \"GNQ\" \"EGY\" \"ERI\"\n",
              " [913] \"HRV\" \"EST\" \"CHN\" \"CHN\" \"CHN\" \"CHN\" \"CHN\" \"CHN\" \"JPN\" \"CHN\" \"COD\" \"COD\"\n",
              " [925] \"COD\" \"COD\" \"MWI\" \"GTM\" \"FRA\" \"GAB\" \"IND\" \"FJI\" \"GAB\" \"MLI\" \"CHL\" \"CHL\"\n",
              " [937] \"CHL\" \"CHL\" \"CHL\" \"CHL\" \"CHL\" \"DNK\" \"MRT\" \"MLI\" \"MRT\" \"MLI\" \"LBY\" \"LBY\"\n",
              " [949] \"GRC\" \"LBN\" \"GEO\" \"ETH\" \"KAZ\" \"KAZ\" \"KAZ\" \"IRN\" \"IRN\" \"IND\" \"IND\" \"IND\"\n",
              " [961] \"IND\" \"IND\" \"IND\" \"IND\" \"LAO\" \"COG\" \"GIN\" \"CIV\" \"BRA\" \"COL\" \"BRA\" \"BRA\"\n",
              " [973] \"BRA\" \"BRA\" \"BRA\" \"BRA\" \"BRA\" \"BRA\" \"BRA\" \"CAN\" \"CAN\" \"CAN\" \"CAN\" \"CAN\"\n",
              " [985] \"CAN\" \"CAN\" \"CAN\" \"CAN\" \"CAN\" \"CAN\" \"CAN\" \"CAN\" \"BRA\" \"BRA\" \"CAN\" \"CAN\"\n",
              " [997] \"CAN\" \"CAN\" \"CAN\" \"CAN\" \"CAN\" \"CAN\" \"CAF\" \"SRB\" \"CAF\" \"BRN\" \"ARG\" \"ARG\"\n",
              "[1009] \"ARG\" \"ARG\" \"BOL\" \"BOL\" \"ARG\" \"ARG\" \"ARG\" \"ARG\" \"BLZ\" \"CAF\" \"CMR\" \"CMR\"\n",
              "[1021] \"ALB\" \"ARM\" \"AZE\" \"AFG\" \"KHM\" \"AGO\" \"AGO\" \"BOL\" \"BOL\" \"DZA\" \"BEN\" \"DZA\"\n",
              "[1033] \"DZA\" \"BGR\" \"BLR\" \"BTN\" \"BWA\" \"AUS\" \"AUS\" \"AUS\" \"AUS\" \"AUS\" \"AUS\" \"AUS\"\n",
              "[1045] \"AUS\" \"BFA\" \"BIH\" \"MMR\" \"USA\" \"GBR\" \"GBR\" \"TON\" \"SOL\" \"SYC\" \"STP\" \"WSM\"\n",
              "[1057] \"MLT\" \"MDV\" \"ISR\" \"CPV\" \"BHS\" \"CYP\" \"TWN\" \"CHN\" \"CHN\" \"USA\" \"USA\" \"USA\"\n",
              "[1069] \"USA\" \"USA\" \"USA\" \"USA\" \"USA\" \"VEN\" \"USA\" \"USA\" \"USA\" \"USA\" \"USA\" \"VNM\"\n",
              "[1081] \"VNM\" \"TUR\" \"HUN\" \"YEM\" \"ESP\" \"ROU\" \"SYR\" \"SYR\" \"CHE\" \"PRT\" \"SDN\" \"SAU\"\n",
              "[1093] \"SAU\" \"NOR\" \"PAK\" \"PAK\" \"ZAF\" \"RUS\" \"MEX\" \"MEX\" \"NGA\" \"POL\" \"PRK\" \"TZA\"\n",
              "[1105] \"IDN\" \"IRL\" \"LBR\" \"ITA\" \"ITA\" \"MYS\" \"CHN\" \"CHN\" \"CHN\" \"CHN\" \"CHN\" \"CHN\"\n",
              "[1117] \"CHN\" \"IDN\" \"IDN\" \"ECU\" \"COL\" \"COL\" \"CUB\" \"EGY\" \"DEU\" \"DEU\" \"DEU\" \"CZE\"\n",
              "[1129] \"KWT\" \"CHN\" \"CHN\" \"CHN\" \"CHN\" \"CHN\" \"CHN\" \"CHN\" \"CHN\" \"CHN\" \"CHN\" \"CHN\"\n",
              "[1141] \"CHN\" \"JPN\" \"CHN\" \"CHN\" \"CHN\" \"JPN\" \"DOM\" \"GHA\" \"IND\" \"IND\" \"IND\" \"IND\"\n",
              "[1153] \"LBY\" \"ISR\" \"FIN\" \"IRN\" \"IND\" \"IND\" \"IND\" \"IND\" \"IND\" \"IND\" \"DNK\" \"CIV\"\n",
              "[1165] \"BRA\" \"BRA\" \"BRA\" \"BRA\" \"BRA\" \"BRA\" \"CAN\" \"CAN\" \"BRA\" \"BRA\" \"BEL\" \"BGD\"\n",
              "[1177] \"AGO\" \"DZA\" \"BGD\" \"AUS\" \"MMR\" \"USA\" \"USA\" \"USA\" \"USA\" \"USA\" \"USA\" \"VEN\"\n",
              "[1189] \"UKR\" \"ARE\" \"UZB\" \"ESP\" \"CHE\" \"SWE\" \"THA\" \"PER\" \"SEN\" \"ZAF\" \"NLD\" \"MAR\"\n",
              "[1201] \"KOR\" \"PHL\" \"MEX\" \"NZL\" \"DEU\" \"CHN\" \"CHN\" \"JPN\" \"COD\" \"IND\" \"IND\" \"GRC\"\n",
              "[1213] \"IRQ\" \"ETH\" \"IRN\" \"CAN\" \"CAN\" \"ARG\" \"AFG\" \"AUT\" \"AUS\" \"TWN\" \"USA\" \"USA\"\n",
              "[1225] \"USA\" \"GBR\" \"TUR\" \"SAU\" \"ZAF\" \"RUS\" \"MEX\" \"NGA\" \"ITA\" \"CHN\" \"KEN\" \"IDN\"\n",
              "[1237] \"COL\" \"EGY\" \"CHN\" \"JPN\" \"IND\" \"FRA\" \"CHL\" \"IND\" \"BRA\" \"BRA\" \"AUS\" \"SGP\"\n",
              "[1249] \"CHN\""
            ]
          },
          "metadata": {}
        }
      ]
    },
    {
      "cell_type": "markdown",
      "source": [
        "By default, R sorts the level names in alphabetical order. If we form a table that has the number of times that\n",
        "each country appears, this is the order that is used:"
      ],
      "metadata": {
        "id": "2RbklEf4SIhO"
      }
    },
    {
      "cell_type": "code",
      "source": [
        "table(islandcities$country)"
      ],
      "metadata": {
        "colab": {
          "base_uri": "https://localhost:8080/",
          "height": 382
        },
        "id": "i0K7pJ1BSDXw",
        "outputId": "8aa64b44-7120-4317-a5be-22fb85894f26"
      },
      "execution_count": null,
      "outputs": [
        {
          "output_type": "display_data",
          "data": {
            "text/plain": [
              "\n",
              "AFG AGO ALB ALD AND ARE ARG ARM ATA ATG AUS AUT AZE BDI BEL BEN BFA BGD BGR BHR \n",
              "  4   7   1   1   1   2  20   1  40   1  36   1   1   1   1   3   2   4   1   1 \n",
              "BHS BIH BLR BLZ BOL BRA BRB BRN BTN BWA CAF CAN CHE CHL CHN CIV CMR COD COG COL \n",
              "  2   2   2   1   6  46   1   1   1   4   4  45   3  13 100   3   6  15   3   9 \n",
              "COM CPV CRI CUB CYP CZE DEU DJI DMA DNK DOM DZA ECU EGY ERI ESP EST ETH FIN FJI \n",
              "  1   1   2   2   1   1   5   1   1   6   2   6   4   8   2   8   1   5   4   1 \n",
              "FRA FSM GAB GBR GEO GHA GIN GMB GNB GNQ GRC GRD GTM GUY HND HRV HTI HUN IDN IND \n",
              " 30   1   3  13   3   1   3   1   1   1   2   1   2   1   1   1   1   1  23  69 \n",
              "IRL IRN IRQ ISL ISR ITA JAM JOR JPN KAZ KEN KGZ KHM KIR KNA KOR KOS KWT LAO LBN \n",
              "  1   9   5   1   2  21   1   1  18  13   4   1   3   1   1   5   1   1   1   1 \n",
              "LBR LBY LCA LIE LKA LSO LTU LUX LVA MAR MCO MDA MDG MDV MEX MHL MKD MLI MLT MMR \n",
              "  1   7   1   1   3   1   1   1   1   7   1   1   5   1  27   1   1   6   1   4 \n",
              "MNE MNG MOZ MRT MUS MWI MYS NAM NER NGA NIC NLD NOR NPL NZL OMN PAK PAN PER PHL \n",
              "  1   5   8   4   1   3   4   7   5  13   1   4   7   1   8   1   9   2  11   8 \n",
              "PLW PNG POL PRK PRT PRY PSE QAT ROU RUS RWA SAH SAU SDN SEN SGP SLB SLE SLV SMR \n",
              "  1   5   3   3   3   2   2   1   3  81   1   1   5   9   3   1   1   1   1   1 \n",
              "SOL SOM SRB SSD STP SUR SVK SVN SWE SWZ SYC SYR TCD TGO THA TJK TKM TLS TON TTO \n",
              "  2   1   2   3   1   2   1   1   4   2   1   2   3   2   4   1   4   1   1   1 \n",
              "TUN TUR TUV TWN TZA UGA UKR URY USA UZB VAT VCT VEN VNM VUT WSM YEM ZAF ZMB ZWE \n",
              "  2   7   1   3   7  10   8   2 114   5   1   1   7   4   1   1   3  13   6   3 "
            ]
          },
          "metadata": {}
        }
      ]
    },
    {
      "cell_type": "markdown",
      "source": [
        "This order of the level names is purely a convenience. We might prefer countries to appear in order of latitude,\n",
        "from North to South. We can change the order of the level names to reflect this desired order:"
      ],
      "metadata": {
        "id": "4qC-hcauSRXD"
      }
    },
    {
      "cell_type": "code",
      "source": [
        "# Convert country column to factor\n",
        "islandcities$country <- as.factor(islandcities$country)\n",
        "\n",
        "lev <- levels(islandcities$country)\n",
        "\n",
        "lev"
      ],
      "metadata": {
        "colab": {
          "base_uri": "https://localhost:8080/",
          "height": 173
        },
        "id": "_D4T_TtxSTi2",
        "outputId": "80ac64da-c08b-4d63-d59f-069aff98e574"
      },
      "execution_count": null,
      "outputs": [
        {
          "output_type": "display_data",
          "data": {
            "text/html": [
              "<style>\n",
              ".list-inline {list-style: none; margin:0; padding: 0}\n",
              ".list-inline>li {display: inline-block}\n",
              ".list-inline>li:not(:last-child)::after {content: \"\\00b7\"; padding: 0 .5ex}\n",
              "</style>\n",
              "<ol class=list-inline><li>'AFG'</li><li>'AGO'</li><li>'ALB'</li><li>'ALD'</li><li>'AND'</li><li>'ARE'</li><li>'ARG'</li><li>'ARM'</li><li>'ATA'</li><li>'ATG'</li><li>'AUS'</li><li>'AUT'</li><li>'AZE'</li><li>'BDI'</li><li>'BEL'</li><li>'BEN'</li><li>'BFA'</li><li>'BGD'</li><li>'BGR'</li><li>'BHR'</li><li>'BHS'</li><li>'BIH'</li><li>'BLR'</li><li>'BLZ'</li><li>'BOL'</li><li>'BRA'</li><li>'BRB'</li><li>'BRN'</li><li>'BTN'</li><li>'BWA'</li><li>'CAF'</li><li>'CAN'</li><li>'CHE'</li><li>'CHL'</li><li>'CHN'</li><li>'CIV'</li><li>'CMR'</li><li>'COD'</li><li>'COG'</li><li>'COL'</li><li>'COM'</li><li>'CPV'</li><li>'CRI'</li><li>'CUB'</li><li>'CYP'</li><li>'CZE'</li><li>'DEU'</li><li>'DJI'</li><li>'DMA'</li><li>'DNK'</li><li>'DOM'</li><li>'DZA'</li><li>'ECU'</li><li>'EGY'</li><li>'ERI'</li><li>'ESP'</li><li>'EST'</li><li>'ETH'</li><li>'FIN'</li><li>'FJI'</li><li>'FRA'</li><li>'FSM'</li><li>'GAB'</li><li>'GBR'</li><li>'GEO'</li><li>'GHA'</li><li>'GIN'</li><li>'GMB'</li><li>'GNB'</li><li>'GNQ'</li><li>'GRC'</li><li>'GRD'</li><li>'GTM'</li><li>'GUY'</li><li>'HND'</li><li>'HRV'</li><li>'HTI'</li><li>'HUN'</li><li>'IDN'</li><li>'IND'</li><li>'IRL'</li><li>'IRN'</li><li>'IRQ'</li><li>'ISL'</li><li>'ISR'</li><li>'ITA'</li><li>'JAM'</li><li>'JOR'</li><li>'JPN'</li><li>'KAZ'</li><li>'KEN'</li><li>'KGZ'</li><li>'KHM'</li><li>'KIR'</li><li>'KNA'</li><li>'KOR'</li><li>'KOS'</li><li>'KWT'</li><li>'LAO'</li><li>'LBN'</li><li>'LBR'</li><li>'LBY'</li><li>'LCA'</li><li>'LIE'</li><li>'LKA'</li><li>'LSO'</li><li>'LTU'</li><li>'LUX'</li><li>'LVA'</li><li>'MAR'</li><li>'MCO'</li><li>'MDA'</li><li>'MDG'</li><li>'MDV'</li><li>'MEX'</li><li>'MHL'</li><li>'MKD'</li><li>'MLI'</li><li>'MLT'</li><li>'MMR'</li><li>'MNE'</li><li>'MNG'</li><li>'MOZ'</li><li>'MRT'</li><li>'MUS'</li><li>'MWI'</li><li>'MYS'</li><li>'NAM'</li><li>'NER'</li><li>'NGA'</li><li>'NIC'</li><li>'NLD'</li><li>'NOR'</li><li>'NPL'</li><li>'NZL'</li><li>'OMN'</li><li>'PAK'</li><li>'PAN'</li><li>'PER'</li><li>'PHL'</li><li>'PLW'</li><li>'PNG'</li><li>'POL'</li><li>'PRK'</li><li>'PRT'</li><li>'PRY'</li><li>'PSE'</li><li>'QAT'</li><li>'ROU'</li><li>'RUS'</li><li>'RWA'</li><li>'SAH'</li><li>'SAU'</li><li>'SDN'</li><li>'SEN'</li><li>'SGP'</li><li>'SLB'</li><li>'SLE'</li><li>'SLV'</li><li>'SMR'</li><li>'SOL'</li><li>'SOM'</li><li>'SRB'</li><li>'SSD'</li><li>'STP'</li><li>'SUR'</li><li>'SVK'</li><li>'SVN'</li><li>'SWE'</li><li>'SWZ'</li><li>'SYC'</li><li>'SYR'</li><li>'TCD'</li><li>'TGO'</li><li>'THA'</li><li>'TJK'</li><li>'TKM'</li><li>'TLS'</li><li>'TON'</li><li>'TTO'</li><li>'TUN'</li><li>'TUR'</li><li>'TUV'</li><li>'TWN'</li><li>'TZA'</li><li>'UGA'</li><li>'UKR'</li><li>'URY'</li><li>'USA'</li><li>'UZB'</li><li>'VAT'</li><li>'VCT'</li><li>'VEN'</li><li>'VNM'</li><li>'VUT'</li><li>'WSM'</li><li>'YEM'</li><li>'ZAF'</li><li>'ZMB'</li><li>'ZWE'</li></ol>\n"
            ],
            "text/markdown": "1. 'AFG'\n2. 'AGO'\n3. 'ALB'\n4. 'ALD'\n5. 'AND'\n6. 'ARE'\n7. 'ARG'\n8. 'ARM'\n9. 'ATA'\n10. 'ATG'\n11. 'AUS'\n12. 'AUT'\n13. 'AZE'\n14. 'BDI'\n15. 'BEL'\n16. 'BEN'\n17. 'BFA'\n18. 'BGD'\n19. 'BGR'\n20. 'BHR'\n21. 'BHS'\n22. 'BIH'\n23. 'BLR'\n24. 'BLZ'\n25. 'BOL'\n26. 'BRA'\n27. 'BRB'\n28. 'BRN'\n29. 'BTN'\n30. 'BWA'\n31. 'CAF'\n32. 'CAN'\n33. 'CHE'\n34. 'CHL'\n35. 'CHN'\n36. 'CIV'\n37. 'CMR'\n38. 'COD'\n39. 'COG'\n40. 'COL'\n41. 'COM'\n42. 'CPV'\n43. 'CRI'\n44. 'CUB'\n45. 'CYP'\n46. 'CZE'\n47. 'DEU'\n48. 'DJI'\n49. 'DMA'\n50. 'DNK'\n51. 'DOM'\n52. 'DZA'\n53. 'ECU'\n54. 'EGY'\n55. 'ERI'\n56. 'ESP'\n57. 'EST'\n58. 'ETH'\n59. 'FIN'\n60. 'FJI'\n61. 'FRA'\n62. 'FSM'\n63. 'GAB'\n64. 'GBR'\n65. 'GEO'\n66. 'GHA'\n67. 'GIN'\n68. 'GMB'\n69. 'GNB'\n70. 'GNQ'\n71. 'GRC'\n72. 'GRD'\n73. 'GTM'\n74. 'GUY'\n75. 'HND'\n76. 'HRV'\n77. 'HTI'\n78. 'HUN'\n79. 'IDN'\n80. 'IND'\n81. 'IRL'\n82. 'IRN'\n83. 'IRQ'\n84. 'ISL'\n85. 'ISR'\n86. 'ITA'\n87. 'JAM'\n88. 'JOR'\n89. 'JPN'\n90. 'KAZ'\n91. 'KEN'\n92. 'KGZ'\n93. 'KHM'\n94. 'KIR'\n95. 'KNA'\n96. 'KOR'\n97. 'KOS'\n98. 'KWT'\n99. 'LAO'\n100. 'LBN'\n101. 'LBR'\n102. 'LBY'\n103. 'LCA'\n104. 'LIE'\n105. 'LKA'\n106. 'LSO'\n107. 'LTU'\n108. 'LUX'\n109. 'LVA'\n110. 'MAR'\n111. 'MCO'\n112. 'MDA'\n113. 'MDG'\n114. 'MDV'\n115. 'MEX'\n116. 'MHL'\n117. 'MKD'\n118. 'MLI'\n119. 'MLT'\n120. 'MMR'\n121. 'MNE'\n122. 'MNG'\n123. 'MOZ'\n124. 'MRT'\n125. 'MUS'\n126. 'MWI'\n127. 'MYS'\n128. 'NAM'\n129. 'NER'\n130. 'NGA'\n131. 'NIC'\n132. 'NLD'\n133. 'NOR'\n134. 'NPL'\n135. 'NZL'\n136. 'OMN'\n137. 'PAK'\n138. 'PAN'\n139. 'PER'\n140. 'PHL'\n141. 'PLW'\n142. 'PNG'\n143. 'POL'\n144. 'PRK'\n145. 'PRT'\n146. 'PRY'\n147. 'PSE'\n148. 'QAT'\n149. 'ROU'\n150. 'RUS'\n151. 'RWA'\n152. 'SAH'\n153. 'SAU'\n154. 'SDN'\n155. 'SEN'\n156. 'SGP'\n157. 'SLB'\n158. 'SLE'\n159. 'SLV'\n160. 'SMR'\n161. 'SOL'\n162. 'SOM'\n163. 'SRB'\n164. 'SSD'\n165. 'STP'\n166. 'SUR'\n167. 'SVK'\n168. 'SVN'\n169. 'SWE'\n170. 'SWZ'\n171. 'SYC'\n172. 'SYR'\n173. 'TCD'\n174. 'TGO'\n175. 'THA'\n176. 'TJK'\n177. 'TKM'\n178. 'TLS'\n179. 'TON'\n180. 'TTO'\n181. 'TUN'\n182. 'TUR'\n183. 'TUV'\n184. 'TWN'\n185. 'TZA'\n186. 'UGA'\n187. 'UKR'\n188. 'URY'\n189. 'USA'\n190. 'UZB'\n191. 'VAT'\n192. 'VCT'\n193. 'VEN'\n194. 'VNM'\n195. 'VUT'\n196. 'WSM'\n197. 'YEM'\n198. 'ZAF'\n199. 'ZMB'\n200. 'ZWE'\n\n\n",
            "text/latex": "\\begin{enumerate*}\n\\item 'AFG'\n\\item 'AGO'\n\\item 'ALB'\n\\item 'ALD'\n\\item 'AND'\n\\item 'ARE'\n\\item 'ARG'\n\\item 'ARM'\n\\item 'ATA'\n\\item 'ATG'\n\\item 'AUS'\n\\item 'AUT'\n\\item 'AZE'\n\\item 'BDI'\n\\item 'BEL'\n\\item 'BEN'\n\\item 'BFA'\n\\item 'BGD'\n\\item 'BGR'\n\\item 'BHR'\n\\item 'BHS'\n\\item 'BIH'\n\\item 'BLR'\n\\item 'BLZ'\n\\item 'BOL'\n\\item 'BRA'\n\\item 'BRB'\n\\item 'BRN'\n\\item 'BTN'\n\\item 'BWA'\n\\item 'CAF'\n\\item 'CAN'\n\\item 'CHE'\n\\item 'CHL'\n\\item 'CHN'\n\\item 'CIV'\n\\item 'CMR'\n\\item 'COD'\n\\item 'COG'\n\\item 'COL'\n\\item 'COM'\n\\item 'CPV'\n\\item 'CRI'\n\\item 'CUB'\n\\item 'CYP'\n\\item 'CZE'\n\\item 'DEU'\n\\item 'DJI'\n\\item 'DMA'\n\\item 'DNK'\n\\item 'DOM'\n\\item 'DZA'\n\\item 'ECU'\n\\item 'EGY'\n\\item 'ERI'\n\\item 'ESP'\n\\item 'EST'\n\\item 'ETH'\n\\item 'FIN'\n\\item 'FJI'\n\\item 'FRA'\n\\item 'FSM'\n\\item 'GAB'\n\\item 'GBR'\n\\item 'GEO'\n\\item 'GHA'\n\\item 'GIN'\n\\item 'GMB'\n\\item 'GNB'\n\\item 'GNQ'\n\\item 'GRC'\n\\item 'GRD'\n\\item 'GTM'\n\\item 'GUY'\n\\item 'HND'\n\\item 'HRV'\n\\item 'HTI'\n\\item 'HUN'\n\\item 'IDN'\n\\item 'IND'\n\\item 'IRL'\n\\item 'IRN'\n\\item 'IRQ'\n\\item 'ISL'\n\\item 'ISR'\n\\item 'ITA'\n\\item 'JAM'\n\\item 'JOR'\n\\item 'JPN'\n\\item 'KAZ'\n\\item 'KEN'\n\\item 'KGZ'\n\\item 'KHM'\n\\item 'KIR'\n\\item 'KNA'\n\\item 'KOR'\n\\item 'KOS'\n\\item 'KWT'\n\\item 'LAO'\n\\item 'LBN'\n\\item 'LBR'\n\\item 'LBY'\n\\item 'LCA'\n\\item 'LIE'\n\\item 'LKA'\n\\item 'LSO'\n\\item 'LTU'\n\\item 'LUX'\n\\item 'LVA'\n\\item 'MAR'\n\\item 'MCO'\n\\item 'MDA'\n\\item 'MDG'\n\\item 'MDV'\n\\item 'MEX'\n\\item 'MHL'\n\\item 'MKD'\n\\item 'MLI'\n\\item 'MLT'\n\\item 'MMR'\n\\item 'MNE'\n\\item 'MNG'\n\\item 'MOZ'\n\\item 'MRT'\n\\item 'MUS'\n\\item 'MWI'\n\\item 'MYS'\n\\item 'NAM'\n\\item 'NER'\n\\item 'NGA'\n\\item 'NIC'\n\\item 'NLD'\n\\item 'NOR'\n\\item 'NPL'\n\\item 'NZL'\n\\item 'OMN'\n\\item 'PAK'\n\\item 'PAN'\n\\item 'PER'\n\\item 'PHL'\n\\item 'PLW'\n\\item 'PNG'\n\\item 'POL'\n\\item 'PRK'\n\\item 'PRT'\n\\item 'PRY'\n\\item 'PSE'\n\\item 'QAT'\n\\item 'ROU'\n\\item 'RUS'\n\\item 'RWA'\n\\item 'SAH'\n\\item 'SAU'\n\\item 'SDN'\n\\item 'SEN'\n\\item 'SGP'\n\\item 'SLB'\n\\item 'SLE'\n\\item 'SLV'\n\\item 'SMR'\n\\item 'SOL'\n\\item 'SOM'\n\\item 'SRB'\n\\item 'SSD'\n\\item 'STP'\n\\item 'SUR'\n\\item 'SVK'\n\\item 'SVN'\n\\item 'SWE'\n\\item 'SWZ'\n\\item 'SYC'\n\\item 'SYR'\n\\item 'TCD'\n\\item 'TGO'\n\\item 'THA'\n\\item 'TJK'\n\\item 'TKM'\n\\item 'TLS'\n\\item 'TON'\n\\item 'TTO'\n\\item 'TUN'\n\\item 'TUR'\n\\item 'TUV'\n\\item 'TWN'\n\\item 'TZA'\n\\item 'UGA'\n\\item 'UKR'\n\\item 'URY'\n\\item 'USA'\n\\item 'UZB'\n\\item 'VAT'\n\\item 'VCT'\n\\item 'VEN'\n\\item 'VNM'\n\\item 'VUT'\n\\item 'WSM'\n\\item 'YEM'\n\\item 'ZAF'\n\\item 'ZMB'\n\\item 'ZWE'\n\\end{enumerate*}\n",
            "text/plain": [
              "  [1] \"AFG\" \"AGO\" \"ALB\" \"ALD\" \"AND\" \"ARE\" \"ARG\" \"ARM\" \"ATA\" \"ATG\" \"AUS\" \"AUT\"\n",
              " [13] \"AZE\" \"BDI\" \"BEL\" \"BEN\" \"BFA\" \"BGD\" \"BGR\" \"BHR\" \"BHS\" \"BIH\" \"BLR\" \"BLZ\"\n",
              " [25] \"BOL\" \"BRA\" \"BRB\" \"BRN\" \"BTN\" \"BWA\" \"CAF\" \"CAN\" \"CHE\" \"CHL\" \"CHN\" \"CIV\"\n",
              " [37] \"CMR\" \"COD\" \"COG\" \"COL\" \"COM\" \"CPV\" \"CRI\" \"CUB\" \"CYP\" \"CZE\" \"DEU\" \"DJI\"\n",
              " [49] \"DMA\" \"DNK\" \"DOM\" \"DZA\" \"ECU\" \"EGY\" \"ERI\" \"ESP\" \"EST\" \"ETH\" \"FIN\" \"FJI\"\n",
              " [61] \"FRA\" \"FSM\" \"GAB\" \"GBR\" \"GEO\" \"GHA\" \"GIN\" \"GMB\" \"GNB\" \"GNQ\" \"GRC\" \"GRD\"\n",
              " [73] \"GTM\" \"GUY\" \"HND\" \"HRV\" \"HTI\" \"HUN\" \"IDN\" \"IND\" \"IRL\" \"IRN\" \"IRQ\" \"ISL\"\n",
              " [85] \"ISR\" \"ITA\" \"JAM\" \"JOR\" \"JPN\" \"KAZ\" \"KEN\" \"KGZ\" \"KHM\" \"KIR\" \"KNA\" \"KOR\"\n",
              " [97] \"KOS\" \"KWT\" \"LAO\" \"LBN\" \"LBR\" \"LBY\" \"LCA\" \"LIE\" \"LKA\" \"LSO\" \"LTU\" \"LUX\"\n",
              "[109] \"LVA\" \"MAR\" \"MCO\" \"MDA\" \"MDG\" \"MDV\" \"MEX\" \"MHL\" \"MKD\" \"MLI\" \"MLT\" \"MMR\"\n",
              "[121] \"MNE\" \"MNG\" \"MOZ\" \"MRT\" \"MUS\" \"MWI\" \"MYS\" \"NAM\" \"NER\" \"NGA\" \"NIC\" \"NLD\"\n",
              "[133] \"NOR\" \"NPL\" \"NZL\" \"OMN\" \"PAK\" \"PAN\" \"PER\" \"PHL\" \"PLW\" \"PNG\" \"POL\" \"PRK\"\n",
              "[145] \"PRT\" \"PRY\" \"PSE\" \"QAT\" \"ROU\" \"RUS\" \"RWA\" \"SAH\" \"SAU\" \"SDN\" \"SEN\" \"SGP\"\n",
              "[157] \"SLB\" \"SLE\" \"SLV\" \"SMR\" \"SOL\" \"SOM\" \"SRB\" \"SSD\" \"STP\" \"SUR\" \"SVK\" \"SVN\"\n",
              "[169] \"SWE\" \"SWZ\" \"SYC\" \"SYR\" \"TCD\" \"TGO\" \"THA\" \"TJK\" \"TKM\" \"TLS\" \"TON\" \"TTO\"\n",
              "[181] \"TUN\" \"TUR\" \"TUV\" \"TWN\" \"TZA\" \"UGA\" \"UKR\" \"URY\" \"USA\" \"UZB\" \"VAT\" \"VCT\"\n",
              "[193] \"VEN\" \"VNM\" \"VUT\" \"WSM\" \"YEM\" \"ZAF\" \"ZMB\" \"ZWE\""
            ]
          },
          "metadata": {}
        }
      ]
    },
    {
      "cell_type": "code",
      "source": [
        "lev[c(7,4,6,2,5,3,1)]"
      ],
      "metadata": {
        "colab": {
          "base_uri": "https://localhost:8080/",
          "height": 34
        },
        "id": "kmda2oXLSvfw",
        "outputId": "c70c6249-b7c6-4a2b-cf2d-b11c15ade8d6"
      },
      "execution_count": null,
      "outputs": [
        {
          "output_type": "display_data",
          "data": {
            "text/html": [
              "<style>\n",
              ".list-inline {list-style: none; margin:0; padding: 0}\n",
              ".list-inline>li {display: inline-block}\n",
              ".list-inline>li:not(:last-child)::after {content: \"\\00b7\"; padding: 0 .5ex}\n",
              "</style>\n",
              "<ol class=list-inline><li>'ARG'</li><li>'ALD'</li><li>'ARE'</li><li>'AGO'</li><li>'AND'</li><li>'ALB'</li><li>'AFG'</li></ol>\n"
            ],
            "text/markdown": "1. 'ARG'\n2. 'ALD'\n3. 'ARE'\n4. 'AGO'\n5. 'AND'\n6. 'ALB'\n7. 'AFG'\n\n\n",
            "text/latex": "\\begin{enumerate*}\n\\item 'ARG'\n\\item 'ALD'\n\\item 'ARE'\n\\item 'AGO'\n\\item 'AND'\n\\item 'ALB'\n\\item 'AFG'\n\\end{enumerate*}\n",
            "text/plain": [
              "[1] \"ARG\" \"ALD\" \"ARE\" \"AGO\" \"AND\" \"ALB\" \"AFG\""
            ]
          },
          "metadata": {}
        }
      ]
    },
    {
      "cell_type": "code",
      "source": [
        " country <- factor(islandcities$country, levels=lev[c(7,4,6,2,5,3,1)])"
      ],
      "metadata": {
        "id": "0nx4_50JWSIH"
      },
      "execution_count": null,
      "outputs": []
    },
    {
      "cell_type": "code",
      "source": [
        " table(country)"
      ],
      "metadata": {
        "colab": {
          "base_uri": "https://localhost:8080/",
          "height": 69
        },
        "id": "LZayFCCbXBsf",
        "outputId": "ae19a1a3-8d87-4313-d9e7-d9920437531c"
      },
      "execution_count": null,
      "outputs": [
        {
          "output_type": "display_data",
          "data": {
            "text/plain": [
              "country\n",
              "ARG ALD ARE AGO AND ALB AFG \n",
              " 20   1   2   7   1   1   4 "
            ]
          },
          "metadata": {}
        }
      ]
    },
    {
      "cell_type": "markdown",
      "source": [
        "In ordered factors, the levels have a specific order, so there are inequalities between them.\n",
        "\n",
        "Factors can lead to unexpected results, so it's important to keep these two things in mind:\n",
        "1. When a character vector becomes a column in a data frame, R automatically converts it into a factor. If you want to keep it as character, wrap it in the `I()` function.\n",
        "2. Sometimes factors are treated as numeric vectors. To ensure you get the character vector, use `as.character(country)`. If you want the numeric levels (1, 2, 3, ...), use `as.numeric(country)`."
      ],
      "metadata": {
        "id": "K7_JVe_uXRD-"
      }
    },
    {
      "cell_type": "markdown",
      "source": [
        "## **7.6 Ordered Factors**\n",
        "\n",
        "In ordered factors, it's the levels that have a specific order. You can create an ordered factor, or convert a regular factor into an ordered one, using the `ordered()` function. Ordered factors are used when the levels represent positions on a scale, like small, medium, large."
      ],
      "metadata": {
        "id": "H_4SU0FQXSly"
      }
    },
    {
      "cell_type": "code",
      "source": [
        " stress.level<-rep(c(\"low\",\"medium\",\"high\"),2)"
      ],
      "metadata": {
        "id": "eSr97uLRXh4z"
      },
      "execution_count": null,
      "outputs": []
    },
    {
      "cell_type": "code",
      "source": [
        " ordf.stress<-ordered(stress.level, levels=c(\"low\",\"medium\",\"high\"))"
      ],
      "metadata": {
        "id": "S-NVSmMiXjt4"
      },
      "execution_count": null,
      "outputs": []
    },
    {
      "cell_type": "code",
      "source": [
        " ordf.stress"
      ],
      "metadata": {
        "colab": {
          "base_uri": "https://localhost:8080/",
          "height": 69
        },
        "id": "Tz_deiiLXnWy",
        "outputId": "5a599bdf-b89d-42b4-cfe0-a1db5c2c75c7"
      },
      "execution_count": null,
      "outputs": [
        {
          "output_type": "display_data",
          "data": {
            "text/html": [
              "<style>\n",
              ".list-inline {list-style: none; margin:0; padding: 0}\n",
              ".list-inline>li {display: inline-block}\n",
              ".list-inline>li:not(:last-child)::after {content: \"\\00b7\"; padding: 0 .5ex}\n",
              "</style>\n",
              "<ol class=list-inline><li>low</li><li>medium</li><li>high</li><li>low</li><li>medium</li><li>high</li></ol>\n",
              "\n",
              "<details>\n",
              "\t<summary style=display:list-item;cursor:pointer>\n",
              "\t\t<strong>Levels</strong>:\n",
              "\t</summary>\n",
              "\t<style>\n",
              "\t.list-inline {list-style: none; margin:0; padding: 0}\n",
              "\t.list-inline>li {display: inline-block}\n",
              "\t.list-inline>li:not(:last-child)::after {content: \"\\00b7\"; padding: 0 .5ex}\n",
              "\t</style>\n",
              "\t<ol class=list-inline><li>'low'</li><li>'medium'</li><li>'high'</li></ol>\n",
              "</details>"
            ],
            "text/markdown": "1. low\n2. medium\n3. high\n4. low\n5. medium\n6. high\n\n\n\n**Levels**: 1. 'low'\n2. 'medium'\n3. 'high'\n\n\n",
            "text/latex": "\\begin{enumerate*}\n\\item low\n\\item medium\n\\item high\n\\item low\n\\item medium\n\\item high\n\\end{enumerate*}\n\n\\emph{Levels}: \\begin{enumerate*}\n\\item 'low'\n\\item 'medium'\n\\item 'high'\n\\end{enumerate*}\n",
            "text/plain": [
              "[1] low    medium high   low    medium high  \n",
              "Levels: low < medium < high"
            ]
          },
          "metadata": {}
        }
      ]
    },
    {
      "cell_type": "code",
      "source": [
        "ordf.stress<\"medium\""
      ],
      "metadata": {
        "colab": {
          "base_uri": "https://localhost:8080/",
          "height": 34
        },
        "id": "SFmkNkDCXuaZ",
        "outputId": "8b4553b8-87f2-42bc-f70a-a5938cde07a9"
      },
      "execution_count": null,
      "outputs": [
        {
          "output_type": "display_data",
          "data": {
            "text/html": [
              "<style>\n",
              ".list-inline {list-style: none; margin:0; padding: 0}\n",
              ".list-inline>li {display: inline-block}\n",
              ".list-inline>li:not(:last-child)::after {content: \"\\00b7\"; padding: 0 .5ex}\n",
              "</style>\n",
              "<ol class=list-inline><li>TRUE</li><li>FALSE</li><li>FALSE</li><li>TRUE</li><li>FALSE</li><li>FALSE</li></ol>\n"
            ],
            "text/markdown": "1. TRUE\n2. FALSE\n3. FALSE\n4. TRUE\n5. FALSE\n6. FALSE\n\n\n",
            "text/latex": "\\begin{enumerate*}\n\\item TRUE\n\\item FALSE\n\\item FALSE\n\\item TRUE\n\\item FALSE\n\\item FALSE\n\\end{enumerate*}\n",
            "text/plain": [
              "[1]  TRUE FALSE FALSE  TRUE FALSE FALSE"
            ]
          },
          "metadata": {}
        }
      ]
    },
    {
      "cell_type": "code",
      "source": [
        "ordf.stress>=\"medium\""
      ],
      "metadata": {
        "colab": {
          "base_uri": "https://localhost:8080/",
          "height": 34
        },
        "id": "Kte5hN5kXxA_",
        "outputId": "848bd84b-e297-4dda-b982-12b8f1c04b75"
      },
      "execution_count": null,
      "outputs": [
        {
          "output_type": "display_data",
          "data": {
            "text/html": [
              "<style>\n",
              ".list-inline {list-style: none; margin:0; padding: 0}\n",
              ".list-inline>li {display: inline-block}\n",
              ".list-inline>li:not(:last-child)::after {content: \"\\00b7\"; padding: 0 .5ex}\n",
              "</style>\n",
              "<ol class=list-inline><li>FALSE</li><li>TRUE</li><li>TRUE</li><li>FALSE</li><li>TRUE</li><li>TRUE</li></ol>\n"
            ],
            "text/markdown": "1. FALSE\n2. TRUE\n3. TRUE\n4. FALSE\n5. TRUE\n6. TRUE\n\n\n",
            "text/latex": "\\begin{enumerate*}\n\\item FALSE\n\\item TRUE\n\\item TRUE\n\\item FALSE\n\\item TRUE\n\\item TRUE\n\\end{enumerate*}\n",
            "text/plain": [
              "[1] FALSE  TRUE  TRUE FALSE  TRUE  TRUE"
            ]
          },
          "metadata": {}
        }
      ]
    },
    {
      "cell_type": "markdown",
      "source": [
        "Ordered factors inherit properties from regular factors, and they have an additional attribute for ordering. When you check the class of an object, you'll see both its own class and any classes it inherits from."
      ],
      "metadata": {
        "id": "AF9lqf0HX6T3"
      }
    },
    {
      "cell_type": "code",
      "source": [
        "class(ordf.stress)"
      ],
      "metadata": {
        "colab": {
          "base_uri": "https://localhost:8080/",
          "height": 34
        },
        "id": "9eaaeLKEX7Dt",
        "outputId": "bffa524e-8e4f-40b0-a113-d51478d75833"
      },
      "execution_count": null,
      "outputs": [
        {
          "output_type": "display_data",
          "data": {
            "text/html": [
              "<style>\n",
              ".list-inline {list-style: none; margin:0; padding: 0}\n",
              ".list-inline>li {display: inline-block}\n",
              ".list-inline>li:not(:last-child)::after {content: \"\\00b7\"; padding: 0 .5ex}\n",
              "</style>\n",
              "<ol class=list-inline><li>'ordered'</li><li>'factor'</li></ol>\n"
            ],
            "text/markdown": "1. 'ordered'\n2. 'factor'\n\n\n",
            "text/latex": "\\begin{enumerate*}\n\\item 'ordered'\n\\item 'factor'\n\\end{enumerate*}\n",
            "text/plain": [
              "[1] \"ordered\" \"factor\" "
            ]
          },
          "metadata": {}
        }
      ]
    },
    {
      "cell_type": "markdown",
      "source": [
        "## **7.7 Lists**\n",
        "\n",
        "Lists allow you to gather various R objects into one container. This could include vectors, matrices, functions, or any other type of data. They can be a mix of different types of objects. As an example, we'll look at the list created by R when you run a linear model (lm) calculation, like the elastic.lm object mentioned in sections 1.1.4 and 2.1.4."
      ],
      "metadata": {
        "id": "8wLiC-BeYBDy"
      }
    },
    {
      "cell_type": "code",
      "source": [
        "elasticband <- data.frame(stretch=c(46,54,48,50,44,42,52),\n",
        " distance=c(148,182,173,166,109,141,166))\n",
        "# it is readily verified that elastic.lm consists of a variety of diffrent kinds of objects,\n",
        "# stored as alist. You can get the names of these objects by typing in\n",
        "elastic.lm <- lm(distance~stretch, data=elasticband)\n",
        "names(elastic.lm)"
      ],
      "metadata": {
        "colab": {
          "base_uri": "https://localhost:8080/",
          "height": 34
        },
        "id": "cJeirwoLYPd-",
        "outputId": "84325b15-5e94-4824-fe37-5f36a5825282"
      },
      "execution_count": 77,
      "outputs": [
        {
          "output_type": "display_data",
          "data": {
            "text/html": [
              "<style>\n",
              ".list-inline {list-style: none; margin:0; padding: 0}\n",
              ".list-inline>li {display: inline-block}\n",
              ".list-inline>li:not(:last-child)::after {content: \"\\00b7\"; padding: 0 .5ex}\n",
              "</style>\n",
              "<ol class=list-inline><li>'coefficients'</li><li>'residuals'</li><li>'effects'</li><li>'rank'</li><li>'fitted.values'</li><li>'assign'</li><li>'qr'</li><li>'df.residual'</li><li>'xlevels'</li><li>'call'</li><li>'terms'</li><li>'model'</li></ol>\n"
            ],
            "text/markdown": "1. 'coefficients'\n2. 'residuals'\n3. 'effects'\n4. 'rank'\n5. 'fitted.values'\n6. 'assign'\n7. 'qr'\n8. 'df.residual'\n9. 'xlevels'\n10. 'call'\n11. 'terms'\n12. 'model'\n\n\n",
            "text/latex": "\\begin{enumerate*}\n\\item 'coefficients'\n\\item 'residuals'\n\\item 'effects'\n\\item 'rank'\n\\item 'fitted.values'\n\\item 'assign'\n\\item 'qr'\n\\item 'df.residual'\n\\item 'xlevels'\n\\item 'call'\n\\item 'terms'\n\\item 'model'\n\\end{enumerate*}\n",
            "text/plain": [
              " [1] \"coefficients\"  \"residuals\"     \"effects\"       \"rank\"         \n",
              " [5] \"fitted.values\" \"assign\"        \"qr\"            \"df.residual\"  \n",
              " [9] \"xlevels\"       \"call\"          \"terms\"         \"model\"        "
            ]
          },
          "metadata": {}
        }
      ]
    },
    {
      "cell_type": "code",
      "source": [
        "# The first list element is:\n",
        "elastic.lm$coefficients"
      ],
      "metadata": {
        "colab": {
          "base_uri": "https://localhost:8080/",
          "height": 34
        },
        "id": "D1tCHH_rZKes",
        "outputId": "58b0f177-d4e2-4224-f39f-e88fea303d4e"
      },
      "execution_count": 79,
      "outputs": [
        {
          "output_type": "display_data",
          "data": {
            "text/html": [
              "<style>\n",
              ".dl-inline {width: auto; margin:0; padding: 0}\n",
              ".dl-inline>dt, .dl-inline>dd {float: none; width: auto; display: inline-block}\n",
              ".dl-inline>dt::after {content: \":\\0020\"; padding-right: .5ex}\n",
              ".dl-inline>dt:not(:first-of-type) {padding-left: .5ex}\n",
              "</style><dl class=dl-inline><dt>(Intercept)</dt><dd>-63.5714285714285</dd><dt>stretch</dt><dd>4.55357142857143</dd></dl>\n"
            ],
            "text/markdown": "(Intercept)\n:   -63.5714285714285stretch\n:   4.55357142857143\n\n",
            "text/latex": "\\begin{description*}\n\\item[(Intercept)] -63.5714285714285\n\\item[stretch] 4.55357142857143\n\\end{description*}\n",
            "text/plain": [
              "(Intercept)     stretch \n",
              " -63.571429    4.553571 "
            ]
          },
          "metadata": {}
        }
      ]
    },
    {
      "cell_type": "code",
      "source": [
        "#Alternative ways to extract this first list element are:\n",
        "elastic.lm[[\"coefficients\"]]\n",
        "elastic.lm[[1]]"
      ],
      "metadata": {
        "colab": {
          "base_uri": "https://localhost:8080/",
          "height": 52
        },
        "id": "ifjt94OQZOII",
        "outputId": "9d30a759-c3b2-4c37-9bc7-fd48f435c493"
      },
      "execution_count": 80,
      "outputs": [
        {
          "output_type": "display_data",
          "data": {
            "text/html": [
              "<style>\n",
              ".dl-inline {width: auto; margin:0; padding: 0}\n",
              ".dl-inline>dt, .dl-inline>dd {float: none; width: auto; display: inline-block}\n",
              ".dl-inline>dt::after {content: \":\\0020\"; padding-right: .5ex}\n",
              ".dl-inline>dt:not(:first-of-type) {padding-left: .5ex}\n",
              "</style><dl class=dl-inline><dt>(Intercept)</dt><dd>-63.5714285714285</dd><dt>stretch</dt><dd>4.55357142857143</dd></dl>\n"
            ],
            "text/markdown": "(Intercept)\n:   -63.5714285714285stretch\n:   4.55357142857143\n\n",
            "text/latex": "\\begin{description*}\n\\item[(Intercept)] -63.5714285714285\n\\item[stretch] 4.55357142857143\n\\end{description*}\n",
            "text/plain": [
              "(Intercept)     stretch \n",
              " -63.571429    4.553571 "
            ]
          },
          "metadata": {}
        },
        {
          "output_type": "display_data",
          "data": {
            "text/html": [
              "<style>\n",
              ".dl-inline {width: auto; margin:0; padding: 0}\n",
              ".dl-inline>dt, .dl-inline>dd {float: none; width: auto; display: inline-block}\n",
              ".dl-inline>dt::after {content: \":\\0020\"; padding-right: .5ex}\n",
              ".dl-inline>dt:not(:first-of-type) {padding-left: .5ex}\n",
              "</style><dl class=dl-inline><dt>(Intercept)</dt><dd>-63.5714285714285</dd><dt>stretch</dt><dd>4.55357142857143</dd></dl>\n"
            ],
            "text/markdown": "(Intercept)\n:   -63.5714285714285stretch\n:   4.55357142857143\n\n",
            "text/latex": "\\begin{description*}\n\\item[(Intercept)] -63.5714285714285\n\\item[stretch] 4.55357142857143\n\\end{description*}\n",
            "text/plain": [
              "(Intercept)     stretch \n",
              " -63.571429    4.553571 "
            ]
          },
          "metadata": {}
        }
      ]
    },
    {
      "cell_type": "markdown",
      "source": [
        "To get the sublist containing only the vector `elastic.lm$coefficients`, you can use either `elastic.lm[\"coefficients\"]` or `elastic.lm[1]`. These commands give slightly different outputs but essentially refer to the same sublist. The output will display information preceded by `$coefficients`, indicating the list element named `coefficients`."
      ],
      "metadata": {
        "id": "uQNYLrJJZqrn"
      }
    },
    {
      "cell_type": "code",
      "source": [
        "#The second list element is a vector of length 7\n",
        "options(digits=3)\n",
        "elastic.lm$residuals"
      ],
      "metadata": {
        "colab": {
          "base_uri": "https://localhost:8080/",
          "height": 52
        },
        "id": "1ZWlt57zZtx5",
        "outputId": "d797e881-646e-4157-f910-6db056e88aa8"
      },
      "execution_count": 81,
      "outputs": [
        {
          "output_type": "display_data",
          "data": {
            "text/html": [
              "<style>\n",
              ".dl-inline {width: auto; margin:0; padding: 0}\n",
              ".dl-inline>dt, .dl-inline>dd {float: none; width: auto; display: inline-block}\n",
              ".dl-inline>dt::after {content: \":\\0020\"; padding-right: .5ex}\n",
              ".dl-inline>dt:not(:first-of-type) {padding-left: .5ex}\n",
              "</style><dl class=dl-inline><dt>1</dt><dd>2.10714285714287</dd><dt>2</dt><dd>-0.321428571428572</dd><dt>3</dt><dd>18</dd><dt>4</dt><dd>1.89285714285714</dd><dt>5</dt><dd>-27.7857142857143</dd><dt>6</dt><dd>13.3214285714286</dd><dt>7</dt><dd>-7.21428571428571</dd></dl>\n"
            ],
            "text/markdown": "1\n:   2.107142857142872\n:   -0.3214285714285723\n:   184\n:   1.892857142857145\n:   -27.78571428571436\n:   13.32142857142867\n:   -7.21428571428571\n\n",
            "text/latex": "\\begin{description*}\n\\item[1] 2.10714285714287\n\\item[2] -0.321428571428572\n\\item[3] 18\n\\item[4] 1.89285714285714\n\\item[5] -27.7857142857143\n\\item[6] 13.3214285714286\n\\item[7] -7.21428571428571\n\\end{description*}\n",
            "text/plain": [
              "      1       2       3       4       5       6       7 \n",
              "  2.107  -0.321  18.000   1.893 -27.786  13.321  -7.214 "
            ]
          },
          "metadata": {}
        }
      ]
    },
    {
      "cell_type": "code",
      "source": [
        "# The tenth list element documents the function call:\n",
        "elastic.lm$call"
      ],
      "metadata": {
        "colab": {
          "base_uri": "https://localhost:8080/",
          "height": 34
        },
        "id": "RsgjUR00ZzpS",
        "outputId": "c80cefe5-6f5b-4dd5-bd02-19815fafeb30"
      },
      "execution_count": 82,
      "outputs": [
        {
          "output_type": "display_data",
          "data": {
            "text/plain": [
              "lm(formula = distance ~ stretch, data = elasticband)"
            ]
          },
          "metadata": {}
        }
      ]
    },
    {
      "cell_type": "code",
      "source": [
        "mode(elastic.lm$call)"
      ],
      "metadata": {
        "colab": {
          "base_uri": "https://localhost:8080/",
          "height": 34
        },
        "id": "jnOQOuUWZ5eU",
        "outputId": "854c15de-3d3b-459e-992c-13216044559d"
      },
      "execution_count": 83,
      "outputs": [
        {
          "output_type": "display_data",
          "data": {
            "text/html": [
              "'call'"
            ],
            "text/markdown": "'call'",
            "text/latex": "'call'",
            "text/plain": [
              "[1] \"call\""
            ]
          },
          "metadata": {}
        }
      ]
    },
    {
      "cell_type": "markdown",
      "source": [
        "## **7.8 Matrices and Arrays**\n",
        "\n",
        "Matrices are simpler than data frames because they contain elements of the same type throughout, such as all numbers or all characters. This makes them useful for mathematical operations that data frames can't handle. Matrices are especially important for users interested in creating new regression or multivariate methods. Matrices can also have more than two dimensions, in which case they are called arrays. It's important to remember that matrices are stored column by column."
      ],
      "metadata": {
        "id": "iZyS6wA_aAQV"
      }
    },
    {
      "cell_type": "code",
      "source": [
        "xx <- matrix(1:6,ncol=3) # Equivalently, enter matrix(1:6,nrow=2)\n",
        "xx"
      ],
      "metadata": {
        "colab": {
          "base_uri": "https://localhost:8080/",
          "height": 132
        },
        "id": "FStasSuzaV-S",
        "outputId": "1eee1c85-202a-4ef0-e2aa-111e78487c33"
      },
      "execution_count": 89,
      "outputs": [
        {
          "output_type": "display_data",
          "data": {
            "text/html": [
              "<table class=\"dataframe\">\n",
              "<caption>A matrix: 2 × 3 of type int</caption>\n",
              "<tbody>\n",
              "\t<tr><td>1</td><td>3</td><td>5</td></tr>\n",
              "\t<tr><td>2</td><td>4</td><td>6</td></tr>\n",
              "</tbody>\n",
              "</table>\n"
            ],
            "text/markdown": "\nA matrix: 2 × 3 of type int\n\n| 1 | 3 | 5 |\n| 2 | 4 | 6 |\n\n",
            "text/latex": "A matrix: 2 × 3 of type int\n\\begin{tabular}{lll}\n\t 1 & 3 & 5\\\\\n\t 2 & 4 & 6\\\\\n\\end{tabular}\n",
            "text/plain": [
              "     [,1] [,2] [,3]\n",
              "[1,] 1    3    5   \n",
              "[2,] 2    4    6   "
            ]
          },
          "metadata": {}
        }
      ]
    },
    {
      "cell_type": "code",
      "source": [
        "#if xx is any matrix , the assignment\n",
        "x <- as.vector(xx)\n",
        "#places columns of xx, in order, into the vector x. In the example above, we get back the elements 1, 2, . . . , 6."
      ],
      "metadata": {
        "id": "0Ou7En-VaZhU"
      },
      "execution_count": 90,
      "outputs": []
    },
    {
      "cell_type": "code",
      "source": [
        "# Matrices have the attribute “dimension”.\n",
        "dim(xx)"
      ],
      "metadata": {
        "colab": {
          "base_uri": "https://localhost:8080/",
          "height": 34
        },
        "id": "cRQli65Caluk",
        "outputId": "27f59f0f-dfc5-4ee3-8ef5-4275a9a21d86"
      },
      "execution_count": 92,
      "outputs": [
        {
          "output_type": "display_data",
          "data": {
            "text/html": [
              "<style>\n",
              ".list-inline {list-style: none; margin:0; padding: 0}\n",
              ".list-inline>li {display: inline-block}\n",
              ".list-inline>li:not(:last-child)::after {content: \"\\00b7\"; padding: 0 .5ex}\n",
              "</style>\n",
              "<ol class=list-inline><li>2</li><li>3</li></ol>\n"
            ],
            "text/markdown": "1. 2\n2. 3\n\n\n",
            "text/latex": "\\begin{enumerate*}\n\\item 2\n\\item 3\n\\end{enumerate*}\n",
            "text/plain": [
              "[1] 2 3"
            ]
          },
          "metadata": {}
        }
      ]
    },
    {
      "cell_type": "code",
      "source": [
        "#in fact a matrix is avector whose dimension attribute has length 2.\n",
        "x34 <- matrix(1:12, ncol=4)\n",
        "x34"
      ],
      "metadata": {
        "colab": {
          "base_uri": "https://localhost:8080/",
          "height": 146
        },
        "id": "uJWbowIyobqg",
        "outputId": "b5605624-bffa-47b9-f201-d2f138524327"
      },
      "execution_count": 93,
      "outputs": [
        {
          "output_type": "display_data",
          "data": {
            "text/html": [
              "<table class=\"dataframe\">\n",
              "<caption>A matrix: 3 × 4 of type int</caption>\n",
              "<tbody>\n",
              "\t<tr><td>1</td><td>4</td><td>7</td><td>10</td></tr>\n",
              "\t<tr><td>2</td><td>5</td><td>8</td><td>11</td></tr>\n",
              "\t<tr><td>3</td><td>6</td><td>9</td><td>12</td></tr>\n",
              "</tbody>\n",
              "</table>\n"
            ],
            "text/markdown": "\nA matrix: 3 × 4 of type int\n\n| 1 | 4 | 7 | 10 |\n| 2 | 5 | 8 | 11 |\n| 3 | 6 | 9 | 12 |\n\n",
            "text/latex": "A matrix: 3 × 4 of type int\n\\begin{tabular}{llll}\n\t 1 & 4 & 7 & 10\\\\\n\t 2 & 5 & 8 & 11\\\\\n\t 3 & 6 & 9 & 12\\\\\n\\end{tabular}\n",
            "text/plain": [
              "     [,1] [,2] [,3] [,4]\n",
              "[1,] 1    4    7    10  \n",
              "[2,] 2    5    8    11  \n",
              "[3,] 3    6    9    12  "
            ]
          },
          "metadata": {}
        }
      ]
    },
    {
      "cell_type": "code",
      "source": [
        "# the extraction of a column or rows or submatrix\n",
        "x34[2:3, c(1,4)]    # extract rows 2 & 3 & columns 1 & 4"
      ],
      "metadata": {
        "colab": {
          "base_uri": "https://localhost:8080/",
          "height": 149
        },
        "id": "F3F-fvdYo0Gk",
        "outputId": "47dc6ac7-939f-49a3-a3f9-20413f3cf258"
      },
      "execution_count": 94,
      "outputs": [
        {
          "output_type": "display_data",
          "data": {
            "text/html": [
              "<table class=\"dataframe\">\n",
              "<caption>A matrix: 2 × 2 of type int</caption>\n",
              "<tbody>\n",
              "\t<tr><td>2</td><td>11</td></tr>\n",
              "\t<tr><td>3</td><td>12</td></tr>\n",
              "</tbody>\n",
              "</table>\n"
            ],
            "text/markdown": "\nA matrix: 2 × 2 of type int\n\n| 2 | 11 |\n| 3 | 12 |\n\n",
            "text/latex": "A matrix: 2 × 2 of type int\n\\begin{tabular}{ll}\n\t 2 & 11\\\\\n\t 3 & 12\\\\\n\\end{tabular}\n",
            "text/plain": [
              "     [,1] [,2]\n",
              "[1,] 2    11  \n",
              "[2,] 3    12  "
            ]
          },
          "metadata": {}
        }
      ]
    },
    {
      "cell_type": "code",
      "source": [
        "x34[2,]    #extract the second row"
      ],
      "metadata": {
        "colab": {
          "base_uri": "https://localhost:8080/",
          "height": 34
        },
        "id": "UBh9X-TKpS7q",
        "outputId": "5ccea8c2-d101-4537-f017-88d7b5eb67ed"
      },
      "execution_count": 95,
      "outputs": [
        {
          "output_type": "display_data",
          "data": {
            "text/html": [
              "<style>\n",
              ".list-inline {list-style: none; margin:0; padding: 0}\n",
              ".list-inline>li {display: inline-block}\n",
              ".list-inline>li:not(:last-child)::after {content: \"\\00b7\"; padding: 0 .5ex}\n",
              "</style>\n",
              "<ol class=list-inline><li>2</li><li>5</li><li>8</li><li>11</li></ol>\n"
            ],
            "text/markdown": "1. 2\n2. 5\n3. 8\n4. 11\n\n\n",
            "text/latex": "\\begin{enumerate*}\n\\item 2\n\\item 5\n\\item 8\n\\item 11\n\\end{enumerate*}\n",
            "text/plain": [
              "[1]  2  5  8 11"
            ]
          },
          "metadata": {}
        }
      ]
    },
    {
      "cell_type": "code",
      "source": [
        "x34[-2,]   #extract all rows except the second"
      ],
      "metadata": {
        "colab": {
          "base_uri": "https://localhost:8080/",
          "height": 114
        },
        "id": "8rs2qsGupc8Q",
        "outputId": "2ce2414b-21fe-4358-cee6-df501e7419e5"
      },
      "execution_count": 96,
      "outputs": [
        {
          "output_type": "display_data",
          "data": {
            "text/html": [
              "<table class=\"dataframe\">\n",
              "<caption>A matrix: 2 × 4 of type int</caption>\n",
              "<tbody>\n",
              "\t<tr><td>1</td><td>4</td><td>7</td><td>10</td></tr>\n",
              "\t<tr><td>3</td><td>6</td><td>9</td><td>12</td></tr>\n",
              "</tbody>\n",
              "</table>\n"
            ],
            "text/markdown": "\nA matrix: 2 × 4 of type int\n\n| 1 | 4 | 7 | 10 |\n| 3 | 6 | 9 | 12 |\n\n",
            "text/latex": "A matrix: 2 × 4 of type int\n\\begin{tabular}{llll}\n\t 1 & 4 & 7 & 10\\\\\n\t 3 & 6 & 9 & 12\\\\\n\\end{tabular}\n",
            "text/plain": [
              "     [,1] [,2] [,3] [,4]\n",
              "[1,] 1    4    7    10  \n",
              "[2,] 3    6    9    12  "
            ]
          },
          "metadata": {}
        }
      ]
    },
    {
      "cell_type": "code",
      "source": [
        "x34[-2,-3]  # extract the matrix obtained by omitting row 2 and col 3"
      ],
      "metadata": {
        "colab": {
          "base_uri": "https://localhost:8080/",
          "height": 132
        },
        "id": "odJxxiGIpmEn",
        "outputId": "fe0a6ea9-84ec-47bd-9e66-bb00d9bf3932"
      },
      "execution_count": 97,
      "outputs": [
        {
          "output_type": "display_data",
          "data": {
            "text/html": [
              "<table class=\"dataframe\">\n",
              "<caption>A matrix: 2 × 3 of type int</caption>\n",
              "<tbody>\n",
              "\t<tr><td>1</td><td>4</td><td>10</td></tr>\n",
              "\t<tr><td>3</td><td>6</td><td>12</td></tr>\n",
              "</tbody>\n",
              "</table>\n"
            ],
            "text/markdown": "\nA matrix: 2 × 3 of type int\n\n| 1 | 4 | 10 |\n| 3 | 6 | 12 |\n\n",
            "text/latex": "A matrix: 2 × 3 of type int\n\\begin{tabular}{lll}\n\t 1 & 4 & 10\\\\\n\t 3 & 6 & 12\\\\\n\\end{tabular}\n",
            "text/plain": [
              "     [,1] [,2] [,3]\n",
              "[1,] 1    4    10  \n",
              "[2,] 3    6    12  "
            ]
          },
          "metadata": {}
        }
      ]
    },
    {
      "cell_type": "markdown",
      "source": [
        "The dimnames() function helps manage row and column names in matrices. It returns a list containing row names as the first element and column names as the second. This concept extends straightforwardly to arrays, which we'll cover next."
      ],
      "metadata": {
        "id": "AvhvTR7Pp4OE"
      }
    },
    {
      "cell_type": "markdown",
      "source": [
        "**7.8.1 Arrays**\n",
        "\n",
        "Extending beyond matrices (which have two dimensions) leads to arrays, which can have more than two dimensions. A matrix is essentially a two-dimensional array. For example, if we have a numeric vector with 24 elements, we can organize them into an array to maintain their order."
      ],
      "metadata": {
        "id": "WzIH08oKp5_D"
      }
    },
    {
      "cell_type": "code",
      "source": [
        "x <- 1:24"
      ],
      "metadata": {
        "id": "LaD1EvBIqHSK"
      },
      "execution_count": 98,
      "outputs": []
    },
    {
      "cell_type": "code",
      "source": [
        "dim(x) <- c(2,12)  # turn this into 2 * 12 matrix.\n",
        "x"
      ],
      "metadata": {
        "colab": {
          "base_uri": "https://localhost:8080/",
          "height": 97
        },
        "id": "koKw79D4qJ4P",
        "outputId": "277b694f-94f8-4432-b824-12eda2cc8090"
      },
      "execution_count": 100,
      "outputs": [
        {
          "output_type": "display_data",
          "data": {
            "text/html": [
              "<table class=\"dataframe\">\n",
              "<caption>A matrix: 2 × 12 of type int</caption>\n",
              "<tbody>\n",
              "\t<tr><td>1</td><td>3</td><td>5</td><td>7</td><td> 9</td><td>11</td><td>13</td><td>15</td><td>17</td><td>19</td><td>21</td><td>23</td></tr>\n",
              "\t<tr><td>2</td><td>4</td><td>6</td><td>8</td><td>10</td><td>12</td><td>14</td><td>16</td><td>18</td><td>20</td><td>22</td><td>24</td></tr>\n",
              "</tbody>\n",
              "</table>\n"
            ],
            "text/markdown": "\nA matrix: 2 × 12 of type int\n\n| 1 | 3 | 5 | 7 |  9 | 11 | 13 | 15 | 17 | 19 | 21 | 23 |\n| 2 | 4 | 6 | 8 | 10 | 12 | 14 | 16 | 18 | 20 | 22 | 24 |\n\n",
            "text/latex": "A matrix: 2 × 12 of type int\n\\begin{tabular}{llllllllllll}\n\t 1 & 3 & 5 & 7 &  9 & 11 & 13 & 15 & 17 & 19 & 21 & 23\\\\\n\t 2 & 4 & 6 & 8 & 10 & 12 & 14 & 16 & 18 & 20 & 22 & 24\\\\\n\\end{tabular}\n",
            "text/plain": [
              "     [,1] [,2] [,3] [,4] [,5] [,6] [,7] [,8] [,9] [,10] [,11] [,12]\n",
              "[1,] 1    3    5    7     9   11   13   15   17   19    21    23   \n",
              "[2,] 2    4    6    8    10   12   14   16   18   20    22    24   "
            ]
          },
          "metadata": {}
        }
      ]
    },
    {
      "cell_type": "code",
      "source": [
        "dim(x) <- c(3,4,2)\n",
        "x"
      ],
      "metadata": {
        "colab": {
          "base_uri": "https://localhost:8080/",
          "height": 34
        },
        "id": "pMw0Ivz0qXR4",
        "outputId": "173cd787-28a3-4313-c68a-2b80533ae7f3"
      },
      "execution_count": 101,
      "outputs": [
        {
          "output_type": "display_data",
          "data": {
            "text/html": [
              "<style>\n",
              ".list-inline {list-style: none; margin:0; padding: 0}\n",
              ".list-inline>li {display: inline-block}\n",
              ".list-inline>li:not(:last-child)::after {content: \"\\00b7\"; padding: 0 .5ex}\n",
              "</style>\n",
              "<ol class=list-inline><li>1</li><li>2</li><li>3</li><li>4</li><li>5</li><li>6</li><li>7</li><li>8</li><li>9</li><li>10</li><li>11</li><li>12</li><li>13</li><li>14</li><li>15</li><li>16</li><li>17</li><li>18</li><li>19</li><li>20</li><li>21</li><li>22</li><li>23</li><li>24</li></ol>\n"
            ],
            "text/markdown": "1. 1\n2. 2\n3. 3\n4. 4\n5. 5\n6. 6\n7. 7\n8. 8\n9. 9\n10. 10\n11. 11\n12. 12\n13. 13\n14. 14\n15. 15\n16. 16\n17. 17\n18. 18\n19. 19\n20. 20\n21. 21\n22. 22\n23. 23\n24. 24\n\n\n",
            "text/latex": "\\begin{enumerate*}\n\\item 1\n\\item 2\n\\item 3\n\\item 4\n\\item 5\n\\item 6\n\\item 7\n\\item 8\n\\item 9\n\\item 10\n\\item 11\n\\item 12\n\\item 13\n\\item 14\n\\item 15\n\\item 16\n\\item 17\n\\item 18\n\\item 19\n\\item 20\n\\item 21\n\\item 22\n\\item 23\n\\item 24\n\\end{enumerate*}\n",
            "text/plain": [
              ", , 1\n",
              "\n",
              "     [,1] [,2] [,3] [,4]\n",
              "[1,]    1    4    7   10\n",
              "[2,]    2    5    8   11\n",
              "[3,]    3    6    9   12\n",
              "\n",
              ", , 2\n",
              "\n",
              "     [,1] [,2] [,3] [,4]\n",
              "[1,]   13   16   19   22\n",
              "[2,]   14   17   20   23\n",
              "[3,]   15   18   21   24\n"
            ]
          },
          "metadata": {}
        }
      ]
    },
    {
      "cell_type": "markdown",
      "source": [
        "**7.8.2 Conversion of Numeric Data frames into Matrices**\n",
        "\n",
        "You can perform certain operations on matrices that you can't do with data frames. If you need to convert between the two, you can use the as.matrix() function."
      ],
      "metadata": {
        "id": "I8h_kunTqhbY"
      }
    },
    {
      "cell_type": "markdown",
      "source": [
        "## **7.9 Exercises**\n",
        "\n",
        "1. Generate the numbers 101, 102, …, 112, and store the result in the vector x."
      ],
      "metadata": {
        "id": "xpfJlpccqwb-"
      }
    },
    {
      "cell_type": "code",
      "source": [
        "x <- 101:112\n",
        "x"
      ],
      "metadata": {
        "colab": {
          "base_uri": "https://localhost:8080/",
          "height": 34
        },
        "id": "QFO-E9UCq_XS",
        "outputId": "bfe8bdf0-314c-423e-cc26-cbd9fdf84106"
      },
      "execution_count": 103,
      "outputs": [
        {
          "output_type": "display_data",
          "data": {
            "text/html": [
              "<style>\n",
              ".list-inline {list-style: none; margin:0; padding: 0}\n",
              ".list-inline>li {display: inline-block}\n",
              ".list-inline>li:not(:last-child)::after {content: \"\\00b7\"; padding: 0 .5ex}\n",
              "</style>\n",
              "<ol class=list-inline><li>101</li><li>102</li><li>103</li><li>104</li><li>105</li><li>106</li><li>107</li><li>108</li><li>109</li><li>110</li><li>111</li><li>112</li></ol>\n"
            ],
            "text/markdown": "1. 101\n2. 102\n3. 103\n4. 104\n5. 105\n6. 106\n7. 107\n8. 108\n9. 109\n10. 110\n11. 111\n12. 112\n\n\n",
            "text/latex": "\\begin{enumerate*}\n\\item 101\n\\item 102\n\\item 103\n\\item 104\n\\item 105\n\\item 106\n\\item 107\n\\item 108\n\\item 109\n\\item 110\n\\item 111\n\\item 112\n\\end{enumerate*}\n",
            "text/plain": [
              " [1] 101 102 103 104 105 106 107 108 109 110 111 112"
            ]
          },
          "metadata": {}
        }
      ]
    },
    {
      "cell_type": "markdown",
      "source": [
        "2. Generate four repeats of the sequence of numbers (4, 6, 3)"
      ],
      "metadata": {
        "id": "X6wx-8L-rHMZ"
      }
    },
    {
      "cell_type": "code",
      "source": [
        "x <- rep(c(4,6,3),4)\n",
        "x"
      ],
      "metadata": {
        "colab": {
          "base_uri": "https://localhost:8080/",
          "height": 34
        },
        "id": "MFly_YN1rLX_",
        "outputId": "3a424082-15d9-43dc-ceea-98608d0520c7"
      },
      "execution_count": 108,
      "outputs": [
        {
          "output_type": "display_data",
          "data": {
            "text/html": [
              "<style>\n",
              ".list-inline {list-style: none; margin:0; padding: 0}\n",
              ".list-inline>li {display: inline-block}\n",
              ".list-inline>li:not(:last-child)::after {content: \"\\00b7\"; padding: 0 .5ex}\n",
              "</style>\n",
              "<ol class=list-inline><li>4</li><li>6</li><li>3</li><li>4</li><li>6</li><li>3</li><li>4</li><li>6</li><li>3</li><li>4</li><li>6</li><li>3</li></ol>\n"
            ],
            "text/markdown": "1. 4\n2. 6\n3. 3\n4. 4\n5. 6\n6. 3\n7. 4\n8. 6\n9. 3\n10. 4\n11. 6\n12. 3\n\n\n",
            "text/latex": "\\begin{enumerate*}\n\\item 4\n\\item 6\n\\item 3\n\\item 4\n\\item 6\n\\item 3\n\\item 4\n\\item 6\n\\item 3\n\\item 4\n\\item 6\n\\item 3\n\\end{enumerate*}\n",
            "text/plain": [
              " [1] 4 6 3 4 6 3 4 6 3 4 6 3"
            ]
          },
          "metadata": {}
        }
      ]
    },
    {
      "cell_type": "markdown",
      "source": [
        "3. Generate the sequence consisting of eight 4s, then seven 6s, and finally nine 3s. Store the numbers obtained , in\n",
        "order, in the columns of a 6 by 4 matrix."
      ],
      "metadata": {
        "id": "qJ-91IqTr4Yi"
      }
    },
    {
      "cell_type": "code",
      "source": [
        "# Create the sequence\n",
        "sequence <- c(rep(4, 8), rep(6, 7), rep(3, 9))\n",
        "\n",
        "# Create a 6 by 4 matrix and fill it with the sequence\n",
        "matrix_sequence <- matrix(sequence, nrow = 6, ncol = 4, byrow = TRUE)\n",
        "matrix_sequence\n"
      ],
      "metadata": {
        "colab": {
          "base_uri": "https://localhost:8080/",
          "height": 240
        },
        "id": "vhLbRQJWsAfn",
        "outputId": "8aef0b2c-2b48-4ecd-9f72-caad4d4b69f8"
      },
      "execution_count": 109,
      "outputs": [
        {
          "output_type": "display_data",
          "data": {
            "text/html": [
              "<table class=\"dataframe\">\n",
              "<caption>A matrix: 6 × 4 of type dbl</caption>\n",
              "<tbody>\n",
              "\t<tr><td>4</td><td>4</td><td>4</td><td>4</td></tr>\n",
              "\t<tr><td>4</td><td>4</td><td>4</td><td>4</td></tr>\n",
              "\t<tr><td>6</td><td>6</td><td>6</td><td>6</td></tr>\n",
              "\t<tr><td>6</td><td>6</td><td>6</td><td>3</td></tr>\n",
              "\t<tr><td>3</td><td>3</td><td>3</td><td>3</td></tr>\n",
              "\t<tr><td>3</td><td>3</td><td>3</td><td>3</td></tr>\n",
              "</tbody>\n",
              "</table>\n"
            ],
            "text/markdown": "\nA matrix: 6 × 4 of type dbl\n\n| 4 | 4 | 4 | 4 |\n| 4 | 4 | 4 | 4 |\n| 6 | 6 | 6 | 6 |\n| 6 | 6 | 6 | 3 |\n| 3 | 3 | 3 | 3 |\n| 3 | 3 | 3 | 3 |\n\n",
            "text/latex": "A matrix: 6 × 4 of type dbl\n\\begin{tabular}{llll}\n\t 4 & 4 & 4 & 4\\\\\n\t 4 & 4 & 4 & 4\\\\\n\t 6 & 6 & 6 & 6\\\\\n\t 6 & 6 & 6 & 3\\\\\n\t 3 & 3 & 3 & 3\\\\\n\t 3 & 3 & 3 & 3\\\\\n\\end{tabular}\n",
            "text/plain": [
              "     [,1] [,2] [,3] [,4]\n",
              "[1,] 4    4    4    4   \n",
              "[2,] 4    4    4    4   \n",
              "[3,] 6    6    6    6   \n",
              "[4,] 6    6    6    3   \n",
              "[5,] 3    3    3    3   \n",
              "[6,] 3    3    3    3   "
            ]
          },
          "metadata": {}
        }
      ]
    },
    {
      "cell_type": "markdown",
      "source": [
        "4. Create a vector consisting of one 1, then two 2’s, three 3’s, etc., and ending with nine 9’s."
      ],
      "metadata": {
        "id": "5hoT6F_wsGtf"
      }
    },
    {
      "cell_type": "code",
      "source": [
        "# Generate the vector\n",
        "sequence <- unlist(sapply(1:9, function(x) rep(x, times = x)))\n",
        "\n",
        "# Print the vector\n",
        "sequence\n"
      ],
      "metadata": {
        "colab": {
          "base_uri": "https://localhost:8080/",
          "height": 52
        },
        "id": "RJTFQQ5gsNzR",
        "outputId": "f762c848-75c6-4ba1-b5a1-df95a6f445d7"
      },
      "execution_count": 110,
      "outputs": [
        {
          "output_type": "display_data",
          "data": {
            "text/html": [
              "<style>\n",
              ".list-inline {list-style: none; margin:0; padding: 0}\n",
              ".list-inline>li {display: inline-block}\n",
              ".list-inline>li:not(:last-child)::after {content: \"\\00b7\"; padding: 0 .5ex}\n",
              "</style>\n",
              "<ol class=list-inline><li>1</li><li>2</li><li>2</li><li>3</li><li>3</li><li>3</li><li>4</li><li>4</li><li>4</li><li>4</li><li>5</li><li>5</li><li>5</li><li>5</li><li>5</li><li>6</li><li>6</li><li>6</li><li>6</li><li>6</li><li>6</li><li>7</li><li>7</li><li>7</li><li>7</li><li>7</li><li>7</li><li>7</li><li>8</li><li>8</li><li>8</li><li>8</li><li>8</li><li>8</li><li>8</li><li>8</li><li>9</li><li>9</li><li>9</li><li>9</li><li>9</li><li>9</li><li>9</li><li>9</li><li>9</li></ol>\n"
            ],
            "text/markdown": "1. 1\n2. 2\n3. 2\n4. 3\n5. 3\n6. 3\n7. 4\n8. 4\n9. 4\n10. 4\n11. 5\n12. 5\n13. 5\n14. 5\n15. 5\n16. 6\n17. 6\n18. 6\n19. 6\n20. 6\n21. 6\n22. 7\n23. 7\n24. 7\n25. 7\n26. 7\n27. 7\n28. 7\n29. 8\n30. 8\n31. 8\n32. 8\n33. 8\n34. 8\n35. 8\n36. 8\n37. 9\n38. 9\n39. 9\n40. 9\n41. 9\n42. 9\n43. 9\n44. 9\n45. 9\n\n\n",
            "text/latex": "\\begin{enumerate*}\n\\item 1\n\\item 2\n\\item 2\n\\item 3\n\\item 3\n\\item 3\n\\item 4\n\\item 4\n\\item 4\n\\item 4\n\\item 5\n\\item 5\n\\item 5\n\\item 5\n\\item 5\n\\item 6\n\\item 6\n\\item 6\n\\item 6\n\\item 6\n\\item 6\n\\item 7\n\\item 7\n\\item 7\n\\item 7\n\\item 7\n\\item 7\n\\item 7\n\\item 8\n\\item 8\n\\item 8\n\\item 8\n\\item 8\n\\item 8\n\\item 8\n\\item 8\n\\item 9\n\\item 9\n\\item 9\n\\item 9\n\\item 9\n\\item 9\n\\item 9\n\\item 9\n\\item 9\n\\end{enumerate*}\n",
            "text/plain": [
              " [1] 1 2 2 3 3 3 4 4 4 4 5 5 5 5 5 6 6 6 6 6 6 7 7 7 7 7 7 7 8 8 8 8 8 8 8 8 9 9\n",
              "[39] 9 9 9 9 9 9 9"
            ]
          },
          "metadata": {}
        }
      ]
    },
    {
      "cell_type": "markdown",
      "source": [
        "5. For each of the following calculations, what you would expect? Check to see if you were right!\n",
        "\n",
        "a)\n",
        "```\n",
        " answer <- c(2, 7, 1, 5, 12, 3, 4)\n",
        "for (j in 2:length(answer)){ answer[j] <- max(answer[j],answer[j-1])}\n",
        "```\n",
        "b)\n",
        "```\n",
        "answer <- c(2, 7, 1, 5, 12, 3, 4)\n",
        "for (j in 2:length(answer)){ answer[j] <- sum(answer[j],answer[j-1])}\n",
        "```"
      ],
      "metadata": {
        "id": "cyOSX8w-sPpn"
      }
    },
    {
      "cell_type": "code",
      "source": [
        "#(1)# Given vector\n",
        "answer <- c(2, 7, 1, 5, 12, 3, 4)\n",
        "\n",
        "# Perform the calculation\n",
        "for (j in 2:length(answer)) {\n",
        "  answer[j] <- max(answer[j], answer[j-1])\n",
        "}\n",
        "\n",
        "# Print the result\n",
        "answer\n"
      ],
      "metadata": {
        "colab": {
          "base_uri": "https://localhost:8080/",
          "height": 34
        },
        "id": "vm4d_RBPsUyD",
        "outputId": "35e46716-ea5e-448d-ef41-a9ea54db3648"
      },
      "execution_count": 111,
      "outputs": [
        {
          "output_type": "display_data",
          "data": {
            "text/html": [
              "<style>\n",
              ".list-inline {list-style: none; margin:0; padding: 0}\n",
              ".list-inline>li {display: inline-block}\n",
              ".list-inline>li:not(:last-child)::after {content: \"\\00b7\"; padding: 0 .5ex}\n",
              "</style>\n",
              "<ol class=list-inline><li>2</li><li>7</li><li>7</li><li>7</li><li>12</li><li>12</li><li>12</li></ol>\n"
            ],
            "text/markdown": "1. 2\n2. 7\n3. 7\n4. 7\n5. 12\n6. 12\n7. 12\n\n\n",
            "text/latex": "\\begin{enumerate*}\n\\item 2\n\\item 7\n\\item 7\n\\item 7\n\\item 12\n\\item 12\n\\item 12\n\\end{enumerate*}\n",
            "text/plain": [
              "[1]  2  7  7  7 12 12 12"
            ]
          },
          "metadata": {}
        }
      ]
    },
    {
      "cell_type": "code",
      "source": [
        "#(2)# Given vector\n",
        "answer <- c(2, 7, 1, 5, 12, 3, 4)\n",
        "\n",
        "# Perform the calculation\n",
        "for (j in 2:length(answer)) {\n",
        "  answer[j] <- sum(answer[j], answer[j-1])\n",
        "}\n",
        "\n",
        "# Print the result\n",
        "answer\n"
      ],
      "metadata": {
        "colab": {
          "base_uri": "https://localhost:8080/",
          "height": 34
        },
        "id": "WbeGom54siLx",
        "outputId": "132d43ce-5670-4dd2-8017-9dfbaef4286e"
      },
      "execution_count": 112,
      "outputs": [
        {
          "output_type": "display_data",
          "data": {
            "text/html": [
              "<style>\n",
              ".list-inline {list-style: none; margin:0; padding: 0}\n",
              ".list-inline>li {display: inline-block}\n",
              ".list-inline>li:not(:last-child)::after {content: \"\\00b7\"; padding: 0 .5ex}\n",
              "</style>\n",
              "<ol class=list-inline><li>2</li><li>9</li><li>10</li><li>15</li><li>27</li><li>30</li><li>34</li></ol>\n"
            ],
            "text/markdown": "1. 2\n2. 9\n3. 10\n4. 15\n5. 27\n6. 30\n7. 34\n\n\n",
            "text/latex": "\\begin{enumerate*}\n\\item 2\n\\item 9\n\\item 10\n\\item 15\n\\item 27\n\\item 30\n\\item 34\n\\end{enumerate*}\n",
            "text/plain": [
              "[1]  2  9 10 15 27 30 34"
            ]
          },
          "metadata": {}
        }
      ]
    },
    {
      "cell_type": "markdown",
      "source": [
        "6. In the built-in data frame airquality (datasets package):\n",
        "\n",
        "(a) Determine, for each of the columns of the data\n",
        "frame airquality (datasets package), the median, mean, upper and lower quartiles, and range;\n",
        "\n",
        "(b) Extract the\n",
        "row or rows for which Ozone has its maximum value;\n",
        "\n",
        "(c) extract the vector of values of Wind for values of\n",
        "Ozone that are above the upper quartile."
      ],
      "metadata": {
        "id": "lwmEksmosrtq"
      }
    },
    {
      "cell_type": "code",
      "source": [
        "# Load the dataset\n",
        "airquality  <- read.csv(\"/content/airquality.csv\")\n",
        "\n",
        "# (a) Summary statistics for each column\n",
        "summary_stats <- function(x) {\n",
        "  med <- median(x, na.rm = TRUE)\n",
        "  mean_val <- mean(x, na.rm = TRUE)\n",
        "  q1 <- quantile(x, 0.25, na.rm = TRUE)\n",
        "  q3 <- quantile(x, 0.75, na.rm = TRUE)\n",
        "  range_val <- range(x, na.rm = TRUE)\n",
        "\n",
        "  return(c(median = med, mean = mean_val, Q1 = q1, Q3 = q3, Range = range_val))\n",
        "}\n",
        "\n",
        "# Apply the summary function to each column\n",
        "summary_df <- sapply(airquality, summary_stats)\n",
        "\n",
        "# Print the summary dataframe\n",
        "print(summary_df)\n"
      ],
      "metadata": {
        "colab": {
          "base_uri": "https://localhost:8080/"
        },
        "id": "WiPGtOEpsw7W",
        "outputId": "09afed01-914a-4ef4-a1ac-1619e6d96487"
      },
      "execution_count": 114,
      "outputs": [
        {
          "output_type": "stream",
          "name": "stdout",
          "text": [
            "       rownames Ozone Solar.R  Wind Temp Month  Day\n",
            "median       77  31.5     205  9.70 79.0  7.00 16.0\n",
            "mean         77  42.1     186  9.96 77.9  6.99 15.8\n",
            "Q1.25%       39  18.0     116  7.40 72.0  6.00  8.0\n",
            "Q3.75%      115  63.2     259 11.50 85.0  8.00 23.0\n",
            "Range1        1   1.0       7  1.70 56.0  5.00  1.0\n",
            "Range2      153 168.0     334 20.70 97.0  9.00 31.0\n"
          ]
        }
      ]
    },
    {
      "cell_type": "code",
      "source": [
        "# (b) Row with maximum Ozone value\n",
        "max_ozone_row <- airquality[which.max(airquality$Ozone), ]\n",
        "print(max_ozone_row)\n",
        "\n"
      ],
      "metadata": {
        "colab": {
          "base_uri": "https://localhost:8080/"
        },
        "id": "UIGpVBGmt0FN",
        "outputId": "e616f818-79dd-41ec-cd76-587ac6afede3"
      },
      "execution_count": 115,
      "outputs": [
        {
          "output_type": "stream",
          "name": "stdout",
          "text": [
            "    rownames Ozone Solar.R Wind Temp Month Day\n",
            "117      117   168     238  3.4   81     8  25\n"
          ]
        }
      ]
    },
    {
      "cell_type": "code",
      "source": [
        "# (c) Values of Wind for Ozone > upper quartile\n",
        "upper_quartile <- quantile(airquality$Ozone, 0.75, na.rm = TRUE)\n",
        "wind_above_upper_quartile <- airquality$Wind[airquality$Ozone > upper_quartile]\n",
        "print(wind_above_upper_quartile)"
      ],
      "metadata": {
        "colab": {
          "base_uri": "https://localhost:8080/"
        },
        "id": "fg-PyBrPt2aZ",
        "outputId": "4328c55f-b7b6-4108-f9a6-2652a9f8167f"
      },
      "execution_count": 116,
      "outputs": [
        {
          "output_type": "stream",
          "name": "stdout",
          "text": [
            " [1]   NA   NA   NA   NA   NA  5.7   NA   NA   NA   NA   NA   NA   NA 13.8   NA\n",
            "[16]   NA   NA   NA   NA   NA   NA   NA   NA   NA   NA   NA   NA   NA  4.1   NA\n",
            "[31]  4.6  5.1  6.3  5.7  7.4   NA   NA  5.1   NA   NA  8.6  8.0  7.4  7.4  6.9\n",
            "[46]  4.6  4.0 10.3  8.0   NA   NA  9.7   NA   NA  3.4  8.0   NA  9.7  2.3  6.3\n",
            "[61]  6.3  6.9  5.1  2.8  4.6   NA\n"
          ]
        }
      ]
    },
    {
      "cell_type": "markdown",
      "source": [
        "7. Refer to the Eurasian snow data that is given in Exercise 1.6 .\n",
        "\n",
        "Find the mean of the snow cover\n",
        "\n",
        "(a) for the oddnumbered years and\n",
        "\n",
        "(b) for the even-numbered years."
      ],
      "metadata": {
        "id": "hBA9uuQ4t8gZ"
      }
    },
    {
      "cell_type": "code",
      "source": [
        "# Eurasian snow dataset (assuming it's already loaded)\n",
        "years <- 1970:1979\n",
        "snow_cover <- c(6.5, 12.0, 14.9, 10.0, 10.7, 7.9, 21.9, 12.5, 14.5, 9.2)\n",
        "# Combine years and snow_cover into a single data vector\n",
        "snow_data <- data.frame(year = years, snow_cover = snow_cover)\n",
        "snow_data\n",
        "# Extracting odd-numbered and even-numbered years\n",
        "odd_years <- snow_data$snow_cover[snow_data$year %% 2 != 0]\n",
        "even_years <- snow_data$snow_cover[snow_data$year %% 2 == 0]\n",
        "\n",
        "# Calculating mean snow cover for odd-numbered and even-numbered years\n",
        "mean_snow_cover_odd <- mean(odd_years, na.rm = TRUE)\n",
        "mean_snow_cover_even <- mean(even_years, na.rm = TRUE)\n",
        "\n",
        "# Printing the results\n",
        "cat(\"Mean snow cover for odd-numbered years:\", mean_snow_cover_odd, \"\\n\")\n",
        "cat(\"Mean snow cover for even-numbered years:\", mean_snow_cover_even, \"\\n\")\n"
      ],
      "metadata": {
        "colab": {
          "base_uri": "https://localhost:8080/",
          "height": 447
        },
        "id": "KLiyLX0it_KM",
        "outputId": "5cb056dc-2faf-4171-eb7e-f78d413d640c"
      },
      "execution_count": 117,
      "outputs": [
        {
          "output_type": "display_data",
          "data": {
            "text/html": [
              "<table class=\"dataframe\">\n",
              "<caption>A data.frame: 10 × 2</caption>\n",
              "<thead>\n",
              "\t<tr><th scope=col>year</th><th scope=col>snow_cover</th></tr>\n",
              "\t<tr><th scope=col>&lt;int&gt;</th><th scope=col>&lt;dbl&gt;</th></tr>\n",
              "</thead>\n",
              "<tbody>\n",
              "\t<tr><td>1970</td><td> 6.5</td></tr>\n",
              "\t<tr><td>1971</td><td>12.0</td></tr>\n",
              "\t<tr><td>1972</td><td>14.9</td></tr>\n",
              "\t<tr><td>1973</td><td>10.0</td></tr>\n",
              "\t<tr><td>1974</td><td>10.7</td></tr>\n",
              "\t<tr><td>1975</td><td> 7.9</td></tr>\n",
              "\t<tr><td>1976</td><td>21.9</td></tr>\n",
              "\t<tr><td>1977</td><td>12.5</td></tr>\n",
              "\t<tr><td>1978</td><td>14.5</td></tr>\n",
              "\t<tr><td>1979</td><td> 9.2</td></tr>\n",
              "</tbody>\n",
              "</table>\n"
            ],
            "text/markdown": "\nA data.frame: 10 × 2\n\n| year &lt;int&gt; | snow_cover &lt;dbl&gt; |\n|---|---|\n| 1970 |  6.5 |\n| 1971 | 12.0 |\n| 1972 | 14.9 |\n| 1973 | 10.0 |\n| 1974 | 10.7 |\n| 1975 |  7.9 |\n| 1976 | 21.9 |\n| 1977 | 12.5 |\n| 1978 | 14.5 |\n| 1979 |  9.2 |\n\n",
            "text/latex": "A data.frame: 10 × 2\n\\begin{tabular}{ll}\n year & snow\\_cover\\\\\n <int> & <dbl>\\\\\n\\hline\n\t 1970 &  6.5\\\\\n\t 1971 & 12.0\\\\\n\t 1972 & 14.9\\\\\n\t 1973 & 10.0\\\\\n\t 1974 & 10.7\\\\\n\t 1975 &  7.9\\\\\n\t 1976 & 21.9\\\\\n\t 1977 & 12.5\\\\\n\t 1978 & 14.5\\\\\n\t 1979 &  9.2\\\\\n\\end{tabular}\n",
            "text/plain": [
              "   year snow_cover\n",
              "1  1970  6.5      \n",
              "2  1971 12.0      \n",
              "3  1972 14.9      \n",
              "4  1973 10.0      \n",
              "5  1974 10.7      \n",
              "6  1975  7.9      \n",
              "7  1976 21.9      \n",
              "8  1977 12.5      \n",
              "9  1978 14.5      \n",
              "10 1979  9.2      "
            ]
          },
          "metadata": {}
        },
        {
          "output_type": "stream",
          "name": "stdout",
          "text": [
            "Mean snow cover for odd-numbered years: 10.3 \n",
            "Mean snow cover for even-numbered years: 13.7 \n"
          ]
        }
      ]
    },
    {
      "cell_type": "markdown",
      "source": [
        "8. Determine which columns of the data frame Cars93 (MASS package) are factors. For each of these factor\n",
        "columns, print out the levels vector. Which of these are ordered factors?"
      ],
      "metadata": {
        "id": "oKVBDWcsw3He"
      }
    },
    {
      "cell_type": "code",
      "source": [
        "# Load the MASS package\n",
        "library(MASS)\n",
        "\n",
        "# Load the Cars93 dataset\n",
        "data(Cars93)\n",
        "\n",
        "# Identify factor columns\n",
        "factor_columns <- sapply(Cars93, is.factor)\n",
        "\n",
        "# Print factor columns and their levels\n",
        "for (column_name in names(Cars93[factor_columns])) {\n",
        "  cat(\"Column:\", column_name, \"\\n\")\n",
        "  cat(\"Levels:\", levels(Cars93[[column_name]]), \"\\n\")\n",
        "\n",
        "  # Check if the factor is ordered\n",
        "  if (is.ordered(Cars93[[column_name]])) {\n",
        "    cat(\"Ordered factor:\", column_name, \"\\n\")\n",
        "  }\n",
        "\n",
        "  cat(\"\\n\")\n",
        "}\n"
      ],
      "metadata": {
        "colab": {
          "base_uri": "https://localhost:8080/"
        },
        "id": "03K9p1Siw-Zd",
        "outputId": "aaec2091-d29d-4dfc-c8bf-753f0dde1a9b"
      },
      "execution_count": 118,
      "outputs": [
        {
          "output_type": "stream",
          "name": "stdout",
          "text": [
            "Column: Manufacturer \n",
            "Levels: Acura Audi BMW Buick Cadillac Chevrolet Chrylser Chrysler Dodge Eagle Ford Geo Honda Hyundai Infiniti Lexus Lincoln Mazda Mercedes-Benz Mercury Mitsubishi Nissan Oldsmobile Plymouth Pontiac Saab Saturn Subaru Suzuki Toyota Volkswagen Volvo \n",
            "\n",
            "Column: Model \n",
            "Levels: 100 190E 240 300E 323 535i 626 850 90 900 Accord Achieva Aerostar Altima Astro Bonneville Camaro Camry Capri Caprice Caravan Cavalier Celica Century Civic Colt Concorde Continental Corrado Corsica Corvette Cougar Crown_Victoria Cutlass_Ciera DeVille Diamante Dynasty ES300 Eighty-Eight Elantra Escort Eurovan Excel Festiva Firebird Fox Grand_Prix Imperial Integra Justy Laser LeBaron LeMans LeSabre Legacy Legend Loyale Lumina Lumina_APV MPV Maxima Metro Mirage Mustang Passat Prelude Previa Probe Protege Q45 Quest RX-7 Riviera Roadmaster SC300 SL Scoupe Sentra Seville Shadow Silhouette Sonata Spirit Stealth Storm Summit Sunbird Swift Taurus Tempo Tercel Town_Car Vision \n",
            "\n",
            "Column: Type \n",
            "Levels: Compact Large Midsize Small Sporty Van \n",
            "\n",
            "Column: AirBags \n",
            "Levels: Driver & Passenger Driver only None \n",
            "\n",
            "Column: DriveTrain \n",
            "Levels: 4WD Front Rear \n",
            "\n",
            "Column: Cylinders \n",
            "Levels: 3 4 5 6 8 rotary \n",
            "\n",
            "Column: Man.trans.avail \n",
            "Levels: No Yes \n",
            "\n",
            "Column: Origin \n",
            "Levels: USA non-USA \n",
            "\n",
            "Column: Make \n",
            "Levels: Acura Integra Acura Legend Audi 100 Audi 90 BMW 535i Buick Century Buick LeSabre Buick Riviera Buick Roadmaster Cadillac DeVille Cadillac Seville Chevrolet Astro Chevrolet Camaro Chevrolet Caprice Chevrolet Cavalier Chevrolet Corsica Chevrolet Corvette Chevrolet Lumina Chevrolet Lumina_APV Chrylser Concorde Chrysler Imperial Chrysler LeBaron Dodge Caravan Dodge Colt Dodge Dynasty Dodge Shadow Dodge Spirit Dodge Stealth Eagle Summit Eagle Vision Ford Aerostar Ford Crown_Victoria Ford Escort Ford Festiva Ford Mustang Ford Probe Ford Taurus Ford Tempo Geo Metro Geo Storm Honda Accord Honda Civic Honda Prelude Hyundai Elantra Hyundai Excel Hyundai Scoupe Hyundai Sonata Infiniti Q45 Lexus ES300 Lexus SC300 Lincoln Continental Lincoln Town_Car Mazda 323 Mazda 626 Mazda MPV Mazda Protege Mazda RX-7 Mercedes-Benz 190E Mercedes-Benz 300E Mercury Capri Mercury Cougar Mitsubishi Diamante Mitsubishi Mirage Nissan Altima Nissan Maxima Nissan Quest Nissan Sentra Oldsmobile Achieva Oldsmobile Cutlass_Ciera Oldsmobile Eighty-Eight Oldsmobile Silhouette Plymouth Laser Pontiac Bonneville Pontiac Firebird Pontiac Grand_Prix Pontiac LeMans Pontiac Sunbird Saab 900 Saturn SL Subaru Justy Subaru Legacy Subaru Loyale Suzuki Swift Toyota Camry Toyota Celica Toyota Previa Toyota Tercel Volkswagen Corrado Volkswagen Eurovan Volkswagen Fox Volkswagen Passat Volvo 240 Volvo 850 \n",
            "\n"
          ]
        }
      ]
    },
    {
      "cell_type": "markdown",
      "source": [
        "9. Use summary() to get information about data in the data frames attitude (both in the datasets\n",
        "package), and cpus (MASS package). Write brief notes, for each of these data sets, on what this reveals."
      ],
      "metadata": {
        "id": "H_tXEl2SxBmO"
      }
    },
    {
      "cell_type": "code",
      "source": [
        "# Load the datasets package\n",
        "library(datasets)\n",
        "\n",
        "# Load the MASS package\n",
        "library(MASS)\n",
        "\n",
        "# Summary of the attitude dataset\n",
        "cat(\"Summary of attitude dataset:\\n\")\n",
        "summary(attitude)\n",
        "cat(\"\\n\")\n",
        "\n",
        "# Summary of the cpus dataset\n",
        "cat(\"Summary of cpus dataset:\\n\")\n",
        "summary(cpus)\n",
        "cat(\"\\n\")\n"
      ],
      "metadata": {
        "colab": {
          "base_uri": "https://localhost:8080/",
          "height": 607
        },
        "id": "Ugs6Yfh7xIlO",
        "outputId": "8e3046e8-b6d7-42cb-d357-a917444fb645"
      },
      "execution_count": 119,
      "outputs": [
        {
          "output_type": "stream",
          "name": "stdout",
          "text": [
            "Summary of attitude dataset:\n"
          ]
        },
        {
          "output_type": "display_data",
          "data": {
            "text/plain": [
              "     rating       complaints     privileges      learning        raises    \n",
              " Min.   :40.0   Min.   :37.0   Min.   :30.0   Min.   :34.0   Min.   :43.0  \n",
              " 1st Qu.:58.8   1st Qu.:58.5   1st Qu.:45.0   1st Qu.:47.0   1st Qu.:58.2  \n",
              " Median :65.5   Median :65.0   Median :51.5   Median :56.5   Median :63.5  \n",
              " Mean   :64.6   Mean   :66.6   Mean   :53.1   Mean   :56.4   Mean   :64.6  \n",
              " 3rd Qu.:71.8   3rd Qu.:77.0   3rd Qu.:62.5   3rd Qu.:66.8   3rd Qu.:71.0  \n",
              " Max.   :85.0   Max.   :90.0   Max.   :83.0   Max.   :75.0   Max.   :88.0  \n",
              "    critical       advance    \n",
              " Min.   :49.0   Min.   :25.0  \n",
              " 1st Qu.:69.2   1st Qu.:35.0  \n",
              " Median :77.5   Median :41.0  \n",
              " Mean   :74.8   Mean   :42.9  \n",
              " 3rd Qu.:80.0   3rd Qu.:47.8  \n",
              " Max.   :92.0   Max.   :72.0  "
            ]
          },
          "metadata": {}
        },
        {
          "output_type": "stream",
          "name": "stdout",
          "text": [
            "\n",
            "Summary of cpus dataset:\n"
          ]
        },
        {
          "output_type": "display_data",
          "data": {
            "text/plain": [
              "             name          syct           mmin            mmax      \n",
              " ADVISOR 32/60 :  1   Min.   :  17   Min.   :   64   Min.   :   64  \n",
              " AMDAHL 470/7A :  1   1st Qu.:  50   1st Qu.:  768   1st Qu.: 4000  \n",
              " AMDAHL 470V/7 :  1   Median : 110   Median : 2000   Median : 8000  \n",
              " AMDAHL 470V/7B:  1   Mean   : 204   Mean   : 2868   Mean   :11796  \n",
              " AMDAHL 470V/7C:  1   3rd Qu.: 225   3rd Qu.: 4000   3rd Qu.:16000  \n",
              " AMDAHL 470V/8 :  1   Max.   :1500   Max.   :32000   Max.   :64000  \n",
              " (Other)       :203                                                 \n",
              "      cach           chmin          chmax            perf         estperf    \n",
              " Min.   :  0.0   Min.   : 0.0   Min.   :  0.0   Min.   :   6   Min.   :  15  \n",
              " 1st Qu.:  0.0   1st Qu.: 1.0   1st Qu.:  5.0   1st Qu.:  27   1st Qu.:  28  \n",
              " Median :  8.0   Median : 2.0   Median :  8.0   Median :  50   Median :  45  \n",
              " Mean   : 25.2   Mean   : 4.7   Mean   : 18.3   Mean   : 106   Mean   :  99  \n",
              " 3rd Qu.: 32.0   3rd Qu.: 6.0   3rd Qu.: 24.0   3rd Qu.: 113   3rd Qu.: 101  \n",
              " Max.   :256.0   Max.   :52.0   Max.   :176.0   Max.   :1150   Max.   :1238  \n",
              "                                                                             "
            ]
          },
          "metadata": {}
        },
        {
          "output_type": "stream",
          "name": "stdout",
          "text": [
            "\n"
          ]
        }
      ]
    },
    {
      "cell_type": "markdown",
      "source": [
        " 10. From the data frame mtcars (MASS package) extract a data frame mtcars6 that holds only the information for\n",
        "cars with 6 cylinders."
      ],
      "metadata": {
        "id": "8-CPrdruxLtO"
      }
    },
    {
      "cell_type": "code",
      "source": [
        "# Load the MASS package\n",
        "library(MASS)\n",
        "\n",
        "# Extract cars with 6 cylinders\n",
        "mtcars6 <- mtcars[mtcars$cyl == 6, ]\n",
        "\n",
        "# View the first few rows of mtcars6\n",
        "head(mtcars6)\n"
      ],
      "metadata": {
        "colab": {
          "base_uri": "https://localhost:8080/",
          "height": 286
        },
        "id": "-4v3oYqrxK7W",
        "outputId": "caf4a75a-662a-4105-8e7d-49780acd6183"
      },
      "execution_count": 120,
      "outputs": [
        {
          "output_type": "display_data",
          "data": {
            "text/html": [
              "<table class=\"dataframe\">\n",
              "<caption>A data.frame: 6 × 11</caption>\n",
              "<thead>\n",
              "\t<tr><th></th><th scope=col>mpg</th><th scope=col>cyl</th><th scope=col>disp</th><th scope=col>hp</th><th scope=col>drat</th><th scope=col>wt</th><th scope=col>qsec</th><th scope=col>vs</th><th scope=col>am</th><th scope=col>gear</th><th scope=col>carb</th></tr>\n",
              "\t<tr><th></th><th scope=col>&lt;dbl&gt;</th><th scope=col>&lt;dbl&gt;</th><th scope=col>&lt;dbl&gt;</th><th scope=col>&lt;dbl&gt;</th><th scope=col>&lt;dbl&gt;</th><th scope=col>&lt;dbl&gt;</th><th scope=col>&lt;dbl&gt;</th><th scope=col>&lt;dbl&gt;</th><th scope=col>&lt;dbl&gt;</th><th scope=col>&lt;dbl&gt;</th><th scope=col>&lt;dbl&gt;</th></tr>\n",
              "</thead>\n",
              "<tbody>\n",
              "\t<tr><th scope=row>Mazda RX4</th><td>21.0</td><td>6</td><td>160</td><td>110</td><td>3.90</td><td>2.62</td><td>16.5</td><td>0</td><td>1</td><td>4</td><td>4</td></tr>\n",
              "\t<tr><th scope=row>Mazda RX4 Wag</th><td>21.0</td><td>6</td><td>160</td><td>110</td><td>3.90</td><td>2.88</td><td>17.0</td><td>0</td><td>1</td><td>4</td><td>4</td></tr>\n",
              "\t<tr><th scope=row>Hornet 4 Drive</th><td>21.4</td><td>6</td><td>258</td><td>110</td><td>3.08</td><td>3.21</td><td>19.4</td><td>1</td><td>0</td><td>3</td><td>1</td></tr>\n",
              "\t<tr><th scope=row>Valiant</th><td>18.1</td><td>6</td><td>225</td><td>105</td><td>2.76</td><td>3.46</td><td>20.2</td><td>1</td><td>0</td><td>3</td><td>1</td></tr>\n",
              "\t<tr><th scope=row>Merc 280</th><td>19.2</td><td>6</td><td>168</td><td>123</td><td>3.92</td><td>3.44</td><td>18.3</td><td>1</td><td>0</td><td>4</td><td>4</td></tr>\n",
              "\t<tr><th scope=row>Merc 280C</th><td>17.8</td><td>6</td><td>168</td><td>123</td><td>3.92</td><td>3.44</td><td>18.9</td><td>1</td><td>0</td><td>4</td><td>4</td></tr>\n",
              "</tbody>\n",
              "</table>\n"
            ],
            "text/markdown": "\nA data.frame: 6 × 11\n\n| <!--/--> | mpg &lt;dbl&gt; | cyl &lt;dbl&gt; | disp &lt;dbl&gt; | hp &lt;dbl&gt; | drat &lt;dbl&gt; | wt &lt;dbl&gt; | qsec &lt;dbl&gt; | vs &lt;dbl&gt; | am &lt;dbl&gt; | gear &lt;dbl&gt; | carb &lt;dbl&gt; |\n|---|---|---|---|---|---|---|---|---|---|---|---|\n| Mazda RX4 | 21.0 | 6 | 160 | 110 | 3.90 | 2.62 | 16.5 | 0 | 1 | 4 | 4 |\n| Mazda RX4 Wag | 21.0 | 6 | 160 | 110 | 3.90 | 2.88 | 17.0 | 0 | 1 | 4 | 4 |\n| Hornet 4 Drive | 21.4 | 6 | 258 | 110 | 3.08 | 3.21 | 19.4 | 1 | 0 | 3 | 1 |\n| Valiant | 18.1 | 6 | 225 | 105 | 2.76 | 3.46 | 20.2 | 1 | 0 | 3 | 1 |\n| Merc 280 | 19.2 | 6 | 168 | 123 | 3.92 | 3.44 | 18.3 | 1 | 0 | 4 | 4 |\n| Merc 280C | 17.8 | 6 | 168 | 123 | 3.92 | 3.44 | 18.9 | 1 | 0 | 4 | 4 |\n\n",
            "text/latex": "A data.frame: 6 × 11\n\\begin{tabular}{r|lllllllllll}\n  & mpg & cyl & disp & hp & drat & wt & qsec & vs & am & gear & carb\\\\\n  & <dbl> & <dbl> & <dbl> & <dbl> & <dbl> & <dbl> & <dbl> & <dbl> & <dbl> & <dbl> & <dbl>\\\\\n\\hline\n\tMazda RX4 & 21.0 & 6 & 160 & 110 & 3.90 & 2.62 & 16.5 & 0 & 1 & 4 & 4\\\\\n\tMazda RX4 Wag & 21.0 & 6 & 160 & 110 & 3.90 & 2.88 & 17.0 & 0 & 1 & 4 & 4\\\\\n\tHornet 4 Drive & 21.4 & 6 & 258 & 110 & 3.08 & 3.21 & 19.4 & 1 & 0 & 3 & 1\\\\\n\tValiant & 18.1 & 6 & 225 & 105 & 2.76 & 3.46 & 20.2 & 1 & 0 & 3 & 1\\\\\n\tMerc 280 & 19.2 & 6 & 168 & 123 & 3.92 & 3.44 & 18.3 & 1 & 0 & 4 & 4\\\\\n\tMerc 280C & 17.8 & 6 & 168 & 123 & 3.92 & 3.44 & 18.9 & 1 & 0 & 4 & 4\\\\\n\\end{tabular}\n",
            "text/plain": [
              "               mpg  cyl disp hp  drat wt   qsec vs am gear carb\n",
              "Mazda RX4      21.0 6   160  110 3.90 2.62 16.5 0  1  4    4   \n",
              "Mazda RX4 Wag  21.0 6   160  110 3.90 2.88 17.0 0  1  4    4   \n",
              "Hornet 4 Drive 21.4 6   258  110 3.08 3.21 19.4 1  0  3    1   \n",
              "Valiant        18.1 6   225  105 2.76 3.46 20.2 1  0  3    1   \n",
              "Merc 280       19.2 6   168  123 3.92 3.44 18.3 1  0  4    4   \n",
              "Merc 280C      17.8 6   168  123 3.92 3.44 18.9 1  0  4    4   "
            ]
          },
          "metadata": {}
        }
      ]
    },
    {
      "cell_type": "markdown",
      "source": [
        "11. From the data frame Cars93 (MASS package), extract a data frame which holds only information for small and\n",
        "sporty cars.\n",
        "\n",
        "```\n",
        "# This is formatted as code\n",
        "```\n",
        "\n"
      ],
      "metadata": {
        "id": "avWI9h7GxVNp"
      }
    },
    {
      "cell_type": "code",
      "source": [
        "# Load the MASS package\n",
        "library(MASS)\n",
        "\n",
        "# Extract small and sporty cars\n",
        "small_sporty_cars <- subset(Cars93, Type %in% c(\"Small\", \"Sporty\"))\n",
        "\n",
        "# View the first few rows of the extracted data frame\n",
        "head(small_sporty_cars)\n"
      ],
      "metadata": {
        "colab": {
          "base_uri": "https://localhost:8080/",
          "height": 411
        },
        "id": "QlDZaKFPxcy-",
        "outputId": "06a50110-4d25-438f-dbf8-b8868ed6f84f"
      },
      "execution_count": 121,
      "outputs": [
        {
          "output_type": "display_data",
          "data": {
            "text/html": [
              "<table class=\"dataframe\">\n",
              "<caption>A data.frame: 6 × 27</caption>\n",
              "<thead>\n",
              "\t<tr><th></th><th scope=col>Manufacturer</th><th scope=col>Model</th><th scope=col>Type</th><th scope=col>Min.Price</th><th scope=col>Price</th><th scope=col>Max.Price</th><th scope=col>MPG.city</th><th scope=col>MPG.highway</th><th scope=col>AirBags</th><th scope=col>DriveTrain</th><th scope=col>⋯</th><th scope=col>Passengers</th><th scope=col>Length</th><th scope=col>Wheelbase</th><th scope=col>Width</th><th scope=col>Turn.circle</th><th scope=col>Rear.seat.room</th><th scope=col>Luggage.room</th><th scope=col>Weight</th><th scope=col>Origin</th><th scope=col>Make</th></tr>\n",
              "\t<tr><th></th><th scope=col>&lt;fct&gt;</th><th scope=col>&lt;fct&gt;</th><th scope=col>&lt;fct&gt;</th><th scope=col>&lt;dbl&gt;</th><th scope=col>&lt;dbl&gt;</th><th scope=col>&lt;dbl&gt;</th><th scope=col>&lt;int&gt;</th><th scope=col>&lt;int&gt;</th><th scope=col>&lt;fct&gt;</th><th scope=col>&lt;fct&gt;</th><th scope=col>⋯</th><th scope=col>&lt;int&gt;</th><th scope=col>&lt;int&gt;</th><th scope=col>&lt;int&gt;</th><th scope=col>&lt;int&gt;</th><th scope=col>&lt;int&gt;</th><th scope=col>&lt;dbl&gt;</th><th scope=col>&lt;int&gt;</th><th scope=col>&lt;int&gt;</th><th scope=col>&lt;fct&gt;</th><th scope=col>&lt;fct&gt;</th></tr>\n",
              "</thead>\n",
              "<tbody>\n",
              "\t<tr><th scope=row>1</th><td>Acura    </td><td>Integra </td><td>Small </td><td>12.9</td><td>15.9</td><td>18.8</td><td>25</td><td>31</td><td>None              </td><td>Front</td><td>⋯</td><td>5</td><td>177</td><td>102</td><td>68</td><td>37</td><td>26.5</td><td>11</td><td>2705</td><td>non-USA</td><td>Acura Integra     </td></tr>\n",
              "\t<tr><th scope=row>14</th><td>Chevrolet</td><td><span style=white-space:pre-wrap>Camaro  </span></td><td>Sporty</td><td>13.4</td><td>15.1</td><td>16.8</td><td>19</td><td>28</td><td>Driver &amp; Passenger</td><td>Rear </td><td>⋯</td><td>4</td><td>193</td><td>101</td><td>74</td><td>43</td><td>25.0</td><td>13</td><td>3240</td><td><span style=white-space:pre-wrap>USA    </span></td><td><span style=white-space:pre-wrap>Chevrolet Camaro  </span></td></tr>\n",
              "\t<tr><th scope=row>19</th><td>Chevrolet</td><td>Corvette</td><td>Sporty</td><td>34.6</td><td>38.0</td><td>41.5</td><td>17</td><td>25</td><td>Driver only       </td><td>Rear </td><td>⋯</td><td>2</td><td>179</td><td> 96</td><td>74</td><td>43</td><td>  NA</td><td>NA</td><td>3380</td><td>USA    </td><td>Chevrolet Corvette</td></tr>\n",
              "\t<tr><th scope=row>23</th><td>Dodge    </td><td>Colt    </td><td>Small </td><td> 7.9</td><td> 9.2</td><td>10.6</td><td>29</td><td>33</td><td>None              </td><td>Front</td><td>⋯</td><td>5</td><td>174</td><td> 98</td><td>66</td><td>32</td><td>26.5</td><td>11</td><td>2270</td><td>USA    </td><td>Dodge Colt        </td></tr>\n",
              "\t<tr><th scope=row>24</th><td>Dodge    </td><td>Shadow  </td><td>Small </td><td> 8.4</td><td>11.3</td><td>14.2</td><td>23</td><td>29</td><td>Driver only       </td><td>Front</td><td>⋯</td><td>5</td><td>172</td><td> 97</td><td>67</td><td>38</td><td>26.5</td><td>13</td><td>2670</td><td>USA    </td><td>Dodge Shadow      </td></tr>\n",
              "\t<tr><th scope=row>28</th><td>Dodge    </td><td>Stealth </td><td>Sporty</td><td>18.5</td><td>25.8</td><td>33.1</td><td>18</td><td>24</td><td>Driver only       </td><td>4WD  </td><td>⋯</td><td>4</td><td>180</td><td> 97</td><td>72</td><td>40</td><td>20.0</td><td>11</td><td>3805</td><td>USA    </td><td>Dodge Stealth     </td></tr>\n",
              "</tbody>\n",
              "</table>\n"
            ],
            "text/markdown": "\nA data.frame: 6 × 27\n\n| <!--/--> | Manufacturer &lt;fct&gt; | Model &lt;fct&gt; | Type &lt;fct&gt; | Min.Price &lt;dbl&gt; | Price &lt;dbl&gt; | Max.Price &lt;dbl&gt; | MPG.city &lt;int&gt; | MPG.highway &lt;int&gt; | AirBags &lt;fct&gt; | DriveTrain &lt;fct&gt; | ⋯ ⋯ | Passengers &lt;int&gt; | Length &lt;int&gt; | Wheelbase &lt;int&gt; | Width &lt;int&gt; | Turn.circle &lt;int&gt; | Rear.seat.room &lt;dbl&gt; | Luggage.room &lt;int&gt; | Weight &lt;int&gt; | Origin &lt;fct&gt; | Make &lt;fct&gt; |\n|---|---|---|---|---|---|---|---|---|---|---|---|---|---|---|---|---|---|---|---|---|---|\n| 1 | Acura     | Integra  | Small  | 12.9 | 15.9 | 18.8 | 25 | 31 | None               | Front | ⋯ | 5 | 177 | 102 | 68 | 37 | 26.5 | 11 | 2705 | non-USA | Acura Integra      |\n| 14 | Chevrolet | Camaro   | Sporty | 13.4 | 15.1 | 16.8 | 19 | 28 | Driver &amp; Passenger | Rear  | ⋯ | 4 | 193 | 101 | 74 | 43 | 25.0 | 13 | 3240 | USA     | Chevrolet Camaro   |\n| 19 | Chevrolet | Corvette | Sporty | 34.6 | 38.0 | 41.5 | 17 | 25 | Driver only        | Rear  | ⋯ | 2 | 179 |  96 | 74 | 43 |   NA | NA | 3380 | USA     | Chevrolet Corvette |\n| 23 | Dodge     | Colt     | Small  |  7.9 |  9.2 | 10.6 | 29 | 33 | None               | Front | ⋯ | 5 | 174 |  98 | 66 | 32 | 26.5 | 11 | 2270 | USA     | Dodge Colt         |\n| 24 | Dodge     | Shadow   | Small  |  8.4 | 11.3 | 14.2 | 23 | 29 | Driver only        | Front | ⋯ | 5 | 172 |  97 | 67 | 38 | 26.5 | 13 | 2670 | USA     | Dodge Shadow       |\n| 28 | Dodge     | Stealth  | Sporty | 18.5 | 25.8 | 33.1 | 18 | 24 | Driver only        | 4WD   | ⋯ | 4 | 180 |  97 | 72 | 40 | 20.0 | 11 | 3805 | USA     | Dodge Stealth      |\n\n",
            "text/latex": "A data.frame: 6 × 27\n\\begin{tabular}{r|lllllllllllllllllllll}\n  & Manufacturer & Model & Type & Min.Price & Price & Max.Price & MPG.city & MPG.highway & AirBags & DriveTrain & ⋯ & Passengers & Length & Wheelbase & Width & Turn.circle & Rear.seat.room & Luggage.room & Weight & Origin & Make\\\\\n  & <fct> & <fct> & <fct> & <dbl> & <dbl> & <dbl> & <int> & <int> & <fct> & <fct> & ⋯ & <int> & <int> & <int> & <int> & <int> & <dbl> & <int> & <int> & <fct> & <fct>\\\\\n\\hline\n\t1 & Acura     & Integra  & Small  & 12.9 & 15.9 & 18.8 & 25 & 31 & None               & Front & ⋯ & 5 & 177 & 102 & 68 & 37 & 26.5 & 11 & 2705 & non-USA & Acura Integra     \\\\\n\t14 & Chevrolet & Camaro   & Sporty & 13.4 & 15.1 & 16.8 & 19 & 28 & Driver \\& Passenger & Rear  & ⋯ & 4 & 193 & 101 & 74 & 43 & 25.0 & 13 & 3240 & USA     & Chevrolet Camaro  \\\\\n\t19 & Chevrolet & Corvette & Sporty & 34.6 & 38.0 & 41.5 & 17 & 25 & Driver only        & Rear  & ⋯ & 2 & 179 &  96 & 74 & 43 &   NA & NA & 3380 & USA     & Chevrolet Corvette\\\\\n\t23 & Dodge     & Colt     & Small  &  7.9 &  9.2 & 10.6 & 29 & 33 & None               & Front & ⋯ & 5 & 174 &  98 & 66 & 32 & 26.5 & 11 & 2270 & USA     & Dodge Colt        \\\\\n\t24 & Dodge     & Shadow   & Small  &  8.4 & 11.3 & 14.2 & 23 & 29 & Driver only        & Front & ⋯ & 5 & 172 &  97 & 67 & 38 & 26.5 & 13 & 2670 & USA     & Dodge Shadow      \\\\\n\t28 & Dodge     & Stealth  & Sporty & 18.5 & 25.8 & 33.1 & 18 & 24 & Driver only        & 4WD   & ⋯ & 4 & 180 &  97 & 72 & 40 & 20.0 & 11 & 3805 & USA     & Dodge Stealth     \\\\\n\\end{tabular}\n",
            "text/plain": [
              "   Manufacturer Model    Type   Min.Price Price Max.Price MPG.city MPG.highway\n",
              "1  Acura        Integra  Small  12.9      15.9  18.8      25       31         \n",
              "14 Chevrolet    Camaro   Sporty 13.4      15.1  16.8      19       28         \n",
              "19 Chevrolet    Corvette Sporty 34.6      38.0  41.5      17       25         \n",
              "23 Dodge        Colt     Small   7.9       9.2  10.6      29       33         \n",
              "24 Dodge        Shadow   Small   8.4      11.3  14.2      23       29         \n",
              "28 Dodge        Stealth  Sporty 18.5      25.8  33.1      18       24         \n",
              "   AirBags            DriveTrain ⋯ Passengers Length Wheelbase Width\n",
              "1  None               Front      ⋯ 5          177    102       68   \n",
              "14 Driver & Passenger Rear       ⋯ 4          193    101       74   \n",
              "19 Driver only        Rear       ⋯ 2          179     96       74   \n",
              "23 None               Front      ⋯ 5          174     98       66   \n",
              "24 Driver only        Front      ⋯ 5          172     97       67   \n",
              "28 Driver only        4WD        ⋯ 4          180     97       72   \n",
              "   Turn.circle Rear.seat.room Luggage.room Weight Origin  Make              \n",
              "1  37          26.5           11           2705   non-USA Acura Integra     \n",
              "14 43          25.0           13           3240   USA     Chevrolet Camaro  \n",
              "19 43            NA           NA           3380   USA     Chevrolet Corvette\n",
              "23 32          26.5           11           2270   USA     Dodge Colt        \n",
              "24 38          26.5           13           2670   USA     Dodge Shadow      \n",
              "28 40          20.0           11           3805   USA     Dodge Stealth     "
            ]
          },
          "metadata": {}
        }
      ]
    }
  ]
}